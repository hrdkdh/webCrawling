{
 "cells": [
  {
   "cell_type": "markdown",
   "metadata": {},
   "source": [
    "### Captures video from CCTV every 10 seconds and saves it"
   ]
  },
  {
   "cell_type": "code",
   "execution_count": null,
   "metadata": {},
   "outputs": [],
   "source": [
    "import pyautogui as pg"
   ]
  },
  {
   "cell_type": "code",
   "execution_count": null,
   "metadata": {},
   "outputs": [],
   "source": [
    "pg.sleep(1)\n",
    "pg.hotkey(\"alt\", \"tab\")\n",
    "pg.sleep(2)\n",
    "\n",
    "cnt = 0\n",
    "while True:\n",
    "    cnt += 1\n",
    "    screenshot = pg.screenshot(\"screenshot_{}.png\".format(cnt), region=(1093, 453, 1787-1093, 841-453))\n",
    "    print(\"{}th screenshot is captured!\".format(cnt))\n",
    "    pg.sleep(10)\n",
    "    if cnt >= 10:\n",
    "        break\n",
    "\n",
    "pg.alert(\"screen capture is done!\")"
   ]
  }
 ],
 "metadata": {
  "kernelspec": {
   "display_name": "Python 3",
   "language": "python",
   "name": "python3"
  },
  "language_info": {
   "codemirror_mode": {
    "name": "ipython",
    "version": 3
   },
   "file_extension": ".py",
   "mimetype": "text/x-python",
   "name": "python",
   "nbconvert_exporter": "python",
   "pygments_lexer": "ipython3",
   "version": "3.9.10"
  },
  "orig_nbformat": 4
 },
 "nbformat": 4,
 "nbformat_minor": 2
}
