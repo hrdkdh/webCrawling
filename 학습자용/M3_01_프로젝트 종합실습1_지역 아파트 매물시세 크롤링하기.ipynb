{
 "cells": [
  {
   "cell_type": "markdown",
   "id": "6cc3a116",
   "metadata": {},
   "source": [
    "### 종합실습1\n",
    "##### Requests 혹은 Selenium 모듈을 이용해 부동산114 모바일 페이지로 접속한 다음, 포항 지역의 아파트 매물 시세 200건을 검색하여 엑셀로 저장해 보세요.\n",
    "##### 링크 : https://m.r114.com/"
   ]
  },
  {
   "cell_type": "markdown",
   "id": "af994a78",
   "metadata": {},
   "source": [
    "### 1. Requests로 크롤링하기"
   ]
  },
  {
   "cell_type": "code",
   "execution_count": null,
   "id": "c09eaab4",
   "metadata": {
    "scrolled": true
   },
   "outputs": [],
   "source": [
    "import requests\n",
    "import pandas as pd\n",
    "from bs4 import BeautifulSoup\n",
    "\n",
    "#SSL Verify 경고 끄기\n",
    "requests.packages.urllib3.disable_warnings(requests.packages.urllib3.exceptions.InsecureRequestWarning)\n",
    "\n",
    "#아래에 코드 작성\n",
    "\n"
   ]
  },
  {
   "cell_type": "markdown",
   "id": "652b3596",
   "metadata": {},
   "source": [
    "### 2. Selenium으로 크롤링하기"
   ]
  },
  {
   "cell_type": "code",
   "execution_count": null,
   "id": "a27c192c",
   "metadata": {},
   "outputs": [],
   "source": [
    "import time\n",
    "import pandas as pd\n",
    "from selenium import webdriver\n",
    "from bs4 import BeautifulSoup\n",
    "\n",
    "#아래에 코드 작성\n",
    "\n"
   ]
  }
 ],
 "metadata": {
  "kernelspec": {
   "display_name": "Python 3",
   "language": "python",
   "name": "python3"
  },
  "language_info": {
   "codemirror_mode": {
    "name": "ipython",
    "version": 3
   },
   "file_extension": ".py",
   "mimetype": "text/x-python",
   "name": "python",
   "nbconvert_exporter": "python",
   "pygments_lexer": "ipython3",
   "version": "3.7.9"
  },
  "toc": {
   "base_numbering": 1,
   "nav_menu": {},
   "number_sections": true,
   "sideBar": true,
   "skip_h1_title": false,
   "title_cell": "Table of Contents",
   "title_sidebar": "Contents",
   "toc_cell": false,
   "toc_position": {},
   "toc_section_display": true,
   "toc_window_display": false
  }
 },
 "nbformat": 4,
 "nbformat_minor": 5
}
