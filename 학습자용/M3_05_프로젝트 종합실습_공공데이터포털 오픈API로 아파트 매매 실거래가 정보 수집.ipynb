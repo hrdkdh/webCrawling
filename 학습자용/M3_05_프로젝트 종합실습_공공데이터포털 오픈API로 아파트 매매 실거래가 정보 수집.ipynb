{
 "cells": [
  {
   "cell_type": "markdown",
   "metadata": {},
   "source": [
    "### 프로젝트 종합실습\n",
    "##### '공동데이터포털'에서 제공하는 '국토교통부_아파트매매 실거래자료' 오픈API를 신청하고, Requests 모듈을 이용해 원하는 지역의 지난달 아파트 매매 실거래가 정보를 수집한 후 화면에 출력하거나 엑셀 파일로 저장해 보세요.\n",
    "##### 링크 : https://www.data.go.kr/   검색어는 '국토교통부_아파트매매 실거래자료'"
   ]
  },
  {
   "cell_type": "markdown",
   "metadata": {},
   "source": [
    " - 힌트 : API 요청이 정상적으로 실행되면 결과물은 XML 형식으로 response됩니다. XML을 파싱을 도와주는 xmltodict 패키지를 이용해 보세요."
   ]
  },
  {
   "cell_type": "code",
   "execution_count": 1,
   "metadata": {
    "scrolled": true
   },
   "outputs": [],
   "source": [
    "import requests\n",
    "import xmltodict\n",
    "import pandas as pd\n",
    "\n",
    "#아래에 코드 작성"
   ]
  }
 ],
 "metadata": {
  "kernelspec": {
   "display_name": "Python 3",
   "language": "python",
   "name": "python3"
  },
  "language_info": {
   "codemirror_mode": {
    "name": "ipython",
    "version": 3
   },
   "file_extension": ".py",
   "mimetype": "text/x-python",
   "name": "python",
   "nbconvert_exporter": "python",
   "pygments_lexer": "ipython3",
   "version": "3.6.5"
  },
  "toc": {
   "base_numbering": 1,
   "nav_menu": {},
   "number_sections": true,
   "sideBar": true,
   "skip_h1_title": false,
   "title_cell": "Table of Contents",
   "title_sidebar": "Contents",
   "toc_cell": false,
   "toc_position": {},
   "toc_section_display": true,
   "toc_window_display": false
  }
 },
 "nbformat": 4,
 "nbformat_minor": 5
}
