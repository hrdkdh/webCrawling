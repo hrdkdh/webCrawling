{
 "cells": [
  {
   "cell_type": "markdown",
   "id": "6cc3a116",
   "metadata": {},
   "source": [
    "### 종합실습4\n",
    "##### Requests 모듈을 이용해 unsplash.com에서 제공하는 RESTful API에 연결, 원하는 이미지들을 PC에 대량으로 저장해 보세요. (최소 100장, 검색어는 'office') \n",
    "##### *api.unsplash.com 접속 후 개발자로 회원가입, api key 발급받아야 함\n",
    "##### 링크 : https://api.unsplash.com"
   ]
  },
  {
   "cell_type": "code",
   "execution_count": null,
   "id": "c09eaab4",
   "metadata": {
    "scrolled": true
   },
   "outputs": [],
   "source": [
    "import json\n",
    "import requests\n",
    "\n",
    "#SSL Verify 경고 끄기\n",
    "requests.packages.urllib3.disable_warnings(requests.packages.urllib3.exceptions.InsecureRequestWarning)\n",
    "\n",
    "#아래에 코드 작성\n",
    "\n"
   ]
  }
 ],
 "metadata": {
  "kernelspec": {
   "display_name": "Python 3",
   "language": "python",
   "name": "python3"
  },
  "language_info": {
   "codemirror_mode": {
    "name": "ipython",
    "version": 3
   },
   "file_extension": ".py",
   "mimetype": "text/x-python",
   "name": "python",
   "nbconvert_exporter": "python",
   "pygments_lexer": "ipython3",
   "version": "3.7.9"
  },
  "toc": {
   "base_numbering": 1,
   "nav_menu": {},
   "number_sections": true,
   "sideBar": true,
   "skip_h1_title": false,
   "title_cell": "Table of Contents",
   "title_sidebar": "Contents",
   "toc_cell": false,
   "toc_position": {},
   "toc_section_display": true,
   "toc_window_display": false
  }
 },
 "nbformat": 4,
 "nbformat_minor": 5
}
