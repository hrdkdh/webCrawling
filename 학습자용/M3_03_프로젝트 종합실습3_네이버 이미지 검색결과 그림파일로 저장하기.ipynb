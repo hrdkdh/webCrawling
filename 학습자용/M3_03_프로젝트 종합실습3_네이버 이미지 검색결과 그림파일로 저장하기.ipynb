{
 "cells": [
  {
   "cell_type": "markdown",
   "id": "6cc3a116",
   "metadata": {},
   "source": [
    "### 종합실습3\n",
    "##### Requests 혹은 Selenium 모듈을 이용해 네이버 이미지 검색에서 아이유를 검색하고, 검색결과 이미지들을 PC에 저장해 보세요."
   ]
  },
  {
   "cell_type": "markdown",
   "id": "e4303221",
   "metadata": {},
   "source": [
    "  - 힌트1 : (Selenium의 경우만 해당) 이미지 파일의 URL 확인은 Selenium으로 하되, 이미지 파일 다운로드는 Requests 모듈로 하여야 합니다. requests.get(url=\"이미지 파일 URL\") 형태로 이미지 데이터를 로드한 후 파일로 저장하세요.\n",
    "  - 힌트2 : requests객체.content 멤버변수를 이용해 바이트 데이터로 이미지를 로드하세요.\n",
    "  - 힌트3 : 로드한 바이트 데이터를 이미지 파일로 저장하기 위해서는 파이썬 내장함수인 open() 함수를 사용하면 됩니다. 예) open(저장할 파일명, \"wb\").write(바이트 데이터)\n",
    "  - 힌트4 : response받은 이미지를 제대로 저장하기 위해서는 이미지 파일의 확장자(jpg, png 등) 확인이 필요할 것입니다. requests객체.headers[\"Content-Disposition\"] 형태로 확인해 보세요."
   ]
  },
  {
   "cell_type": "markdown",
   "id": "af994a78",
   "metadata": {},
   "source": [
    "### 1. Requests로 크롤링하기"
   ]
  },
  {
   "cell_type": "code",
   "execution_count": null,
   "id": "c09eaab4",
   "metadata": {
    "scrolled": true
   },
   "outputs": [],
   "source": [
    "import json\n",
    "import requests\n",
    "import urllib.parse\n",
    "\n",
    "#SSL Verify 경고 끄기\n",
    "requests.packages.urllib3.disable_warnings(requests.packages.urllib3.exceptions.InsecureRequestWarning)\n",
    "\n",
    "#아래에 코드 작성\n",
    "\n"
   ]
  },
  {
   "cell_type": "markdown",
   "id": "652b3596",
   "metadata": {},
   "source": [
    "### 2. Selenium으로 크롤링하기"
   ]
  },
  {
   "cell_type": "code",
   "execution_count": null,
   "id": "a27c192c",
   "metadata": {},
   "outputs": [],
   "source": [
    "import requests\n",
    "import urllib.parse\n",
    "from selenium import webdriver\n",
    "from bs4 import BeautifulSoup\n",
    "\n",
    "#SSL Verify 경고 끄기\n",
    "requests.packages.urllib3.disable_warnings(requests.packages.urllib3.exceptions.InsecureRequestWarning)\n",
    "\n",
    "#아래에 코드 작성\n",
    "\n"
   ]
  }
 ],
 "metadata": {
  "kernelspec": {
   "display_name": "Python 3",
   "language": "python",
   "name": "python3"
  },
  "language_info": {
   "codemirror_mode": {
    "name": "ipython",
    "version": 3
   },
   "file_extension": ".py",
   "mimetype": "text/x-python",
   "name": "python",
   "nbconvert_exporter": "python",
   "pygments_lexer": "ipython3",
   "version": "3.7.9"
  },
  "toc": {
   "base_numbering": 1,
   "nav_menu": {},
   "number_sections": true,
   "sideBar": true,
   "skip_h1_title": false,
   "title_cell": "Table of Contents",
   "title_sidebar": "Contents",
   "toc_cell": false,
   "toc_position": {},
   "toc_section_display": true,
   "toc_window_display": false
  }
 },
 "nbformat": 4,
 "nbformat_minor": 5
}
