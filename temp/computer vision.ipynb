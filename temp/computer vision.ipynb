{
 "cells": [
  {
   "cell_type": "code",
   "execution_count": 9,
   "metadata": {},
   "outputs": [],
   "source": [
    "#opencv package load\n",
    "#if you don't have opencv package, you can install opencv package using 'pip install opencv-python'\n",
    "import cv2\n",
    "\n",
    "src = cv2.imread(\"sample.jpg\") #load sample.jpg image, and convert to array\n",
    "src_hsv = cv2.cvtColor(src, cv2.COLOR_BGR2HSV)  #BGR to HSV color space convert\n",
    "\n",
    "def on_trackbar(pos): #don't care this function, just\n",
    "    pass\n",
    "\n",
    "cv2.imshow(\"src\", src) #create src window to preview\n",
    "cv2.namedWindow(\"dst\")  #create dst window to preview\n",
    "\n",
    "cv2.createTrackbar(\"H_min\", \"dst\", 50, 179, on_trackbar) #create H_min trackbar, initial value is 50, max value is 179\n",
    "cv2.createTrackbar(\"H_max\", \"dst\", 80, 179, on_trackbar) #create H_max trackbar, initial value is 80, max value is 179\n",
    "\n",
    "#loop for trackbar\n",
    "while True:\n",
    "    hmin = cv2.getTrackbarPos(\"H_min\", \"dst\")\n",
    "    hmax = cv2.getTrackbarPos(\"H_max\", \"dst\")\n",
    "    dst = cv2.inRange(src_hsv, (hmin, 0, 0), (hmax, 255, 255))\n",
    "    dst = cv2.cvtColor(dst, cv2.COLOR_GRAY2BGR)\n",
    "    dst = cv2.subtract(src, ~dst)\n",
    "    cv2.imshow(\"dst\", dst)\n",
    "    if cv2.waitKey(1) == 27:\n",
    "        break\n",
    "cv2.destroyAllWindows()"
   ]
  }
 ],
 "metadata": {
  "kernelspec": {
   "display_name": "Python 3",
   "language": "python",
   "name": "python3"
  },
  "language_info": {
   "codemirror_mode": {
    "name": "ipython",
    "version": 3
   },
   "file_extension": ".py",
   "mimetype": "text/x-python",
   "name": "python",
   "nbconvert_exporter": "python",
   "pygments_lexer": "ipython3",
   "version": "3.9.10"
  },
  "orig_nbformat": 4
 },
 "nbformat": 4,
 "nbformat_minor": 2
}
