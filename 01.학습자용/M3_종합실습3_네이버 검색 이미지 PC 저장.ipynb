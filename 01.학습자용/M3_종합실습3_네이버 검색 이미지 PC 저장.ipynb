{
 "cells": [
  {
   "cell_type": "markdown",
   "metadata": {},
   "source": [
    "### 종합실습3"
   ]
  },
  {
   "cell_type": "markdown",
   "metadata": {},
   "source": [
    "Requests 혹은 Selenium 모듈을 이용해 네이버 이미지 검색에서 아이유를 검색하고,<br>\n",
    "검색결과 이미지들을 PC에 저장해 보세요. (50장 이상 저장)"
   ]
  },
  {
   "cell_type": "markdown",
   "metadata": {},
   "source": [
    "- 힌트1 : (Selenium의 경우만 해당) 이미지 파일의 URL 확인은 Selenium으로 하되, <br> \n",
    "이미지 파일 다운로드는 Requests 모듈로 하여야 합니다. <br>\n",
    "requests.get(url=\"이미지 파일 URL\") 형태로 이미지 데이터를 로드한 후 파일로 저장하세요.\n",
    "- 힌트2 : requests객체.content 멤버변수를 이용해 바이트 데이터로 이미지를 로드하세요.\n",
    "- 힌트3 : 로드한 바이트 데이터를 이미지 파일로 저장하기 위해서는 파이썬 내장함수인 open() 함수를 사용하면 됩니다. <br>\n",
    "예) open(저장할 파일명, \"wb\").write(바이트 데이터)\n",
    "- 힌트4 : response받은 이미지를 제대로 저장하기 위해서는 이미지 파일의 확장자(jpg, png 등) 확인이 필요할 것입니다.<br>\n",
    "requests객체.headers[\"Content-Disposition\"] 형태로 확인해 보거나, headers[\"Content-Type\"]을 통해 확인해 보세요."
   ]
  },
  {
   "cell_type": "markdown",
   "metadata": {},
   "source": [
    "#### requests모듈"
   ]
  },
  {
   "cell_type": "code",
   "execution_count": null,
   "metadata": {},
   "outputs": [],
   "source": [
    "import json\n",
    "import urllib\n",
    "import requests\n",
    "\n",
    "#아래에 코드 작성"
   ]
  },
  {
   "cell_type": "markdown",
   "metadata": {},
   "source": [
    "#### selenium모듈"
   ]
  },
  {
   "cell_type": "code",
   "execution_count": null,
   "metadata": {},
   "outputs": [],
   "source": [
    "import time\n",
    "import urllib\n",
    "import requests\n",
    "from bs4 import BeautifulSoup\n",
    "from selenium import webdriver\n",
    "\n",
    "#아래에 코드 작성"
   ]
  }
 ],
 "metadata": {
  "kernelspec": {
   "display_name": "Python 3.8.10 64-bit",
   "language": "python",
   "name": "python3"
  },
  "language_info": {
   "codemirror_mode": {
    "name": "ipython",
    "version": 3
   },
   "file_extension": ".py",
   "mimetype": "text/x-python",
   "name": "python",
   "nbconvert_exporter": "python",
   "pygments_lexer": "ipython3",
   "version": "3.8.10"
  },
  "orig_nbformat": 4,
  "vscode": {
   "interpreter": {
    "hash": "e2782e0ab7cab974e8fb2dfc8cec048a29dc3b50e54743df0c4a34ac41b2be7e"
   }
  }
 },
 "nbformat": 4,
 "nbformat_minor": 2
}
