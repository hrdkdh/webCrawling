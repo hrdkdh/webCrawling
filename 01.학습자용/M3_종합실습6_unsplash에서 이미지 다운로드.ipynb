{
 "cells": [
  {
   "cell_type": "markdown",
   "metadata": {},
   "source": [
    "### 종합실습6"
   ]
  },
  {
   "cell_type": "markdown",
   "metadata": {},
   "source": [
    "Requests 모듈을 이용해 unsplash.com에서 제공하는 RESTful API에 연결,<br>\n",
    "원하는 이미지들을 PC에 대량으로 저장해 보세요. (최소 100장, 검색어는 'office')<br>\n",
    "*api.unsplash.com 접속 후 개발자로 회원가입, api key 발급받아야 함"
   ]
  },
  {
   "cell_type": "markdown",
   "metadata": {},
   "source": [
    "- 링크 : https://api.unsplash.com"
   ]
  },
  {
   "cell_type": "markdown",
   "metadata": {},
   "source": [
    "힌트1 : requests객체.content 멤버변수를 이용해 바이트 데이터로 이미지를 로드하세요.<br>\n",
    "힌트2 : 로드한 바이트 데이터를 이미지 파일로 저장하기 위해서는 파이썬 내장함수인 open() 함수를 사용하면 됩니다.<br>\n",
    "예) open(저장할 파일명, \"wb\").write(바이트 데이터)<br>\n",
    "힌트3 : response받은 이미지를 제대로 저장하기 위해서는 이미지 파일의 확장자(jpg, png 등) 확인이 필요할 것입니다.<br>\n",
    "requests객체.headers[\"Content-Disposition\"] 형태로 확인해 보세요."
   ]
  },
  {
   "cell_type": "code",
   "execution_count": null,
   "metadata": {},
   "outputs": [],
   "source": [
    "import json\n",
    "import requests\n",
    "\n",
    "#SSL Verify 경고 끄기\n",
    "requests.packages.urllib3.disable_warnings(requests.packages.urllib3.exceptions.InsecureRequestWarning)\n",
    "\n",
    "#아래에 코드 작성"
   ]
  }
 ],
 "metadata": {
  "kernelspec": {
   "display_name": "Python 3.8.10 64-bit",
   "language": "python",
   "name": "python3"
  },
  "language_info": {
   "codemirror_mode": {
    "name": "ipython",
    "version": 3
   },
   "file_extension": ".py",
   "mimetype": "text/x-python",
   "name": "python",
   "nbconvert_exporter": "python",
   "pygments_lexer": "ipython3",
   "version": "3.8.10"
  },
  "orig_nbformat": 4,
  "vscode": {
   "interpreter": {
    "hash": "e2782e0ab7cab974e8fb2dfc8cec048a29dc3b50e54743df0c4a34ac41b2be7e"
   }
  }
 },
 "nbformat": 4,
 "nbformat_minor": 2
}
