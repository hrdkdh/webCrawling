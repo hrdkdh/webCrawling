{
 "cells": [
  {
   "cell_type": "markdown",
   "metadata": {},
   "source": [
    "### 연습1) Selenium으로 클릭하기"
   ]
  },
  {
   "cell_type": "markdown",
   "metadata": {},
   "source": [
    "실제 네이버(https://www.naver.com) 웹 사이트에 접속하여,<br>\n",
    "메인에 있는 웹툰 버튼을 클릭해 웹툰 홈페이지로 이동하는 코드를 작성해 봅시다."
   ]
  },
  {
   "cell_type": "code",
   "execution_count": null,
   "metadata": {},
   "outputs": [],
   "source": [
    "# 모듈 불러오기\n",
    "from selenium import webdriver\n",
    "from selenium.webdriver.common.by import By\n",
    "\n",
    "# 웹드라이버 객체 생성\n",
    "\n",
    "\n",
    "# 웹드라이버로 네이버 접속\n",
    "\n",
    "\n",
    "# 웹툰 아이콘 CSS selector 복사하기\n",
    "\n",
    "# 웹툰 아이콘 클릭\n"
   ]
  },
  {
   "cell_type": "markdown",
   "metadata": {},
   "source": [
    "### 연습2) Selenium으로 문자 입력하기"
   ]
  },
  {
   "cell_type": "markdown",
   "metadata": {},
   "source": [
    "네이버 뉴스 페이지(https://news.naver.com)에 접속하여 검색어 입력창에 '포스코'를 입력하고,<br>\n",
    "색 버튼을 클릭해 포스코 관련 뉴스를 출력하는 코드를 작성해 봅시다."
   ]
  },
  {
   "cell_type": "code",
   "execution_count": null,
   "metadata": {},
   "outputs": [],
   "source": [
    "# selenium 모듈의 웹드라이버 로드\n",
    "from selenium import webdriver\n",
    "from selenium.webdriver.common.by import By\n",
    "\n",
    "# 웹드라이버 객체 생성\n",
    "\n",
    "\n",
    "# 웹드라이버로 크롬 브라우저 실행&네이버 접속\n",
    "\n",
    "# 검색창 클릭하기\n",
    "\n",
    "# 검색창에 검색어 입력하기\n",
    "\n",
    "# 검색실행 버튼 클릭하기"
   ]
  },
  {
   "cell_type": "markdown",
   "metadata": {},
   "source": [
    "### Selenium 실전 연습1"
   ]
  },
  {
   "cell_type": "markdown",
   "metadata": {},
   "source": [
    "Selenium 모듈을 이용해 교보문고 홈페이지로 접속한 다음, '철강' 키워드로 검색한 도서들의 제목을 출력해 보세요.<br>\n",
    "링크 : http://www.kyobobook.co.kr"
   ]
  },
  {
   "cell_type": "code",
   "execution_count": null,
   "metadata": {},
   "outputs": [],
   "source": [
    "from selenium import webdriver\n",
    "from selenium.webdriver.common.by import By\n",
    "import time\n",
    "\n",
    "#아래에 코드 작성\n"
   ]
  },
  {
   "cell_type": "markdown",
   "metadata": {},
   "source": [
    "### Selenium 실전 연습2"
   ]
  },
  {
   "cell_type": "markdown",
   "metadata": {},
   "source": [
    "Selenium 모듈을 이용해 네이버 '철강용어사전'으로 접속한 다음, 첫 페이지에 나온 표제어들의 제목을 출력해 보세요.<br>\n",
    "링크 : https://terms.naver.com/list.naver?cid=67995&categoryId=67995"
   ]
  },
  {
   "cell_type": "code",
   "execution_count": null,
   "metadata": {},
   "outputs": [],
   "source": [
    "from selenium import webdriver\n",
    "from selenium.webdriver.common.by import By\n",
    "\n",
    "#아래에 코드 작성\n"
   ]
  }
 ],
 "metadata": {
  "kernelspec": {
   "display_name": "Python 3.8.10 64-bit",
   "language": "python",
   "name": "python3"
  },
  "language_info": {
   "codemirror_mode": {
    "name": "ipython",
    "version": 3
   },
   "file_extension": ".py",
   "mimetype": "text/x-python",
   "name": "python",
   "nbconvert_exporter": "python",
   "pygments_lexer": "ipython3",
   "version": "3.8.10"
  },
  "orig_nbformat": 4,
  "vscode": {
   "interpreter": {
    "hash": "e2782e0ab7cab974e8fb2dfc8cec048a29dc3b50e54743df0c4a34ac41b2be7e"
   }
  }
 },
 "nbformat": 4,
 "nbformat_minor": 2
}
