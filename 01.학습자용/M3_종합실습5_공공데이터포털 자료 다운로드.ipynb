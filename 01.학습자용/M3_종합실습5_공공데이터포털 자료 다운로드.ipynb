{
 "cells": [
  {
   "cell_type": "markdown",
   "metadata": {},
   "source": [
    "### 종합실습5"
   ]
  },
  {
   "cell_type": "markdown",
   "metadata": {},
   "source": [
    "'공동데이터포털'에서 제공하는 '국토교통부_아파트매매 실거래자료' 오픈API를 신청하고,<br>\n",
    "Requests 모듈을 이용해 원하는 지역의 지난달 아파트 매매 실거래가 정보를 수집한 후 화면에 출력하거나 엑셀 파일로 저장해 보세요."
   ]
  },
  {
   "cell_type": "markdown",
   "metadata": {},
   "source": [
    "- 링크 : https://www.data.go.kr/ 검색어는 '국토교통부_아파트매매 실거래자료'"
   ]
  },
  {
   "cell_type": "markdown",
   "metadata": {},
   "source": [
    "- 힌트 : API 요청이 정상적으로 실행되면 결과물은 XML 형식으로 response됩니다.<br>\n",
    "        XML을 파싱을 도와주는 xmltodict 패키지를 이용해 보세요."
   ]
  },
  {
   "cell_type": "code",
   "execution_count": null,
   "metadata": {},
   "outputs": [],
   "source": [
    "import requests\n",
    "import xmltodict\n",
    "import pandas as pd\n",
    "\n",
    "# 아래에 코드 작성"
   ]
  }
 ],
 "metadata": {
  "kernelspec": {
   "display_name": "Python 3.8.10 64-bit",
   "language": "python",
   "name": "python3"
  },
  "language_info": {
   "codemirror_mode": {
    "name": "ipython",
    "version": 3
   },
   "file_extension": ".py",
   "mimetype": "text/x-python",
   "name": "python",
   "nbconvert_exporter": "python",
   "pygments_lexer": "ipython3",
   "version": "3.8.10"
  },
  "orig_nbformat": 4,
  "vscode": {
   "interpreter": {
    "hash": "e2782e0ab7cab974e8fb2dfc8cec048a29dc3b50e54743df0c4a34ac41b2be7e"
   }
  }
 },
 "nbformat": 4,
 "nbformat_minor": 2
}
