{
 "cells": [
  {
   "cell_type": "markdown",
   "metadata": {},
   "source": [
    "### Requests + BS 실전 연습1"
   ]
  },
  {
   "cell_type": "markdown",
   "metadata": {},
   "source": [
    "아래 링크로 접속해 금융관련 주요뉴스 6건의 제목을 뽑아 출력해 보세요.<br>\n",
    "링크 : https://finance.naver.com/"
   ]
  },
  {
   "cell_type": "code",
   "execution_count": null,
   "metadata": {},
   "outputs": [],
   "source": [
    "# 1. 모듈 불러오기\n",
    "import requests\n",
    "from bs4 import BeautifulSoup\n",
    "\n",
    "# 2. SSL 경고창 없애기\n",
    "requests.packages.urllib3.disable_warnings(requests.packages.urllib3.exceptions.InsecureRequestWarning)\n",
    "\n",
    "# 3. 목표url을 문자열로 입력한 후 url 변수명으로 저장\n",
    "\n",
    "\n",
    "# 4. requests모듈의 get() 메소드를 사용하여 접속을 시도하고, 그 결과(객체)를 res변수에 저장\n",
    "\n",
    "\n",
    "# 5. res.text 속성을 사용하여 받아온 html 데이터를 아웃풋 창에 print\n",
    "\n",
    "\n",
    "# 6. 파싱하기\n",
    "\n",
    "\n",
    "# 7. 주요뉴스 CSS 찾아서 변수에 저장\n",
    "\n",
    "\n",
    "# 8. 루프(반목문)를 돌면서 제목을 아웃풋 창에 출력\n"
   ]
  },
  {
   "cell_type": "markdown",
   "metadata": {},
   "source": [
    "### Requests + BS 실전 연습2"
   ]
  },
  {
   "cell_type": "markdown",
   "metadata": {},
   "source": [
    "아래 링크로 접속한 후 하단에 보이는 댓글 5개를 뽑아 화면에 출력해 보세요.<br>\n",
    "링크 : https://movie.naver.com/movie/bi/mi/basic.nhn?code=187310"
   ]
  },
  {
   "cell_type": "code",
   "execution_count": null,
   "metadata": {},
   "outputs": [],
   "source": [
    "# 1. 모듈 불러오기\n",
    "import requests\n",
    "from bs4 import BeautifulSoup\n",
    "\n",
    "# 2. SSL 경고창 없애기\n",
    "requests.packages.urllib3.disable_warnings(requests.packages.urllib3.exceptions.InsecureRequestWarning)\n",
    "\n",
    "# 3. 목표url을 문자열로 입력한 후 url 변수명으로 저장\n",
    "\n",
    "\n",
    "# 4. requests모듈의 get() 메소드를 사용하여 접속을 시도하고, 그 결과(객체)를 res변수에 저장\n",
    "\n",
    "\n",
    "# 5. res.text 속성을 사용하여 받아온 html 데이터를 아웃풋 창에 print\n",
    "\n",
    "\n",
    "# 6. 파싱하기\n",
    "\n",
    "# 7. 댓글 CSS 찾아서 변수에 저장\n",
    "\n",
    "\n",
    "# 8. 반복문으로 제목을 아웃풋 창에 출력\n"
   ]
  }
 ],
 "metadata": {
  "kernelspec": {
   "display_name": "Python 3.8.10 64-bit",
   "language": "python",
   "name": "python3"
  },
  "language_info": {
   "codemirror_mode": {
    "name": "ipython",
    "version": 3
   },
   "file_extension": ".py",
   "mimetype": "text/x-python",
   "name": "python",
   "nbconvert_exporter": "python",
   "pygments_lexer": "ipython3",
   "version": "3.8.10"
  },
  "orig_nbformat": 4,
  "vscode": {
   "interpreter": {
    "hash": "e2782e0ab7cab974e8fb2dfc8cec048a29dc3b50e54743df0c4a34ac41b2be7e"
   }
  }
 },
 "nbformat": 4,
 "nbformat_minor": 2
}
