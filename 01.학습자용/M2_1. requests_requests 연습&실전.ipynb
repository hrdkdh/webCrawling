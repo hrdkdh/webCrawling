{
 "cells": [
  {
   "cell_type": "markdown",
   "metadata": {},
   "source": [
    "### 연습1) requests로 목표 URL 접속하기"
   ]
  },
  {
   "cell_type": "markdown",
   "metadata": {},
   "source": [
    "requests 모듈을 사용하면 간단하게 웹에 접속하여 데이터를 받아올 수 있습니다.<br>\n",
    "주피터 노트북에서 다음 코드를 작성하고 받아온 html 데이터를 화면에 출력해 봅시다."
   ]
  },
  {
   "cell_type": "code",
   "execution_count": null,
   "metadata": {},
   "outputs": [],
   "source": [
    "# 1. 모듈 불러오기\n",
    "import\n",
    "\n",
    "# 2. SSL 경고창 없애기\n",
    "requests.packages.urllib3.disable_warnings(requests.packages.urllib3.exceptions.InsecureRequestWarning)\n",
    "\n",
    "# 3. 목표url을 문자열로 입력한 후 url 변수명으로 저장\n",
    "url = \"\"\n",
    "\n",
    "# 4. requests모듈의 get() 메소드를 사용하여 접속을 시도하고, 그 결과(객체)를 res변수에 저장\n",
    "res = \n",
    "\n",
    "# 5. res.text 속성을 사용하여 받아온 html 데이터를 아웃풋 창에 print\n",
    "print()"
   ]
  },
  {
   "cell_type": "markdown",
   "metadata": {},
   "source": [
    "### 연습2) User-Agent 정보 변경하기"
   ]
  },
  {
   "cell_type": "markdown",
   "metadata": {},
   "source": [
    "requests 모듈의 headers 파라미터를 사용하면 UA를 변경할 수 있습니다.<br>\n",
    "주피터 노트북에서 다음 코드를 작성하고 html 데이터가 정상적으로 로드되는지 체크해 봅시다."
   ]
  },
  {
   "cell_type": "code",
   "execution_count": null,
   "metadata": {},
   "outputs": [],
   "source": [
    "# 1. 모듈 불러오기\n",
    "\n",
    "\n",
    "# 2. SSL 경고창 없애기\n",
    "requests.packages.urllib3.disable_warnings(requests.packages.urllib3.exceptions.InsecureRequestWarning)\n",
    "\n",
    "# 3. headers 파라미터: User-Agent 정보 변경하기\n",
    "#   사용중인 기기/브라우저의 User-Agent 보기(추천 : 방법1)\n",
    "#       방법1) 특정 페이지 접속 후 크롬 개발자 모드의 네트워크탭에서 Request Header를 보면 확인가능\n",
    "#       방법2) https://www.whatismybrowser.com/detect/what-is-my-user-agent 접속 \n",
    "#             *스마트폰 등 개발자 모드를 사용하기 어려운 환경에서 유용\n",
    "h = {\"User-Agent\" : \"\"}\n",
    "\n",
    "# 4. 목표url을 문자열로 입력한 후 url 변수명으로 저장\n",
    "url = \"\"\n",
    "\n",
    "# 5. requests모듈의 get() 메소드를 사용하여 접속을 시도하고, 그 결과(객체)를 res변수에 저장\n",
    "res = \n",
    "\n",
    "# 6. res.text 속성을 사용하여 받아온 html 데이터를 아웃풋 창에 print\n",
    "print()"
   ]
  },
  {
   "cell_type": "markdown",
   "metadata": {},
   "source": [
    "### 연습3) 네이버 카페 목록 가져오기"
   ]
  },
  {
   "cell_type": "markdown",
   "metadata": {},
   "source": [
    "browser_cookie3 모듈을 사용하면 로그인이 필요한 페이지도 손쉽게 접근이 가능합니다.<br>\n",
    "주피터 노트북에서 다음 코드를 작성하고 내가 가입한 네이버 카페 리스트 목록을 화면에 출력해 봅시다."
   ]
  },
  {
   "cell_type": "code",
   "execution_count": null,
   "metadata": {},
   "outputs": [],
   "source": [
    "# 1. 모듈 불러오기\n",
    "\n",
    "\n",
    "# 2. SSL 경고창 없애기\n",
    "requests.packages.urllib3.disable_warnings(requests.packages.urllib3.exceptions.InsecureRequestWarning)\n",
    "\n",
    "# 3. 크롬 쿠키가 저장된 경로를 입력한 후 cookie_file_path 변수명으로 저장\n",
    "# 주의) 코드 실행 전 크롬 웹브라우저를 실행해 네이버 계정에 로그인을 먼저 해야 함\n",
    "#       쿠키경로는 윈도우 계정에 맞춰 변경해야 하며,\n",
    "#       파일 탐색기로 경로에 접근한 후 탐색기 주소창에 적힌 경로명을 복사/붙여넣기 하면 편리\n",
    "cookie_file_path = r\"\"\n",
    "\n",
    "# 4. browser_cookie3 모듈을 이용해 .naver.com 도메인 이름으로 저장된 쿠키를 로드하여 my_cookie 변수에 저장\n",
    "my_cookie = \n",
    "\n",
    "# 5. 가입한 네이버 카페 목록 로드 시 적용할 파라미터 값을 크롬 개발자 도구를 이용해 딕셔너리로 작성하고 param 변수에 저장\n",
    "p = {\n",
    "    }\n",
    "\n",
    "# 6. 목표url을 문자열로 입력한 후 url 변수명으로 저장\n",
    "url = \"\"\n",
    "\n",
    "# 7. requests모듈의 get() 메소드를 사용하여 접속을 시도하고, 그 결과(객체)를 res변수에 저장\n",
    "res = \n",
    "\n",
    "# 8. res.json() 메소드를 사용하여 받아온 json 데이터를 파싱한 후 json_data 변수에 저장\n",
    "json_data = \n",
    "# print(json_data)\n",
    "\n",
    "# 9. 위의 print()문을 통해 나온 아웃풋을 분석하여 카페 목록이 들어있는 데이터를 파악\n",
    "#   카페 목록이 들어있는 리스트 데이터에 접근한 후 루프(반목문)를 돌면서 카페명을 아웃풋 창에 출력\n",
    "for cafe in ~~~:\n",
    "    print()"
   ]
  },
  {
   "cell_type": "markdown",
   "metadata": {},
   "source": [
    "### Requests 모듈 실전연습"
   ]
  },
  {
   "cell_type": "markdown",
   "metadata": {},
   "source": [
    "https://www.kyobobook.co.kr/ 에서 제공하는 베스트셀러 목차 정보를 수집해 봅시다.<br>\n",
    "크롬 개발자 도구를 사용하여 데이터가 담긴 parameter를 정확히 확인한 후, <br>\n",
    "requests 모듈을 이용해 데이터를 로드해 보세요.<br>\n",
    "* 베스트셀러 검색 기준 : 베스트셀러-종합베스트-월간(1위~100위) "
   ]
  },
  {
   "cell_type": "code",
   "execution_count": null,
   "metadata": {},
   "outputs": [],
   "source": [
    "# 1. 모듈 불러오기\n",
    "\n",
    "\n",
    "# 2. SSL 경고창 없애기\n",
    "requests.packages.urllib3.disable_warnings(requests.packages.urllib3.exceptions.InsecureRequestWarning)\n",
    "\n",
    "# 2. 교보문고 페이지로 접속(https://www.kyobobook.co.kr/)\n",
    "#   크롬 개발자 도구를 실행하여 목표URL 탐색\n",
    "#   크롬 개발자 도구를 네트워크탭, Fetch/XHR 필터링으로 맞춰놓고 베스트-종합베스트(월간) 버튼을 클릭하면,\n",
    "#   그 순간 새로운 request가 발생하는 것을 알 수 있음 → 개발자 도구 우측의 preview를 통해 데이터를 확인하고,\n",
    "#   베스트셀러 목차로 확인된다면 이를 목표URL로 설정하면 됨\n",
    "\n",
    "#3. 목표URL을 찾았다면 문자열로 입력한 후 url 변수명으로 저장\n",
    "#   GET방식으로 전달되는 URL 파라미터는 URL에 바로 입력해도 되고,\n",
    "#   별도의 딕셔너리 변수로 만들어 'params' 파라미터로 넘겨줘도 됨\n",
    "url = \"\"\n",
    "\n",
    "# 4. parameter 정보 검색조건에 맞게 설정\n",
    "p = {}\n",
    "\n",
    "# 5. requests모듈의 get() 메소드를 사용하여 접속을 시도하고, 그 결과(객체)를 res변수에 저장\n",
    "res = \n",
    "\n",
    "# 6. res.json() 메소드를 사용하여 받아온 json 데이터를 파싱한 후 json_data 변수에 저장\n",
    "json_data = \n",
    "\n",
    "# 7. 위의 print()문을 통해 나온 아웃풋을 분석하여 도서 목록이 들어있는 데이터를 파악\n",
    "#   도서 목록이 들어있는 리스트 데이터에 접근한 후 루프(반목문)를 돌면서 도서명/작가명/출판사 정보를 리스트에 저장\n",
    "for data in ~~~:\n",
    "    title = \n",
    "    publ = \n",
    "    writer = \n",
    "    pb_date = \n",
    "    info = {\"도서명\" : title, \"출판사\" : publ, \"작가\" : writer, \"출판일\" : pb_date}\n",
    "    print(info)"
   ]
  }
 ],
 "metadata": {
  "interpreter": {
   "hash": "e2782e0ab7cab974e8fb2dfc8cec048a29dc3b50e54743df0c4a34ac41b2be7e"
  },
  "kernelspec": {
   "display_name": "Python 3.8.10 64-bit",
   "language": "python",
   "name": "python3"
  },
  "language_info": {
   "codemirror_mode": {
    "name": "ipython",
    "version": 3
   },
   "file_extension": ".py",
   "mimetype": "text/x-python",
   "name": "python",
   "nbconvert_exporter": "python",
   "pygments_lexer": "ipython3",
   "version": "3.8.10"
  },
  "orig_nbformat": 4
 },
 "nbformat": 4,
 "nbformat_minor": 2
}
