{
 "cells": [
  {
   "cell_type": "markdown",
   "metadata": {},
   "source": [
    "### 연습) 오픈API 활용하기"
   ]
  },
  {
   "cell_type": "markdown",
   "metadata": {},
   "source": [
    "Requests 모듈과 공공데이터포털에서 신청한 재난문자 오픈API를 활용해 데이터를 로드하고,<br>\n",
    "res.json() 메소드로 결과를 파싱하여 최근 발송된 재난문자를 목록으로 출력해 보세요."
   ]
  },
  {
   "cell_type": "code",
   "execution_count": null,
   "metadata": {},
   "outputs": [],
   "source": [
    "import requests\n",
    "\n",
    "# 공공데이터포털에서 받은 인증키 #decoding key로 입력\n",
    "# service_key = \"dMAhLxT6sWdtXIBQ%2Fh3poYt29QV%2F6KSXX0qDDZzjenATTBIqYOEXZYkAiF7y%2FBpLFA9Vu4jvNoiphD8o%2FiS%2FPg%3D%3D\"\n",
    "service_key = \"\"\n",
    "\n",
    "url = \"\"\n",
    "\n",
    "# 아래 코드 작성"
   ]
  }
 ],
 "metadata": {
  "kernelspec": {
   "display_name": "Python 3.8.10 64-bit",
   "language": "python",
   "name": "python3"
  },
  "language_info": {
   "codemirror_mode": {
    "name": "ipython",
    "version": 3
   },
   "file_extension": ".py",
   "mimetype": "text/x-python",
   "name": "python",
   "nbconvert_exporter": "python",
   "pygments_lexer": "ipython3",
   "version": "3.8.10"
  },
  "orig_nbformat": 4,
  "vscode": {
   "interpreter": {
    "hash": "e2782e0ab7cab974e8fb2dfc8cec048a29dc3b50e54743df0c4a34ac41b2be7e"
   }
  }
 },
 "nbformat": 4,
 "nbformat_minor": 2
}
