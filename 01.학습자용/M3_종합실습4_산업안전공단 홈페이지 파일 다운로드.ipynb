{
 "cells": [
  {
   "cell_type": "markdown",
   "metadata": {},
   "source": [
    "### 종합실습4"
   ]
  },
  {
   "cell_type": "markdown",
   "metadata": {},
   "source": [
    "산업안전보건공단 홈페이지에 접속한 다음, ‘자료마당 > 통합자료실 > 재해사례 > 국내  재해사례> 제조업’ 페이지로 들어가<br>\n",
    "각 게시글에 첨부된 파일을 100건 이상 다운로드해 보세요.<br>\n",
    "링크 : https://www.kosha.or.kr/kosha/data/machine.do?articleLimit=100 "
   ]
  },
  {
   "cell_type": "markdown",
   "metadata": {},
   "source": [
    "#### requests모듈을 활용할 경우,"
   ]
  },
  {
   "cell_type": "markdown",
   "metadata": {},
   "source": [
    "- 힌트1 : requests객체.content 멤버변수를 이용해 바이트 데이터로 이미지를 로드하세요.\n",
    "- 힌트2 : 로드한 바이트 데이터를 파일로 저장하기 위해서는 파이썬 내장함수인 open() 함수를 사용하면 됩니다.<br>\n",
    " 예) open(저장할 파일명, \"wb\").write(바이트 데이터)\n",
    "- 힌트3 : 파일을 저장할 때 파일의 확장자를 정확히 찾아서 넣어주어야 합니다."
   ]
  },
  {
   "cell_type": "code",
   "execution_count": null,
   "metadata": {},
   "outputs": [],
   "source": [
    "import requests\n",
    "from bs4 import BeautifulSoup\n",
    "\n",
    "want_cnt = 100 #다운로드 받고자 하는 파일의 갯수\n",
    "\n",
    "#아래에 코드 작성"
   ]
  }
 ],
 "metadata": {
  "kernelspec": {
   "display_name": "Python 3.8.10 64-bit",
   "language": "python",
   "name": "python3"
  },
  "language_info": {
   "codemirror_mode": {
    "name": "ipython",
    "version": 3
   },
   "file_extension": ".py",
   "mimetype": "text/x-python",
   "name": "python",
   "nbconvert_exporter": "python",
   "pygments_lexer": "ipython3",
   "version": "3.8.10"
  },
  "orig_nbformat": 4,
  "vscode": {
   "interpreter": {
    "hash": "e2782e0ab7cab974e8fb2dfc8cec048a29dc3b50e54743df0c4a34ac41b2be7e"
   }
  }
 },
 "nbformat": 4,
 "nbformat_minor": 2
}
