{
 "cells": [
  {
   "cell_type": "markdown",
   "metadata": {},
   "source": [
    "### 종합실습6"
   ]
  },
  {
   "cell_type": "markdown",
   "metadata": {},
   "source": [
    "Requests 모듈을 이용해 unsplash.com에서 제공하는 RESTful API에 연결, 원하는 이미지들을 PC에 대량으로 저장해 보세요.<br>*api.unsplash.com 접속 후 개발자로 회원가입, api key 발급받아야 함"
   ]
  },
  {
   "cell_type": "markdown",
   "metadata": {},
   "source": [
    "- 링크 : https://api.unsplash.com <br>\n",
    "최소 100장, 검색어는 'office'"
   ]
  },
  {
   "cell_type": "code",
   "execution_count": null,
   "metadata": {},
   "outputs": [],
   "source": [
    "import json\n",
    "import requests\n",
    "\n",
    "#SSL Verify 경고 끄기\n",
    "requests.packages.urllib3.disable_warnings(requests.packages.urllib3.exceptions.InsecureRequestWarning)\n",
    "\n",
    "#아래에 코드 작성\n",
    "search_query = \"office\"\n",
    "client_key = \"unsplash.com에서 발급받은 Access Key를 입력\"\n",
    "per_page = \"20\"\n",
    "i = 0\n",
    "for page_no in range(1, 6):\n",
    "    page_no = str(page_no)\n",
    "    url = \"https://api.unsplash.com/search/photos?client_id=\"+client_key+\"&per_page=\"+per_page+\"&page=\"+page_no+\"&query=\" + search_query\n",
    "    response = requests.get(url, verify = False)\n",
    "    json_str = response.text\n",
    "    json_parsed = json.loads(json_str)\n",
    "    for img in json_parsed[\"results\"]:\n",
    "        i += 1\n",
    "        print(\"{}번째 이미지 다운로드 중...\".format(i), end=\"\\r\")\n",
    "        this_img_url = img[\"urls\"][\"small\"]\n",
    "        this_image = requests.get(this_img_url, verify=False)\n",
    "        try:\n",
    "            this_ext = this_image.headers[\"Content-Disposition\"].split(\".\")[-1]\n",
    "        except:\n",
    "            this_ext = \"jpg\"\n",
    "        open(\"../outputs/images/unsplash/\"+search_query+\"_img\"+str(i)+\".\"+this_ext, \"wb\").write(this_image.content)\n",
    "    \n",
    "print(\"{} 이미지 다운로드 완료\".format(search_query), end=\"\\r\")"
   ]
  }
 ],
 "metadata": {
  "kernelspec": {
   "display_name": "Python 3.8.10 64-bit",
   "language": "python",
   "name": "python3"
  },
  "language_info": {
   "codemirror_mode": {
    "name": "ipython",
    "version": 3
   },
   "file_extension": ".py",
   "mimetype": "text/x-python",
   "name": "python",
   "nbconvert_exporter": "python",
   "pygments_lexer": "ipython3",
   "version": "3.8.10"
  },
  "orig_nbformat": 4,
  "vscode": {
   "interpreter": {
    "hash": "e2782e0ab7cab974e8fb2dfc8cec048a29dc3b50e54743df0c4a34ac41b2be7e"
   }
  }
 },
 "nbformat": 4,
 "nbformat_minor": 2
}
