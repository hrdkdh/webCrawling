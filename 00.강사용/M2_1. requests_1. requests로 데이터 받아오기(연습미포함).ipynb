{
 "cells": [
  {
   "cell_type": "markdown",
   "metadata": {},
   "source": [
    "### requests 모듈 활용하기"
   ]
  },
  {
   "cell_type": "markdown",
   "metadata": {},
   "source": [
    "#### get() 메소드 / text 속성"
   ]
  },
  {
   "cell_type": "code",
   "execution_count": null,
   "metadata": {},
   "outputs": [],
   "source": [
    "# 모듈 불러오기\n",
    "import requests\n",
    "import urllib3 # 경고창 없애기 위해서 불러와야 하는 모듈\n",
    "\n",
    "# 목표url을 문자열로 입력한 후 url 변수명으로 저장\n",
    "url = \"https://www.naver.com\"\n",
    "\n",
    "# requests모듈의 get() 메소드를 사용하여 접속을 시도하고, 그 결과(객체)를 res변수에 저장\n",
    "res = requests.get(url, verify=False)\n",
    "\n",
    "# SSL 경고창 없애기\n",
    "requests.packages.urllib3.disable_warnings(requests.packages.urllib3.exceptions.InsecureRequestWarning)\n",
    "\n",
    "print(res.text) # 받아온 바이트 데이터를 UTF-8로 기본 디코딩하여 텍스트 문자열로 반환"
   ]
  },
  {
   "cell_type": "markdown",
   "metadata": {},
   "source": [
    "#### params 파라미터"
   ]
  },
  {
   "cell_type": "code",
   "execution_count": null,
   "metadata": {},
   "outputs": [],
   "source": [
    "# get 방식 접근\n",
    "import requests\n",
    "\n",
    "# SSL 경고창 없애기\n",
    "requests.packages.urllib3.disable_warnings(requests.packages.urllib3.exceptions.InsecureRequestWarning)\n",
    "\n",
    "param = {\"query\" : \"아이유\"} # request 시 전달하고자 파라미터 정보를 딕셔너리 자료형으로 작성해 전달 가능\n",
    "url = \"https://search.naver.com/search.naver\"\n",
    "res = requests.get(url, params = param, verify=False) # .post() 메소드에서도 동일하게 사용 가능. 단, post에서는 param 대신 data 사용\n",
    "\n",
    "# 실제 request된 url의 내용을 보려면 res.request.url 로 확인 가능\n",
    "print(\"url 주소: \", res.request.url)\n",
    "# res.request.url 결과를 보면, param 변수에 입력된 정보가 parameter로 붙어 url 생성, request된 것을 알 수 있음\n",
    "# 위 print(res.request.url) 결과 = https://search.naver.com/search.naver?query=%ED%8F%AC%EC%8A%A4%EC%BD%94\n",
    "print(res.text)"
   ]
  },
  {
   "cell_type": "code",
   "execution_count": null,
   "metadata": {},
   "outputs": [],
   "source": [
    "res.status_code\n",
    "res.request.url\n",
    "res.request.headers\n",
    "res.request.method\n",
    "res.encoding"
   ]
  },
  {
   "cell_type": "markdown",
   "metadata": {},
   "source": [
    "#### header 정보"
   ]
  },
  {
   "cell_type": "markdown",
   "metadata": {},
   "source": [
    " - headers 파라미터: User-Agent 정보 변경하기\n",
    " - 사용중인 기기/브라우저의 User-Agent 보기(추천 : 방법1)\n",
    "    - 방법1) 특정 페이지 접속 후 크롬 개발자 모드의 네트워크탭에서 Request Header를 보면 확인가능\n",
    "    - 방법2) https://www.whatismybrowser.com/detect/what-is-my-user-agent 접속 *스마트폰 등 개발자 모드를 사용하기 어려운 환경에서 유용"
   ]
  },
  {
   "cell_type": "markdown",
   "metadata": {},
   "source": [
    "##### header 없이"
   ]
  },
  {
   "cell_type": "code",
   "execution_count": null,
   "metadata": {},
   "outputs": [],
   "source": [
    "# header정보 없이 request\n",
    "import requests\n",
    "\n",
    "url = \"https://finance.naver.com/item/sise_day.nhn?code=005490\"\n",
    "res = requests.get(url, verify=False)\n",
    "print(res.text)"
   ]
  },
  {
   "cell_type": "markdown",
   "metadata": {},
   "source": [
    "##### header추가"
   ]
  },
  {
   "cell_type": "code",
   "execution_count": null,
   "metadata": {},
   "outputs": [],
   "source": [
    "# header정보 변경하기\n",
    "import requests\n",
    "\n",
    "h = {\"User-Agent\" : \"Mozilla/5.0 (Windows NT 10.0; Win64; x64) AppleWebKit/537.36 (KHTML, like Gecko) Chrome/98.0.4758.102 Safari/537.36\"}\n",
    "\n",
    "url = \"https://finance.naver.com/item/sise_day.nhn?code=005490\"\n",
    "res = requests.get(url, headers=header, verify=False)\n",
    "print(res.text)"
   ]
  },
  {
   "cell_type": "code",
   "execution_count": null,
   "metadata": {},
   "outputs": [],
   "source": [
    "# header 정보 없이 접속한 header정보 확인하기\n",
    "import requests\n",
    "\n",
    "url = \"https://finance.naver.com/item/sise_day.nhn?code=005490\"\n",
    "res = requests.get(url, verify=False)\n",
    "# 접속한 res의 User-Agent정보 확인하기\n",
    "print(res.request.headers)"
   ]
  },
  {
   "cell_type": "markdown",
   "metadata": {},
   "source": [
    "#### post() 메소드 / data 파라미터\n",
    "- url찾는 방법 : ID와 PW를 입력 후 로그인 클릭, Fetch/XHR에서 정보 찾기"
   ]
  },
  {
   "cell_type": "code",
   "execution_count": null,
   "metadata": {},
   "outputs": [],
   "source": [
    "# post 방식 접근\n",
    "import requests\n",
    "import pyautogui\n",
    "\n",
    "my_pw = pyautogui.password(title= \"PW 입력\", text = \"PW를 입력하세요\")\n",
    "\n",
    "# POST방식 접근. 한국데이터산업진흥원 로그인 페이지 접속하여 로그인 실행\n",
    "url = \"https://lp.posco.co.kr/S22/S22A10/member/login/ajax/login.do\"\n",
    "fd = {\"email\":\"mk@poscohrd.com\", \"password\": my_pw}\n",
    "\n",
    "res = requests.post(url, data = fd, verify=False)\n",
    "\n",
    "# header정보가 없어서 정보를 못받음\n",
    "print(res.text)"
   ]
  },
  {
   "cell_type": "markdown",
   "metadata": {},
   "source": [
    "- header정보 추가"
   ]
  },
  {
   "cell_type": "code",
   "execution_count": null,
   "metadata": {},
   "outputs": [],
   "source": [
    "# post 방식 접근\n",
    "import requests\n",
    "import pyautogui\n",
    "\n",
    "my_pw = pyautogui.password(title= \"PW 입력\", text = \"PW를 입력하세요\")\n",
    "\n",
    "# POST방식 접근. 한국데이터산업진흥원 로그인 페이지 접속하여 로그인 실행\n",
    "url = \"https://lp.posco.co.kr/S22/S22A10/member/login/ajax/login.do\"\n",
    "fd = {\"email\":\"mk@poscohrd.com\", \"password\": my_pw}\n",
    "h = {\"User-Agent\" : \"Mozilla/5.0 (Windows NT 10.0; Win64; x64) AppleWebKit/537.36 (KHTML, like Gecko) Chrome/98.0.4758.102 Safari/537.36\"}\n",
    "\n",
    "res = requests.post(url, data = fd, headers = h, verify=False)\n",
    "\n",
    "print(res.text)"
   ]
  },
  {
   "cell_type": "markdown",
   "metadata": {},
   "source": [
    "#### session() 메소드 : LP사이트"
   ]
  },
  {
   "cell_type": "code",
   "execution_count": null,
   "metadata": {},
   "outputs": [],
   "source": [
    "import requests\n",
    "import pyautogui\n",
    "\n",
    "# my_pw = pyautogui.password(title= \"PW 입력\", text = \"PW를 입력하세요\")\n",
    "\n",
    "# POST방식 접근. 한국데이터산업진흥원 로그인 페이지 접속하여 로그인 실행\n",
    "url = \"https://lp.posco.co.kr/S22/S22A10/member/login/ajax/login.do\"\n",
    "\n",
    "#로그인 시 파라미터(form input값)으로 보낼 아이디/비번을 미리 지정\n",
    "fd = {\"email\":\"mk@poscohrd.com\", \"password\": my_pw}\n",
    "h = {\"User-Agent\" : \"Mozilla/5.0 (Windows NT 10.0; Win64; x64) AppleWebKit/537.36 (KHTML, like Gecko) Chrome/98.0.4758.102 Safari/537.36\"}\n",
    "\n",
    "# session() 메소드를 사용해 객체를 생성, 변수(s)에 저장 → 변수에 저장된 객체는 requests 모듈의 모든 메소드 사용가능\n",
    "# 변수 s(객체)를 통해 .get() 혹은 .post() 메소드를 사용하면 세션이 유지되어 로그인된 상태로 탐색 가능\n",
    "s = requests.session()\n",
    "res_login_page = s.post(url, data=fd, headers = h, verify=False)  #post() 메소드를 통해 접속한 후 세션을 유지\n",
    "\n",
    "#세션이 유지된 채로(=로그인된 상태로) 페이지 탐색(마이러닝-학습현황)\n",
    "fd2 = {\"length\": 10, \"stepCode\": \"ING\"}\n",
    "res_my_lp = s.post(\"https://lp.posco.co.kr/S22/S22A10/member/myLearning/ajax/getMyCourseCsList.do\", data = fd2, verify=False)\n",
    "print(res_my_lp.text)"
   ]
  },
  {
   "cell_type": "markdown",
   "metadata": {},
   "source": [
    "- json데이터로 변환"
   ]
  },
  {
   "cell_type": "code",
   "execution_count": null,
   "metadata": {},
   "outputs": [],
   "source": [
    "data = res_my_lp.json()"
   ]
  },
  {
   "cell_type": "markdown",
   "metadata": {},
   "source": [
    "- 첫번째 데이터 확인"
   ]
  },
  {
   "cell_type": "code",
   "execution_count": null,
   "metadata": {},
   "outputs": [],
   "source": [
    "csname = data[\"data\"][0][\"courseName\"]\n",
    "csstartdate = data[\"data\"][0][\"eduStartDt\"]\n",
    "csenddate = data[\"data\"][0][\"eduEndDt\"]\n",
    "print(csname, csstartdate, csenddate)"
   ]
  },
  {
   "cell_type": "markdown",
   "metadata": {},
   "source": [
    "- for문 : 수강과정 리스트"
   ]
  },
  {
   "cell_type": "code",
   "execution_count": null,
   "metadata": {},
   "outputs": [],
   "source": [
    "results = []\n",
    "for cs in data[\"data\"]:\n",
    "    csname = cs[\"courseName\"]\n",
    "    csstartdate = cs[\"eduStartDt\"]\n",
    "    csenddate = cs[\"eduEndDt\"]\n",
    "    result = {\"수강과정\" : csname, \"교육시작일\" : csstartdate, \"교육종료일\" : csenddate}\n",
    "    results.append(result)"
   ]
  },
  {
   "cell_type": "markdown",
   "metadata": {},
   "source": [
    "- 결과확인"
   ]
  },
  {
   "cell_type": "code",
   "execution_count": null,
   "metadata": {},
   "outputs": [],
   "source": [
    "results"
   ]
  },
  {
   "cell_type": "markdown",
   "metadata": {},
   "source": [
    "#### cookies 파라미터"
   ]
  },
  {
   "cell_type": "code",
   "execution_count": null,
   "metadata": {},
   "outputs": [],
   "source": [
    "# 한국데이터산업진흥원 접수조회 cookie 딕셔너리로 저장\n",
    "import requests\n",
    "  \n",
    "url = \"https://www.dataq.or.kr/www/mypage/accept/list.do\"\n",
    "cookie = {\"JSESSIONID\" : \"87FA0B6E8DA009666961D50282D15BBB\"}\n",
    "\n",
    "res = requests.post(url, cookies=cookie, verify=False)\n",
    "res.text"
   ]
  },
  {
   "cell_type": "code",
   "execution_count": null,
   "metadata": {},
   "outputs": [],
   "source": [
    "# 한국데이터산업진흥원 접수조회 header의 쿠키 복사\n",
    "import requests\n",
    "  \n",
    "url = \"https://www.dataq.or.kr/www/mypage/accept/list.do\"\n",
    "h = {\"Cookie\" : \"JSESSIONID=87FA0B6E8DA009666961D50282D15BBB; _ga=GA1.1.1230915695.1653891645; _ga_L0H13KV0WL=GS1.1.1655171289.2.1.1655172918.0\"}\n",
    "\n",
    "res = requests.get(url, headers=h, verify=False)\n",
    "res.text"
   ]
  },
  {
   "cell_type": "markdown",
   "metadata": {},
   "source": [
    "#### browser_cookie3 모듈"
   ]
  },
  {
   "cell_type": "code",
   "execution_count": null,
   "metadata": {},
   "outputs": [],
   "source": [
    "# 예스24 마이페이지 접속하기\n",
    "import requests\n",
    "import browser_cookie3\n",
    "\n",
    "# 크롬 웹브라우저의 쿠키 저장경로 지정 (본인 윈도우 계정명에 맞춰 변경해야 함)\n",
    "cookie_file_path = r\"C:\\Users\\poscouser\\AppData\\Local\\Google\\Chrome\\User Data\\Default\\Network\\Cookies\"\n",
    "\n",
    "# 크롬에 있는 예스24(.yes24.com) 쿠키값을 그대로 가져오기 (cookie jar 객체 형태로 저장)\n",
    "yes_cookie = browser_cookie3.chrome(cookie_file=cookie_file_path, domain_name=\".yes24.com\")\n",
    "\n",
    "#로드한 쿠키값을 사용하면 예스24에 로그인한 채로 마이페이지에 접속가능 → 접속 후 마이페이지 정보 로드\n",
    "url = \"http://www.yes24.com/Member/FTMypageMain.aspx\"\n",
    "\n",
    "res = requests.get(url, cookies = yes_cookie)\n",
    "print(res.text) # 마이페이지의 정보가 html로 출력됨"
   ]
  },
  {
   "cell_type": "markdown",
   "metadata": {},
   "source": [
    "### 이미지 자료 가져오기"
   ]
  },
  {
   "cell_type": "markdown",
   "metadata": {},
   "source": [
    "#### content속성"
   ]
  },
  {
   "cell_type": "code",
   "execution_count": null,
   "metadata": {},
   "outputs": [],
   "source": [
    "# 이미지 불러오기(예. 위키피디아 포스코 이미지)\n",
    "import requests\n",
    "\n",
    "img_url = \"https://www.posco.co.kr/docs/kor6/jsp/_images/02_corp/corporate_citizenship_kor.jpg\"\n",
    "res = requests.get(img_url, verify=False)\n",
    "\n",
    "print(res.content)\n",
    "\n",
    "# PC에 파일로 저장\n",
    "# open()함수 : 파일 생성\n",
    "# 옵션 : r(읽기모드), w(쓰기모드, 내용 있으면 삭제하고 쓰기), x(쓰기모드, 내용이 있으면 오류 발생), a(쓰기모드, 파일이 있으면 뒤에 내용 추가)\n",
    "# t(텍스트모드, 텍스트 문자 기록에 사용/디폴트), b(바이너리모드, 바이트단위 데이터 기록에 사용)\n",
    "\n",
    "open(\"기업시민헌장.jpg\", \"wb\").write(res.content)"
   ]
  },
  {
   "cell_type": "markdown",
   "metadata": {},
   "source": [
    "### 인코딩&디코딩"
   ]
  },
  {
   "cell_type": "code",
   "execution_count": null,
   "metadata": {},
   "outputs": [],
   "source": [
    "s = \"포스코\"\n",
    "b = s.encode(\"UTF-8\")\n",
    "print(b)\n",
    "\n",
    "s2 = b.decode(\"UTF-8\")\n",
    "print(s2)"
   ]
  }
 ],
 "metadata": {
  "interpreter": {
   "hash": "e2782e0ab7cab974e8fb2dfc8cec048a29dc3b50e54743df0c4a34ac41b2be7e"
  },
  "kernelspec": {
   "display_name": "Python 3.8.10 64-bit",
   "language": "python",
   "name": "python3"
  },
  "language_info": {
   "codemirror_mode": {
    "name": "ipython",
    "version": 3
   },
   "file_extension": ".py",
   "mimetype": "text/x-python",
   "name": "python",
   "nbconvert_exporter": "python",
   "pygments_lexer": "ipython3",
   "version": "3.8.10"
  },
  "orig_nbformat": 4
 },
 "nbformat": 4,
 "nbformat_minor": 2
}
