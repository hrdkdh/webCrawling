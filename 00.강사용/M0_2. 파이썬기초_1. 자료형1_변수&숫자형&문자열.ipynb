{
 "cells": [
  {
   "cell_type": "markdown",
   "metadata": {},
   "source": [
    "### 파이썬 시작하기\n",
    " - print 함수"
   ]
  },
  {
   "cell_type": "code",
   "execution_count": null,
   "metadata": {},
   "outputs": [],
   "source": [
    "# Hello World  출력하기\n",
    "print(\"Hello World\")\n",
    "print('Hello world')"
   ]
  },
  {
   "cell_type": "code",
   "execution_count": null,
   "metadata": {},
   "outputs": [],
   "source": [
    "# 김씨가 소리를 질렀다. \"불이야.\" 출력하기\n",
    "print('김씨가 소리를 질렀다. \"불이야.\"')"
   ]
  },
  {
   "cell_type": "code",
   "execution_count": null,
   "metadata": {},
   "outputs": [],
   "source": [
    "# C:\\Windows\\desktop\\test 출력하기\n",
    "print(\"C:\\Windows\\desktop\\\\test\")"
   ]
  },
  {
   "cell_type": "markdown",
   "metadata": {},
   "source": [
    "### 변수의 활용\n",
    " - 자료를 저장하는 공간"
   ]
  },
  {
   "cell_type": "code",
   "execution_count": null,
   "metadata": {},
   "outputs": [],
   "source": [
    "# s = \"hello\", t = \"python\"\n",
    "# hello python! 출력하기\n",
    "s = \"hello\"\n",
    "t = \"python\"\n",
    "print(s, t+\"!\")"
   ]
  },
  {
   "cell_type": "markdown",
   "metadata": {},
   "source": [
    " - 변수를 선언하고 출력하기"
   ]
  },
  {
   "cell_type": "code",
   "execution_count": null,
   "metadata": {},
   "outputs": [],
   "source": [
    "str = \"안녕하세요, 이것이 바로 파이썬이군요!\"\n",
    "print(str)\n",
    "\n",
    "a = 10\n",
    "b = 5\n",
    "c = a + b\n",
    "print(c)\n",
    "\n",
    "print(\"{} 더하기 {}는 {}로군요!\".format(a, b, c))"
   ]
  },
  {
   "cell_type": "markdown",
   "metadata": {},
   "source": [
    "### 자료형 : 숫자형과 문자열"
   ]
  },
  {
   "cell_type": "code",
   "execution_count": null,
   "metadata": {},
   "outputs": [],
   "source": [
    "# 에어컨 가격이 월 48,584원 무이자 36개월\n",
    "# 에어컨 가격은?\n",
    "air_price = 48584\n",
    "total = air_price * 36\n",
    "print(total)\n",
    "\n",
    "# 숫자 3자리마다 콤마(,) 넣기\n",
    "print(format(total, \",\"))"
   ]
  },
  {
   "cell_type": "markdown",
   "metadata": {},
   "source": [
    "- 문자열 인덱싱"
   ]
  },
  {
   "cell_type": "code",
   "execution_count": null,
   "metadata": {},
   "outputs": [],
   "source": [
    "# letters = \"python\"\n",
    "# 길이 확인하기\n",
    "letters = \"python\"\n",
    "len(letters)"
   ]
  },
  {
   "cell_type": "code",
   "execution_count": null,
   "metadata": {},
   "outputs": [],
   "source": [
    "# letters = \"python\"\n",
    "# p t 출력하기\n",
    "letters = \"python\"\n",
    "print(letters[0], letters[2])"
   ]
  },
  {
   "cell_type": "markdown",
   "metadata": {},
   "source": [
    "- 문자열 슬라이싱"
   ]
  },
  {
   "cell_type": "code",
   "execution_count": null,
   "metadata": {},
   "outputs": [],
   "source": [
    "# license_plate = \"24가 2210\"\n",
    "# 뒤 네 자리 출력하기\n",
    "license_plate = \"24가 2210\"\n",
    "print(license_plate[-4:])\n",
    "print(license_plate[4:8])"
   ]
  },
  {
   "cell_type": "markdown",
   "metadata": {},
   "source": [
    "- 문자열 나누기 : split()"
   ]
  },
  {
   "cell_type": "code",
   "execution_count": null,
   "metadata": {},
   "outputs": [],
   "source": [
    "# folder = \"C:\\Windows\\desktop\\python\"\n",
    "# \\ 기준으로 나누기\n",
    "folder = \"C:\\Windows\\desktop\\python\"\n",
    "print(folder.split(\"\\\\\"))"
   ]
  },
  {
   "cell_type": "markdown",
   "metadata": {},
   "source": [
    "- 문자열 치환하기 : replace()"
   ]
  },
  {
   "cell_type": "code",
   "execution_count": null,
   "metadata": {},
   "outputs": [],
   "source": [
    "# phone_number = \"010-1111-2222\"\n",
    "# 010 1111 2222 출력하기\n",
    "phone_number = \"010-1111-2222\"\n",
    "print(phone_number.replace(\"-\", \" \"))"
   ]
  },
  {
   "cell_type": "markdown",
   "metadata": {},
   "source": [
    "### type 함수\n",
    "- 자료형 확인"
   ]
  },
  {
   "cell_type": "code",
   "execution_count": null,
   "metadata": {},
   "outputs": [],
   "source": [
    "# num_str = \"720\"\n",
    "# num_str 타입 확인하기\n",
    "num_str = \"720\"\n",
    "type(num_str)"
   ]
  },
  {
   "cell_type": "markdown",
   "metadata": {},
   "source": [
    " - type 변환하기\n",
    "   - int() : 정수형 전환\n",
    "   - float() : 실수형 전환\n",
    "   - str() : 문자열 전환"
   ]
  },
  {
   "cell_type": "code",
   "execution_count": null,
   "metadata": {},
   "outputs": [],
   "source": [
    "# num_str = \"720\"\n",
    "# 문자열을 정수형으로 전환\n",
    "num_str = \"720\"\n",
    "int(num_str)\n",
    "\n",
    "# 문자열을 실수형으로 전환\n",
    "num_str = \"720\"\n",
    "float(num_str)"
   ]
  },
  {
   "cell_type": "code",
   "execution_count": null,
   "metadata": {},
   "outputs": [],
   "source": [
    "# num = 100\n",
    "# 정수를 문자열로 전환\n",
    "num = 100\n",
    "str(num)\n",
    "\n",
    "# 정수를 실수형으로 전환\n",
    "num = 100\n",
    "float(num)"
   ]
  },
  {
   "cell_type": "code",
   "execution_count": null,
   "metadata": {},
   "outputs": [],
   "source": [
    "# data = 15.79\n",
    "# 실수형을 정수형으로 전환\n",
    "data = 15.79\n",
    "int(data)\n",
    "\n",
    "# 실수형을 문자열로 전환\n",
    "data = 15.79\n",
    "str(data)"
   ]
  }
 ],
 "metadata": {
  "kernelspec": {
   "display_name": "Python 3.8.10 64-bit",
   "language": "python",
   "name": "python3"
  },
  "language_info": {
   "codemirror_mode": {
    "name": "ipython",
    "version": 3
   },
   "file_extension": ".py",
   "mimetype": "text/x-python",
   "name": "python",
   "nbconvert_exporter": "python",
   "pygments_lexer": "ipython3",
   "version": "3.8.10"
  },
  "orig_nbformat": 4,
  "vscode": {
   "interpreter": {
    "hash": "e2782e0ab7cab974e8fb2dfc8cec048a29dc3b50e54743df0c4a34ac41b2be7e"
   }
  }
 },
 "nbformat": 4,
 "nbformat_minor": 2
}
