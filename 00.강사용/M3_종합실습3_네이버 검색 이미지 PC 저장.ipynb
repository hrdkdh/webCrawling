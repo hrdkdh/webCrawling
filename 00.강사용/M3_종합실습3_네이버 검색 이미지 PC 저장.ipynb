{
 "cells": [
  {
   "cell_type": "markdown",
   "metadata": {},
   "source": [
    "### 종합실습3"
   ]
  },
  {
   "cell_type": "markdown",
   "metadata": {},
   "source": [
    "Requests 혹은 Selenium 모듈을 이용해 네이버 이미지 검색에서 아이유를 검색하고,<br>\n",
    "검색결과 이미지들을 PC에 저장해 보세요. (50장 이상 저장)"
   ]
  },
  {
   "cell_type": "markdown",
   "metadata": {},
   "source": [
    "#### requests모듈"
   ]
  },
  {
   "cell_type": "code",
   "execution_count": null,
   "metadata": {},
   "outputs": [],
   "source": [
    "import requests\n",
    "import json\n",
    "\n",
    "# 주소 디코딩\n",
    "from urllib import parse\n",
    "\n",
    "search_key = \"아이유\"\n",
    "\n",
    "url = \"https://s.search.naver.com/p/c/image/search.naver\"\n",
    "param = {\n",
    "    \"where\" : \"image\", \n",
    "    \"rev\" : \"44\",\n",
    "    \"section\" : \"image\",\n",
    "    \"query\" : search_key, \n",
    "    \"ac\" : \"0\",\n",
    "    \"aq\" : \"0\",\n",
    "    \"spq\" : \"1\",\n",
    "    \"nx_search_query\" : search_key,\n",
    "    \"res_fr\" : \"0\",\n",
    "    \"res_to\" : \"0\",\n",
    "    \"datetype\" : \"0\",\n",
    "    \"startdate\" : \"0\",\n",
    "    \"enddate\" : \"0\",\n",
    "    \"nso\" : \"so:r,a:all,p:all\",\n",
    "    \"json_type\" : \"6\",\n",
    "    \"nlu_query\" : '{\"r_category\":\"12 11\"}',\n",
    "    \"nqx_theme\" : '{\"theme\":{\"main\":{\"name\":\"people_star\",\"os\":\"159229\",\"pkid\":\"1\"}}}',\n",
    "    \"gif\" : \"0\",\n",
    "    \"ccl\" : \"0\",\n",
    "    \"display\" : \"50\",\n",
    "    \"start\" : \"1\"}\n",
    "res = requests.get(url, params=param, verify=False)\n",
    "\n",
    "# 데이터 유형 확인해서 json형태가 될 수 있도록 데이터 수정\n",
    "# res.text[3:-4]\n",
    "\n",
    "\n",
    "# 편집한 데이터를 json형태로 불러오기\n",
    "items = json.loads(res.text[3:-4])[\"items\"]\n",
    "\n",
    "for i, img in enumerate(items):\n",
    "    print(i, \"번째 {} 저장\".format(search_key), end=\"\\r\")\n",
    "    # 주소 디코딩\n",
    "    img_url = parse.unquote(img[\"originalUrl\"]) # 이미지가 있는 주소 추출하기\n",
    "    img_res = requests.get(img_url, verify=False) # 주소에서 이미지 정보 가져오기\n",
    "    img_type = img_res.headers[\"Content-Type\"].split(\"/\")[1] # 이미지 타입 추출하기\n",
    "    # 파일로 저장하기, wb 바이너리 쓰기모드\n",
    "    open(\"./outputs/images/{}_{}.{}\".format(search_key, i, img_type), \"wb\").write(img_res.content)"
   ]
  },
  {
   "cell_type": "markdown",
   "metadata": {},
   "source": [
    "#### 검색어 함수화"
   ]
  },
  {
   "cell_type": "code",
   "execution_count": null,
   "metadata": {},
   "outputs": [],
   "source": [
    "import requests\n",
    "import json\n",
    "# 주소 디코딩\n",
    "from urllib import parse\n",
    "\n",
    "def download_images(search_key, start_no):\n",
    "    url = \"https://s.search.naver.com/p/c/image/search.naver\"\n",
    "    param = {\n",
    "        \"where\" : \"image\", \n",
    "        \"rev\" : \"44\",\n",
    "        \"section\" : \"image\",\n",
    "        \"query\" : search_key, \n",
    "        \"ac\" : \"0\",\n",
    "        \"aq\" : \"0\",\n",
    "        \"spq\" : \"1\",\n",
    "        \"nx_search_query\" : search_key,\n",
    "        \"res_fr\" : \"0\",\n",
    "        \"res_to\" : \"0\",\n",
    "        \"datetype\" : \"0\",\n",
    "        \"startdate\" : \"0\",\n",
    "        \"enddate\" : \"0\",\n",
    "        \"nso\" : \"so:r,a:all,p:all\",\n",
    "        \"json_type\" : \"6\",\n",
    "        \"nlu_query\" : '{\"r_category\":\"12 11\"}',\n",
    "        \"nqx_theme\" : '{\"theme\":{\"main\":{\"name\":\"people_star\",\"os\":\"159229\",\"pkid\":\"1\"}}}',\n",
    "        \"gif\" : \"0\",\n",
    "        \"ccl\" : \"0\",\n",
    "        \"display\" : \"100\",\n",
    "        \"start\" : \"start_no\"}\n",
    "    res = requests.get(url, params=param)\n",
    "    # 데이터 유형 확인해서 json형태가 될 수 있도록 데이터 수정\n",
    "    res.text[3:-4]\n",
    "    # 편집한 데이터를 json형태로 불러오기\n",
    "    items = json.loads(res.text[3:-4])[\"items\"]\n",
    "    for i, img in enumerate(items):\n",
    "        print(i, \"번째 {} 저장\".format(search_key), end=\"\\r\")\n",
    "        # 주소 디코딩\n",
    "        img_url = parse.unquote(img[\"originalUrl\"])\n",
    "        img_res = requests.get(img_url)\n",
    "        img_type = img_res.headers[\"Content-Type\"].split(\"/\")[1]\n",
    "        # 파일로 저장하기\n",
    "        open(\"./outputs/IU/{}번째_{}_{}.{}\".format(i, search_key, start_no, img_type), \"wb\").write(img_res.content)"
   ]
  },
  {
   "cell_type": "code",
   "execution_count": null,
   "metadata": {},
   "outputs": [],
   "source": [
    "# 검색어 함수화 테스트\n",
    "download_images(\"포스코\", 1)"
   ]
  }
 ],
 "metadata": {
  "kernelspec": {
   "display_name": "Python 3.8.10 64-bit",
   "language": "python",
   "name": "python3"
  },
  "language_info": {
   "codemirror_mode": {
    "name": "ipython",
    "version": 3
   },
   "file_extension": ".py",
   "mimetype": "text/x-python",
   "name": "python",
   "nbconvert_exporter": "python",
   "pygments_lexer": "ipython3",
   "version": "3.8.10"
  },
  "orig_nbformat": 4,
  "vscode": {
   "interpreter": {
    "hash": "e2782e0ab7cab974e8fb2dfc8cec048a29dc3b50e54743df0c4a34ac41b2be7e"
   }
  }
 },
 "nbformat": 4,
 "nbformat_minor": 2
}
