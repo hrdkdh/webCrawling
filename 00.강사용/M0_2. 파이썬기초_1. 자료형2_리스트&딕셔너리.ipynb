{
 "cells": [
  {
   "cell_type": "markdown",
   "metadata": {},
   "source": [
    "### 리스트 자료형"
   ]
  },
  {
   "cell_type": "markdown",
   "metadata": {},
   "source": [
    "- 데이터 추가"
   ]
  },
  {
   "cell_type": "code",
   "execution_count": null,
   "metadata": {},
   "outputs": [],
   "source": [
    "# movie = [\"닥터 스트레인지\", \"스플릿\", \"럭키\"]\n",
    "# 배트맨 추가하기\n"
   ]
  },
  {
   "cell_type": "code",
   "execution_count": null,
   "metadata": {},
   "outputs": [],
   "source": [
    "# movie = [\"닥터 스트레인지\", \"스플릿\", \"럭키\"]\n",
    "# 배트맨 추가하기\n",
    "movie = [\"닥터 스트레인지\", \"스플릿\", \"럭키\"]\n",
    "movie.append(\"배트맨\")\n",
    "print(movie)"
   ]
  },
  {
   "cell_type": "markdown",
   "metadata": {},
   "source": [
    "- 리스트 인덱싱"
   ]
  },
  {
   "cell_type": "code",
   "execution_count": null,
   "metadata": {},
   "outputs": [],
   "source": [
    "# cook = [\"피자\", \"김밥\", \"만두\", \"양념치킨\", \"족발\", \"피자\", \"김치만두\", \"쫄면\", \"소시지\", \"라면\", \"팥빙수\", \"김치전\"]\n",
    "# 세 번째 데이터 출력하기\n"
   ]
  },
  {
   "cell_type": "code",
   "execution_count": null,
   "metadata": {},
   "outputs": [],
   "source": [
    "# cook = [\"피자\", \"김밥\", \"만두\", \"양념치킨\", \"족발\", \"피자\", \"김치만두\", \"쫄면\", \"소시지\", \"라면\", \"팥빙수\", \"김치전\"]\n",
    "# 세 번째 데이터 출력하기\n",
    "cook = [\"피자\", \"김밥\", \"만두\", \"양념치킨\", \"족발\", \"피자\", \"김치만두\", \"쫄면\", \"소시지\", \"라면\", \"팥빙수\", \"김치전\"]\n",
    "print(cook[2])"
   ]
  },
  {
   "cell_type": "markdown",
   "metadata": {},
   "source": [
    "- 리스트 슬라이싱"
   ]
  },
  {
   "cell_type": "code",
   "execution_count": null,
   "metadata": {},
   "outputs": [],
   "source": [
    "# cook = [\"피자\", \"김밥\", \"만두\", \"양념치킨\", \"족발\", \"피자\", \"김치만두\", \"쫄면\", \"소시지\", \"라면\", \"팥빙수\", \"김치전\"]\n",
    "# 김치만두부터 데이터 끝까지 출력하기\n"
   ]
  },
  {
   "cell_type": "code",
   "execution_count": null,
   "metadata": {},
   "outputs": [],
   "source": [
    "# cook = [\"피자\", \"김밥\", \"만두\", \"양념치킨\", \"족발\", \"피자\", \"김치만두\", \"쫄면\", \"소시지\", \"라면\", \"팥빙수\", \"김치전\"]\n",
    "# 김치만두부터 데이터 끝까지 출력하기\n",
    "cook = [\"피자\", \"김밥\", \"만두\", \"양념치킨\", \"족발\", \"피자\", \"김치만두\", \"쫄면\", \"소시지\", \"라면\", \"팥빙수\", \"김치전\"]\n",
    "cook.index(\"김치만두\")\n",
    "print(cook[6:])"
   ]
  },
  {
   "cell_type": "markdown",
   "metadata": {},
   "source": [
    "### 딕셔너리 자료형"
   ]
  },
  {
   "cell_type": "markdown",
   "metadata": {},
   "source": [
    "- 데이터 추가하기"
   ]
  },
  {
   "cell_type": "code",
   "execution_count": null,
   "metadata": {},
   "outputs": [],
   "source": [
    "# ice = {\"메로나\": 1000, \"폴라포\": 1200, \"빵빠레\": 1800}\n",
    "# 죠스바 1200, 월드콘 1500 추가하기\n"
   ]
  },
  {
   "cell_type": "code",
   "execution_count": null,
   "metadata": {},
   "outputs": [],
   "source": [
    "# ice = {\"메로나\": 1000, \"폴라포\": 1200, \"빵빠레\": 1800}\n",
    "# 죠스바 1200, 월드콘 1500 추가하기\n",
    "ice = {\"메로나\": 1000, \"폴라포\": 1200, \"빵빠레\": 1800}\n",
    "ice[\"죠스바\"] = 1200\n",
    "ice[\"월드콘\"] = 1500\n",
    "print(ice)"
   ]
  },
  {
   "cell_type": "markdown",
   "metadata": {},
   "source": [
    "- 키 확인하기"
   ]
  },
  {
   "cell_type": "code",
   "execution_count": null,
   "metadata": {},
   "outputs": [],
   "source": [
    "# ice = {\"메로나\": 1000, \"폴라포\": 1200, \"빵빠레\": 1800}\n",
    "# 키 확인하기\n"
   ]
  },
  {
   "cell_type": "code",
   "execution_count": null,
   "metadata": {},
   "outputs": [],
   "source": [
    "# ice = {\"메로나\": 1000, \"폴라포\": 1200, \"빵빠레\": 1800}\n",
    "# 키 확인하기\n",
    "ice = {\"메로나\": 1000, \"폴라포\": 1200, \"빵빠레\": 1800}\n",
    "print(ice.keys())\n",
    "print(list(ice.keys()))\n"
   ]
  },
  {
   "cell_type": "markdown",
   "metadata": {},
   "source": [
    "- value 확인하기"
   ]
  },
  {
   "cell_type": "code",
   "execution_count": null,
   "metadata": {},
   "outputs": [],
   "source": [
    "# ice = {\"메로나\": 1000, \"폴라포\": 1200, \"빵빠레\": 1800}\n",
    "# value 확인하기"
   ]
  },
  {
   "cell_type": "code",
   "execution_count": null,
   "metadata": {},
   "outputs": [],
   "source": [
    "# ice = {\"메로나\": 1000, \"폴라포\": 1200, \"빵빠레\": 1800}\n",
    "# 키 확인하기\n",
    "ice = {\"메로나\": 1000, \"폴라포\": 1200, \"빵빠레\": 1800}\n",
    "print(ice.values())\n",
    "print(list(ice.values()))"
   ]
  },
  {
   "cell_type": "markdown",
   "metadata": {},
   "source": [
    "- 키 값 확인하기"
   ]
  },
  {
   "cell_type": "code",
   "execution_count": null,
   "metadata": {},
   "outputs": [],
   "source": [
    "# inventory = {\"메로나\": [1000, 20], \"비비빅\": [1100, 3], \"죠스바\": [1200, 100]}\n",
    "# 메로나 가격 및 재고 확인하기"
   ]
  },
  {
   "cell_type": "code",
   "execution_count": null,
   "metadata": {},
   "outputs": [],
   "source": [
    "# inventory = {\"메로나\": [1000, 20], \"비비빅\": [1100, 3], \"죠스바\": [1200, 100]}\n",
    "# 메로나 가격 및 재고 확인하기\n",
    "inventory = {\"메로나\": [1000, 20], \"비비빅\": [1100, 3], \"죠스바\": [1200, 100]}\n",
    "print(inventory[\"메로나\"])\n",
    "print(\"가격: \", inventory[\"메로나\"][0], \"월\")\n",
    "print(\"재고: \", inventory[\"메로나\"][1], \"개\")"
   ]
  },
  {
   "cell_type": "markdown",
   "metadata": {},
   "source": [
    "- 두개의 리스트를 딕셔너리로 만들기(튜플형태도 가능)"
   ]
  },
  {
   "cell_type": "code",
   "execution_count": null,
   "metadata": {},
   "outputs": [],
   "source": [
    "# key_icecream = ['메로나', '폴라포', '빵빠레']\n",
    "# value_price = [1000, 1200, 1800]\n",
    "# result 딕셔너리 생성하기"
   ]
  },
  {
   "cell_type": "code",
   "execution_count": null,
   "metadata": {},
   "outputs": [],
   "source": [
    "# key_icecream = ['메로나', '폴라포', '빵빠레']\n",
    "# value_price = [1000, 1200, 1800]\n",
    "# result 딕셔너리 생성하기\n",
    "key_icecream = ['메로나', '폴라포', '빵빠레']\n",
    "value_price = [1000, 1200, 1800]\n",
    "result = dict(zip(key_icecream, value_price))\n",
    "print(result)"
   ]
  }
 ],
 "metadata": {
  "interpreter": {
   "hash": "eaced25f405a968501a0306bf52a330115d216124dbbb2ff2564a9806cc98559"
  },
  "kernelspec": {
   "display_name": "Python 3.8.10 64-bit",
   "language": "python",
   "name": "python3"
  },
  "language_info": {
   "codemirror_mode": {
    "name": "ipython",
    "version": 3
   },
   "file_extension": ".py",
   "mimetype": "text/x-python",
   "name": "python",
   "nbconvert_exporter": "python",
   "pygments_lexer": "ipython3",
   "version": "3.8.10"
  },
  "orig_nbformat": 4
 },
 "nbformat": 4,
 "nbformat_minor": 2
}
