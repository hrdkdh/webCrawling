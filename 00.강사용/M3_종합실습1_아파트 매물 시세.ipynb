{
 "cells": [
  {
   "cell_type": "markdown",
   "metadata": {},
   "source": [
    "### 종합실습1"
   ]
  },
  {
   "cell_type": "markdown",
   "metadata": {},
   "source": [
    "Requests 혹은 Selenium 모듈을 이용해 부동산114 홈페이지로 접속한 다음, <br>\n",
    "원하는 지역의 아파트 매물 시세 100건을 검색하여 주피터 노트북 화면에 출력하거나 엑셀로 저장해 보세요.<br>\n",
    "(링크 : https://www.r114.com/)"
   ]
  },
  {
   "cell_type": "markdown",
   "metadata": {},
   "source": [
    "#### requests모듈"
   ]
  },
  {
   "cell_type": "code",
   "execution_count": null,
   "metadata": {},
   "outputs": [],
   "source": [
    "import requests\n",
    "from bs4 import BeautifulSoup\n",
    "import pandas as pd\n",
    "\n",
    "# 홈페이지 오른쪽 상단 돋보기클릭 -포항 검색-아파트 클릭-매매 클릭\n",
    "url = \"https://www.r114.com/search/detailSearch.asp\"\n",
    "search_key = \"포항\"\n",
    "\n",
    "results_list = []\n",
    "for i in range(1, 11):\n",
    "    print(\"{}페이지 크롤링 중입니다....\".format(i))\n",
    "    d = {\n",
    "        \"dqSearchTerm\": search_key,\n",
    "        \"dqSearchTermOld\": search_key,\n",
    "        \"dqSearchType\": \"memul\",\n",
    "        \"dqOption\": \"apt\",\n",
    "        \"dqSearchSubType\": \"매매\",\n",
    "        \"dqPage\": i\n",
    "        }\n",
    "    res = requests.post(url, data=d, verify=False)\n",
    "    #response 헤더의 Content-Type에 charset 정보가 없음. 이로 인해 response된 데이터가 ISO-8859-1으로\n",
    "    #인코딩된 것으로 requests 모듈이 자동판단, res.text 값을 ISO-8859-1로 디코딩해버림\n",
    "    #하지만 실제로는 UTF-8로 인코딩되어 있으므로 UTF-8로 디코딩해야 한글이 정상 출력됨\n",
    "    #print(res.encoding) # -> 'ISO-8859-1' 출력됨\n",
    "    res.encoding=\"UTF-8\"\n",
    "    res_en = res.text\n",
    "    soup = BeautifulSoup(res_en, \"html.parser\")\n",
    "    datas = soup.select(\".list_article > li\")\n",
    "    for data in datas:\n",
    "        name = data.select(\".tit_a > span:nth-child(1)\")[0].text\n",
    "        price = data.select(\".tit_a > em\")[0].text.split(\"매매\")[-1].replace(\" \", \"\")\n",
    "        loc = data.select(\"span.txt > strong\")[0].text\n",
    "        loc_list = data.select(\"span.txt\")[0].text.split(loc)[-1]\n",
    "        feature = loc_list[:35].replace(\" \", \"\")\n",
    "        enviro = data.select(\"span.txt > em\")[0].text\n",
    "        addr = data.select(\".txt p\")[0].text[2:]\n",
    "        # size = data.select(\".txt\")[0].text.split(\"|\")[1]\n",
    "        com = data.select(\"em.tel p.name\")[0].text.split(\"C\")[-1]\n",
    "        phone = data.select(\"em.tel span\")[0].text.split(\"전화번호\")[-1]\n",
    "        result = {\n",
    "            \"아파트명\" : name,\n",
    "            \"매매가\" : price,\n",
    "            \"특징\" : feature,\n",
    "            \"주변환경\" : enviro,\n",
    "            \"주소\" : addr,\n",
    "            \"부동산\" : com,\n",
    "            \"연락처\" : phone\n",
    "            }\n",
    "        results_list.append(result)\n",
    "    df = pd.DataFrame(results_list)\n",
    "    df_ex = df.to_excel(\"./outputs/{}지역 아파트 매매가_requests모듈.xlsx\".format(search_key), index=False)"
   ]
  },
  {
   "cell_type": "markdown",
   "metadata": {},
   "source": [
    "#### selenium모듈"
   ]
  },
  {
   "cell_type": "code",
   "execution_count": null,
   "metadata": {},
   "outputs": [],
   "source": [
    "import time\n",
    "import pandas as pd\n",
    "from bs4 import BeautifulSoup\n",
    "from selenium import webdriver\n",
    "from selenium.webdriver.common.by import By\n",
    "\n",
    "#아래에 코드 작성\n",
    "driver = webdriver.Chrome(\"chromedriver.exe\")\n",
    "driver.get(\"https://www.r114.com/\")\n",
    "driver.find_element(By.CSS_SELECTOR, \"#dqSearchTerm\").send_keys(\"포항\")\n",
    "driver.find_element(By.CSS_SELECTOR, \"#cmdSearchHome\").click()\n",
    "driver.find_element(By.CSS_SELECTOR, \".list_tab_sale > .apt > a\").click()\n",
    "time.sleep(5)\n",
    "results = []\n",
    "for i in range(1, 11):\n",
    "    html_text = driver.page_source\n",
    "    soup = BeautifulSoup(html_text, \"html.parser\")\n",
    "    items = soup.select(\".list_article > li\")\n",
    "    for item in items:\n",
    "        size_list = item.select(\".txt\")[0].text.split(\" | \")\n",
    "        size = [x for x in size_list if \"㎡\" in x][0]\n",
    "        this_result_dict = {\n",
    "            \"아파트명\" : item.select(\".tit_a > span\")[0].text,\n",
    "            \"지역\" : item.select(\".txt > strong\")[0].text,\n",
    "            \"크기\" : size,\n",
    "            \"매매가\" : item.select(\".tit_a > em\")[0].text.replace(\"매매\", \"\")\n",
    "        }\n",
    "        results.append(this_result_dict)\n",
    "    if i < 10:\n",
    "        for page_no in driver.find_elements(By.CSS_SELECTOR, \".paging > a\"):\n",
    "            if page_no.text.strip() == str(i+1):\n",
    "                page_no.click()\n",
    "                break\n",
    "    \n",
    "df = pd.DataFrame(results)\n",
    "df.to_excel(\"../outputs/포항시 아파트 매매가 동향.xlsx\", index = False)\n",
    "df"
   ]
  }
 ],
 "metadata": {
  "kernelspec": {
   "display_name": "Python 3.8.10 64-bit",
   "language": "python",
   "name": "python3"
  },
  "language_info": {
   "codemirror_mode": {
    "name": "ipython",
    "version": 3
   },
   "file_extension": ".py",
   "mimetype": "text/x-python",
   "name": "python",
   "nbconvert_exporter": "python",
   "pygments_lexer": "ipython3",
   "version": "3.8.10"
  },
  "orig_nbformat": 4,
  "vscode": {
   "interpreter": {
    "hash": "e2782e0ab7cab974e8fb2dfc8cec048a29dc3b50e54743df0c4a34ac41b2be7e"
   }
  }
 },
 "nbformat": 4,
 "nbformat_minor": 2
}
