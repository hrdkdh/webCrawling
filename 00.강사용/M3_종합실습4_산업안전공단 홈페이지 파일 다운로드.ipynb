{
 "cells": [
  {
   "cell_type": "markdown",
   "metadata": {},
   "source": [
    "### 종합실습4"
   ]
  },
  {
   "cell_type": "markdown",
   "metadata": {},
   "source": [
    "산업안전보건공단 홈페이지에 접속한 다음, ‘자료마당 > 통합자료실 > 재해사례 > 국내  재해사례> 제조업’ 페이지로 들어가<br>\n",
    "각 게시글에 첨부된 파일을 100건 이상 다운로드해 보세요.<br>\n",
    "(링크 : https://www.kosha.or.kr/kosha/data/machine.do?articleLimit=100 )"
   ]
  },
  {
   "cell_type": "code",
   "execution_count": null,
   "metadata": {},
   "outputs": [],
   "source": [
    "import requests\n",
    "from bs4 import BeautifulSoup\n",
    "\n",
    "url = \"https://www.kosha.or.kr/kosha/data/machine.do\"\n",
    "param = {\n",
    "    \"mode\": \"list\",\n",
    "    \"articleLimit\": \"100\",\n",
    "    \"article.offset\": \"0\"\n",
    "    }\n",
    "\n",
    "res = requests.get(url, params = param, verify=False)\n",
    "# 100개 로드된 페이지 확인\n",
    "\n",
    "soup = BeautifulSoup(res.text, \"html.parser\")\n",
    "\n",
    "# url param앞에 주소\n",
    "url_base = \"https://www.kosha.or.kr/kosha/data/machine.do\"\n",
    "\n",
    "# 게시글 페이지마다 접속해서 text확인\n",
    "titles = soup.select(\".board-list-title a\")\n",
    "\n",
    "for title in titles:\n",
    "    url_full = url_base+title.attrs[\"href\"]\n",
    "    res_title = requests.get(url_full, verify=False)\n",
    "\n",
    "    # 각 게시글을 soup객체에 저장\n",
    "    title_soup = BeautifulSoup(res_title.text, \"html.parser\")   \n",
    "\n",
    "    # 첨부파일의 url확인\n",
    "    file_data = title_soup.select(\"#view-downbox a:nth-child(1)\")[0]\n",
    "    file_url = url_base + file_data.attrs[\"href\"]\n",
    "\n",
    "    # 첨부파일 url 파일 확인\n",
    "    file_pdf = requests.get(file_url, verify=False)\n",
    "\n",
    "    # 파일 확장자 확인\n",
    "    file_ext = file_data.text.strip().split(\".\")[-1]\n",
    "\n",
    "    # 파일 이름 저장\n",
    "    file_name = file_data.text.strip().split(\".\")[0]\n",
    "\n",
    "    # 파일 등록 날짜 저장\n",
    "    file_date = title_soup.select(\".view-header > td\")[0].text\n",
    "\n",
    "    open(\"./outputs/files/{}_{}.{}\".format(file_date, file_name, file_ext), \"wb\").write(file_pdf.content)"
   ]
  }
 ],
 "metadata": {
  "kernelspec": {
   "display_name": "Python 3.8.10 64-bit",
   "language": "python",
   "name": "python3"
  },
  "language_info": {
   "codemirror_mode": {
    "name": "ipython",
    "version": 3
   },
   "file_extension": ".py",
   "mimetype": "text/x-python",
   "name": "python",
   "nbconvert_exporter": "python",
   "pygments_lexer": "ipython3",
   "version": "3.8.10"
  },
  "orig_nbformat": 4,
  "vscode": {
   "interpreter": {
    "hash": "e2782e0ab7cab974e8fb2dfc8cec048a29dc3b50e54743df0c4a34ac41b2be7e"
   }
  }
 },
 "nbformat": 4,
 "nbformat_minor": 2
}
