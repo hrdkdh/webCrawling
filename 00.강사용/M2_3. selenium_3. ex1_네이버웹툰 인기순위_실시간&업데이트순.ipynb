{
 "cells": [
  {
   "cell_type": "markdown",
   "metadata": {},
   "source": [
    "### 네이버웹툰 실시간 인기순위 다운로드"
   ]
  },
  {
   "cell_type": "code",
   "execution_count": 1,
   "metadata": {},
   "outputs": [
    {
     "name": "stdout",
     "output_type": "stream",
     "text": [
      "01 위 :  참교육-103화\n",
      "02 위 :  퀘스트지상주의-54화 가족 건들면 뒤진다고\n",
      "03 위 :  윈드브레이커-4부 - 34화 마음의 평온\n",
      "04 위 :  뷰티풀 군바리-352화_소수로서 첫 시위 (2)\n",
      "05 위 :  신화급 귀속 아이템을 손에 넣었다-22화\n",
      "06 위 :  팔이피플-55화 - 계모임의 향방\n",
      "07 위 :  똑 닮은 딸-60화\n",
      "08 위 :  물어보는 사이-65화\n",
      "09 위 :  싸움독학-151화 : 보미 보고 싶다\n",
      "10 위 :  장씨세가 호위무사-181화\n"
     ]
    }
   ],
   "source": [
    "# selenium 모듈의 웹드라이버 로드\n",
    "from selenium import webdriver\n",
    "from selenium.webdriver.common.by import By\n",
    "\n",
    "# 웹드라이버 객체 생성\n",
    "driver = webdriver.Chrome(\"chromedriver\")\n",
    "\n",
    "# 웹드라이버로 크롬 브라우저 실행&네이버 접속\n",
    "driver.get(\"https://www.naver.com\")\n",
    "driver.implicitly_wait(10)\n",
    "driver.maximize_window()\n",
    "\n",
    "# 웹툰 클릭\n",
    "selector = \"#NM_FAVORITE > div.group_nav > ul.list_nav.NM_FAVORITE_LIST > li:nth-child(8) > a\"\n",
    "driver.find_element(By.CSS_SELECTOR, selector).click()\n",
    "\n",
    "# 인기순 순위 CSS_selector 규칙 확인하기\n",
    "#realTimeRankFavorite > li.rank01 > a\n",
    "#realTimeRankFavorite > li.rank02 > a\n",
    "#realTimeRankFavorite > li.rank03 > a\n",
    "\n",
    "# 찾은 규칙 for문 구성하기\n",
    "for i in range(1, 11):\n",
    "    i = format(i, \"02\") # 숫자를 두 자리까지 표현하는 공식\n",
    "    title = driver.find_element(By.CSS_SELECTOR, \"#realTimeRankFavorite > li.rank{} > a\".format(i))\n",
    "    print(i, \"위 : \", title.text)\n",
    "\n",
    "# 참고코드\n",
    "# i = 1\n",
    "# while i <= 10:\n",
    "#     i = format(i, \"02\")\n",
    "#     title_list = ranks.find(\"li\", attrs = {\"class\" : \"rank{}\".format(i)})\n",
    "#     title = title_list.find(\"a\")\n",
    "#     print(title.get_text())\n",
    "#     i = int(i) + 1"
   ]
  },
  {
   "cell_type": "markdown",
   "metadata": {},
   "source": [
    "#### bs4활용"
   ]
  },
  {
   "cell_type": "code",
   "execution_count": null,
   "metadata": {},
   "outputs": [],
   "source": [
    "# 인기순 클릭\n",
    "selector = \"#realTimeRankChoiceTabFavoriteClick\"\n",
    "driver.find_element(By.CSS_SELECTOR, selector).click()\n",
    "\n",
    "# 인기순 파싱하기\n",
    "soup = \n",
    "\n",
    "\n",
    "# 찾은 규칙 for문 구성하기\n",
    "for i in range(1, 11):\n",
    "    i = format(i, \"02\") # 숫자를 두 자리까지 표현하는 공식\n",
    "    title = driver.find_element(By.CSS_SELECTOR, \"#realTimeRankUpdate > li.rank{} > a\".format(i))\n",
    "    print(i, \"위 : \", title.text)"
   ]
  },
  {
   "cell_type": "code",
   "execution_count": null,
   "metadata": {},
   "outputs": [],
   "source": [
    "# 결과 엑셀로 저장하기\n",
    "import pandas as pd\n",
    "\n",
    "rank_list = []\n",
    "# 찾은 규칙 for문 구성하기\n",
    "for i in range(1, 11):\n",
    "    i = format(i, \"02\") # 숫자를 두 자리까지 표현하는 공식\n",
    "    title = driver.find_element(By.CSS_SELECTOR, \"#realTimeRankFavorite > li.rank{} > a\".format(i))\n",
    "    rank = {\n",
    "        \"순위\" : i,\n",
    "        \"제목\" : title.text\n",
    "    }\n",
    "    rank_list.append(rank)\n",
    "    # print(i, \"위 : \", title.text)\n",
    "\n",
    "# 순위 엑셀로 만들기\n",
    "df = pd.DataFrame(rank_list)\n",
    "file_name = \"./outputs/네이버웹툰_인기급상승웹툰_인기순.xlsx\"\n",
    "# index=False는 인덱스 제외하고, 엑셀에 저장\n",
    "df.to_excel(\n",
    "    file_name,\n",
    "    # header = True,\n",
    "    index = False,\n",
    "    # startrow = 0, \n",
    "    # startcol = 0\n",
    "    )\n",
    "display(df)"
   ]
  },
  {
   "cell_type": "markdown",
   "metadata": {},
   "source": [
    "### 네이버웹툰 업데이트순 인기순위 다운로드"
   ]
  },
  {
   "cell_type": "code",
   "execution_count": null,
   "metadata": {},
   "outputs": [],
   "source": [
    "# 업데이트순 클릭\n",
    "selector = \"#realTimeRankChoiceTabUpdateClick\"\n",
    "driver.find_element(By.CSS_SELECTOR, selector).click()\n",
    "\n",
    "# 인기순 순위 CSS_selector 규칙 확인하기\n",
    "#realTimeRankUpdate > li.rank01 > a\n",
    "#realTimeRankUpdate > li.rank02 > a\n",
    "#realTimeRankUpdate > li.rank03 > a\n",
    "\n",
    "# 찾은 규칙 for문 구성하기\n",
    "for i in range(1, 11):\n",
    "    i = format(i, \"02\") # 숫자를 두 자리까지 표현하는 공식\n",
    "    title = driver.find_element(By.CSS_SELECTOR, \"#realTimeRankUpdate > li.rank{} > a\".format(i))\n",
    "    print(i, \"위 : \", title.text)"
   ]
  }
 ],
 "metadata": {
  "kernelspec": {
   "display_name": "Python 3.8.10 64-bit",
   "language": "python",
   "name": "python3"
  },
  "language_info": {
   "codemirror_mode": {
    "name": "ipython",
    "version": 3
   },
   "file_extension": ".py",
   "mimetype": "text/x-python",
   "name": "python",
   "nbconvert_exporter": "python",
   "pygments_lexer": "ipython3",
   "version": "3.8.10"
  },
  "orig_nbformat": 4,
  "vscode": {
   "interpreter": {
    "hash": "e2782e0ab7cab974e8fb2dfc8cec048a29dc3b50e54743df0c4a34ac41b2be7e"
   }
  }
 },
 "nbformat": 4,
 "nbformat_minor": 2
}
