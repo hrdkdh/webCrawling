{
 "cells": [
  {
   "cell_type": "markdown",
   "metadata": {},
   "source": [
    "### 연습) 오픈API 활용하기"
   ]
  },
  {
   "cell_type": "markdown",
   "metadata": {},
   "source": [
    "Requests 모듈과 공공데이터포털에서 신청한 재난문자 오픈API를 활용해 데이터를 로드하고,<br>\n",
    "res.json() 메소드로 결과를 파싱하여 최근 발송된 재난문자를 목록으로 출력해 보세요."
   ]
  },
  {
   "cell_type": "code",
   "execution_count": null,
   "metadata": {},
   "outputs": [],
   "source": [
    "import requests\n",
    "\n",
    "# 공공데이터포털에서 받은 인증키 #decoding key로 입력\n",
    "# service_key = \"dMAhLxT6sWdtXIBQ%2Fh3poYt29QV%2F6KSXX0qDDZzjenATTBIqYOEXZYkAiF7y%2FBpLFA9Vu4jvNoiphD8o%2FiS%2FPg%3D%3D\"\n",
    "service_key = \"dMAhLxT6sWdtXIBQ/h3poYt29QV/6KSXX0qDDZzjenATTBIqYOEXZYkAiF7y/BpLFA9Vu4jvNoiphD8o/iS/Pg==\"\n",
    "\n",
    "# api.odcloud.kr/api\n",
    "\n",
    "url = \"http://apis.data.go.kr/1741000/DisasterMsg4/getDisasterMsg2List\"\n",
    "\n",
    "# URL에 붙을 파라미터를 딕셔너리로 저장한 후 get메소드의 params 파라미터의 값으로 입력\n",
    "param = {\n",
    "    \"ServiceKey\" : service_key, \n",
    "    \"pageNo\" : \"1\", \n",
    "    \"numOfRows\" : \"10\", \n",
    "    \"type\" : \"json\", \n",
    "    \"create_date\" : \"2022/07/22 00:00:00\", \n",
    "    \"location_name\" : \"경상북도 전체\",\n",
    "    }\n",
    "\n",
    "res = requests.get(url, params = param, verify=False)\n",
    "# try, except 문으로 에러 대비\n",
    "try:\n",
    "    json_parsed = res.json()\n",
    "except:\n",
    "    print(\"json parsing에 실패하였습니다. 아래 res.text 메시지를 확인해 보세요.\\n\", res.text)\n",
    "else:\n",
    "    for msg in json_parsed[\"DisasterMsg\"][1][\"row\"]:\n",
    "        print(msg[\"msg\"])\n",
    "    print(json_parsed)"
   ]
  },
  {
   "cell_type": "code",
   "execution_count": null,
   "metadata": {},
   "outputs": [],
   "source": [
    "json_parsed[\"DisasterMsg2\"][1][\"row\"][0][\"msg\"]"
   ]
  },
  {
   "cell_type": "code",
   "execution_count": null,
   "metadata": {},
   "outputs": [],
   "source": [
    "json_parsed"
   ]
  },
  {
   "cell_type": "code",
   "execution_count": null,
   "metadata": {},
   "outputs": [],
   "source": [
    "for i in json_parsed[\"DisasterMsg2\"][1][\"row\"]:\n",
    "    print(i[\"msg\"])"
   ]
  },
  {
   "cell_type": "markdown",
   "metadata": {},
   "source": [
    "- try: 시도할 코드\n",
    "- except: 에러시 실행되는 코드\n",
    "- else: 에러나 없다면 실행되는 코드\n",
    "- finally: 에러가 나든 안나든 무조건 실행되는 코드"
   ]
  },
  {
   "cell_type": "markdown",
   "metadata": {},
   "source": [
    "### 한국관광공사_관광빅데이터정보서비스"
   ]
  },
  {
   "cell_type": "code",
   "execution_count": 1,
   "metadata": {},
   "outputs": [
    {
     "name": "stderr",
     "output_type": "stream",
     "text": [
      "c:\\Users\\poscouser\\AppData\\Local\\Programs\\Python\\Python38\\lib\\site-packages\\urllib3\\connectionpool.py:1013: InsecureRequestWarning: Unverified HTTPS request is being made to host 'api.visitkorea.or.kr'. Adding certificate verification is strongly advised. See: https://urllib3.readthedocs.io/en/1.26.x/advanced-usage.html#ssl-warnings\n",
      "  warnings.warn(\n"
     ]
    },
    {
     "name": "stdout",
     "output_type": "stream",
     "text": [
      "{'response': {'header': {'resultCode': '0000', 'resultMsg': 'OK'}, 'body': {'items': {'item': [{'areaCode': '11', 'areaNm': '서울특별시', 'daywkDivCd': '3', 'daywkDivNm': '수요일', 'touDivCd': '1', 'touDivNm': '현지인(a)', 'touNum': '4697721.0', 'baseYmd': '20220413'}, {'areaCode': '11', 'areaNm': '서울특별시', 'daywkDivCd': '3', 'daywkDivNm': '수요일', 'touDivCd': '2', 'touDivNm': '외지인(b)', 'touNum': '1407938.0', 'baseYmd': '20220413'}, {'areaCode': '11', 'areaNm': '서울특별시', 'daywkDivCd': '3', 'daywkDivNm': '수요일', 'touDivCd': '3', 'touDivNm': '외국인(c)', 'touNum': '5713.006361066569', 'baseYmd': '20220413'}, {'areaCode': '26', 'areaNm': '부산광역시', 'daywkDivCd': '3', 'daywkDivNm': '수요일', 'touDivCd': '1', 'touDivNm': '현지인(a)', 'touNum': '1460095.0', 'baseYmd': '20220413'}, {'areaCode': '26', 'areaNm': '부산광역시', 'daywkDivCd': '3', 'daywkDivNm': '수요일', 'touDivCd': '2', 'touDivNm': '외지인(b)', 'touNum': '263182.5', 'baseYmd': '20220413'}, {'areaCode': '26', 'areaNm': '부산광역시', 'daywkDivCd': '3', 'daywkDivNm': '수요일', 'touDivCd': '3', 'touDivNm': '외국인(c)', 'touNum': '3196.7347663680725', 'baseYmd': '20220413'}, {'areaCode': '27', 'areaNm': '대구광역시', 'daywkDivCd': '3', 'daywkDivNm': '수요일', 'touDivCd': '1', 'touDivNm': '현지인(a)', 'touNum': '1177820.0', 'baseYmd': '20220413'}, {'areaCode': '27', 'areaNm': '대구광역시', 'daywkDivCd': '3', 'daywkDivNm': '수요일', 'touDivCd': '2', 'touDivNm': '외지인(b)', 'touNum': '189507.5', 'baseYmd': '20220413'}, {'areaCode': '27', 'areaNm': '대구광역시', 'daywkDivCd': '3', 'daywkDivNm': '수요일', 'touDivCd': '3', 'touDivNm': '외국인(c)', 'touNum': '356.0851454823888', 'baseYmd': '20220413'}, {'areaCode': '28', 'areaNm': '인천광역시', 'daywkDivCd': '3', 'daywkDivNm': '수요일', 'touDivCd': '1', 'touDivNm': '현지인(a)', 'touNum': '1266912.5', 'baseYmd': '20220413'}]}, 'numOfRows': 10, 'pageNo': 1, 'totalCount': 51}}}\n"
     ]
    }
   ],
   "source": [
    "import requests\n",
    "\n",
    "# 공공데이터포털에서 받은 인증키 #decoding key로 입력\n",
    "# service_key = \"dMAhLxT6sWdtXIBQ%2Fh3poYt29QV%2F6KSXX0qDDZzjenATTBIqYOEXZYkAiF7y%2FBpLFA9Vu4jvNoiphD8o%2FiS%2FPg%3D%3D\"\n",
    "service_key = \"dMAhLxT6sWdtXIBQ/h3poYt29QV/6KSXX0qDDZzjenATTBIqYOEXZYkAiF7y/BpLFA9Vu4jvNoiphD8o/iS/Pg==\"\n",
    "\n",
    "# api.odcloud.kr/api\n",
    "\n",
    "url = \"http://api.visitkorea.or.kr/openapi/service/rest/DataLabService/metcoRegnVisitrDDList\"\n",
    "\n",
    "# URL에 붙을 파라미터를 딕셔너리로 저장한 후 get메소드의 params 파라미터의 값으로 입력\n",
    "param = {\n",
    "    \"serviceKey\" : service_key, \n",
    "    \"pageNo\" : \"1\", \n",
    "    \"numOfRows\" : \"10\", \n",
    "    \"MobileOS\" : \"ETC\", \n",
    "    \"MobileApp\" : \"AppTest\", \n",
    "    \"startYmd\" : \"20220413\", \n",
    "    \"endYmd\" : \"20220413\",\n",
    "    \"_type\" : \"json\"\n",
    "    }\n",
    "\n",
    "res = requests.get(url, params = param, verify=False)\n",
    "json_parsed = res.json()\n",
    "print(json_parsed)"
   ]
  },
  {
   "cell_type": "markdown",
   "metadata": {},
   "source": [
    "### 기상청_관광코스별 관광지 상세 날씨 조회서비스"
   ]
  },
  {
   "cell_type": "code",
   "execution_count": null,
   "metadata": {},
   "outputs": [],
   "source": [
    "import requests\n",
    "\n",
    "# 공공데이터포털에서 받은 인증키 #decoding key로 입력\n",
    "# service_key = \"dMAhLxT6sWdtXIBQ%2Fh3poYt29QV%2F6KSXX0qDDZzjenATTBIqYOEXZYkAiF7y%2FBpLFA9Vu4jvNoiphD8o%2FiS%2FPg%3D%3D\"\n",
    "service_key = \"dMAhLxT6sWdtXIBQ/h3poYt29QV/6KSXX0qDDZzjenATTBIqYOEXZYkAiF7y/BpLFA9Vu4jvNoiphD8o/iS/Pg==\"\n",
    "\n",
    "# api.odcloud.kr/api\n",
    "\n",
    "url = \"http://apis.data.go.kr/1360000/TourStnInfoService/getTourStnVilageFcst\"\n",
    "\n",
    "param = {\n",
    "    \"ServiceKey\" : service_key, \n",
    "    \"pageNo\" : \"1\", \n",
    "    \"numOfRows\" : \"10\", \n",
    "    \"dataType\" : \"json\", \n",
    "    \"CURRENT_DATE\" : \"2021080101\", \n",
    "    \"HOUR\" : \"24\",\n",
    "    \"COURSE_ID\" : \"2\",\n",
    "    }\n",
    "\n",
    "\n",
    "res = requests.get(url, params=param, verify=False)\n",
    "json_parsed = res.json()\n",
    "print(json_parsed)"
   ]
  },
  {
   "cell_type": "code",
   "execution_count": null,
   "metadata": {},
   "outputs": [],
   "source": [
    "json_parsed[\"response\"][\"body\"][\"items\"][\"item\"]"
   ]
  },
  {
   "cell_type": "code",
   "execution_count": null,
   "metadata": {},
   "outputs": [],
   "source": []
  }
 ],
 "metadata": {
  "kernelspec": {
   "display_name": "Python 3.8.10 64-bit",
   "language": "python",
   "name": "python3"
  },
  "language_info": {
   "codemirror_mode": {
    "name": "ipython",
    "version": 3
   },
   "file_extension": ".py",
   "mimetype": "text/x-python",
   "name": "python",
   "nbconvert_exporter": "python",
   "pygments_lexer": "ipython3",
   "version": "3.8.10"
  },
  "orig_nbformat": 4,
  "vscode": {
   "interpreter": {
    "hash": "e2782e0ab7cab974e8fb2dfc8cec048a29dc3b50e54743df0c4a34ac41b2be7e"
   }
  }
 },
 "nbformat": 4,
 "nbformat_minor": 2
}
