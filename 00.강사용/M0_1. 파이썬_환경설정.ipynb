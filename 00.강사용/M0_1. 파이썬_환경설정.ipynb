{
 "cells": [
  {
   "cell_type": "markdown",
   "metadata": {},
   "source": [
    "<style>\n",
    "    .css{color:yellow; font-weight:bold; font-size:24px}\n",
    "    .sub_li{color:white; font-weight:bold; font-size:18px}\n",
    "</style>\n",
    "\n",
    "<span class = \"css\"> [교육시 동일 환경 설정을 위한 프로그램 삭제] </span>\n",
    "<ol>\n",
    "    <li class = \"sub_li\"> 파이썬 앱 삭제 </li>\n",
    "    <li class = \"sub_li\"> 탐색기에서 파일 삭제 </li>\n",
    "    <li class = \"sub_li\"> 환경변수 삭제 </li>\n",
    "    <li class = \"sub_li\"> 재부팅 </li>\n",
    "</ol>"
   ]
  },
  {
   "cell_type": "markdown",
   "metadata": {},
   "source": [
    "<style>\n",
    "    .css{color:yellow; font-weight:bold; font-size:24px}\n",
    "    .sub_li{color:white; font-weight:bold; font-size:18px}\n",
    "</style>\n",
    "\n",
    "<span class = \"css\"> [파이썬 설치 순서 및 환경 설정] </span>\n",
    "<ol>\n",
    "    <li class = \"sub_li\"> 파이썬 설치(3.8.10) </li>\n",
    "    <li class = \"sub_li\"> command에서 python 실행 여부 확인 후 - 시스템 환경 변수 편집(PATH 최상위로 이동, 재부팅) </li>\n",
    "    <li class = \"sub_li\"> pip 업그레이드 : python -m pip install --upgrade pip </li>\n",
    "    <li class = \"sub_li\"> requests 설치 </li>\n",
    "    <li class = \"sub_li\"> pip list로 라이브러리 확인 </li>\n",
    "    <li class = \"sub_li\"> 주피터노트북 설치 </li>\n",
    "</ol>"
   ]
  },
  {
   "cell_type": "markdown",
   "metadata": {},
   "source": [
    "<style>\n",
    "    .css{color:yellow; font-weight:bold; font-size:24px}\n",
    "    .sub_txt{color:white; font-weight:bold; font-size:18px}\n",
    "</style>\n",
    "\n",
    "<span class = \"css\"> [라이브러리 설치시 ssl 오류 해결] </span><br>\n",
    "<span class = \"sub_txt\"> trusted-host pypi.org --trusted-host files.pythonhosted.org </span><br>\n",
    "※ win command에서 ssl 오류시는 마지막 분장에 한깐 띄우고 아래문장 붙임"
   ]
  },
  {
   "cell_type": "markdown",
   "metadata": {},
   "source": [
    "<style>\n",
    "    .css{color:yellow; font-weight:bold; font-size:24px}\n",
    "    .sub_li{color:white; font-weight:bold; font-size:18px}\n",
    "</style>\n",
    "\n",
    "<span class = \"css\"> [pip list로 확인시 오류 발생] </span>\n",
    "<ol>\n",
    "    <li class = \"sub_li\"> pip 업그레이드 실시 : python -m pip install --upgrade pip </li>\n",
    "    <li class = \"sub_li\"> 아무 라이브러리(pyautogui ot pandas 등) 설치후 pip list로 확인 </li>\n",
    "</ol>"
   ]
  },
  {
   "cell_type": "markdown",
   "metadata": {},
   "source": [
    "<style>\n",
    "    .css{color:yellow; font-weight:bold; font-size:24px}\n",
    "    .sub_txt{color:white; font-size:18px}\n",
    "</style>\n",
    "\n",
    "<span class = \"css\"> requests모듈 사용시 SSL 경고창 없애기 </span>"
   ]
  },
  {
   "cell_type": "markdown",
   "metadata": {},
   "source": [
    "requests.packages.urllib3.disable_warnings(requests.packages.urllib3.exceptions.InsecureRequestWarning)"
   ]
  },
  {
   "cell_type": "markdown",
   "metadata": {},
   "source": [
    "<style>\n",
    "    .css{color:yellow; font-weight:bold; font-size:24px}\n",
    "    .sub_txt{color:white; font-weight:bold; font-size:18px}\n",
    "</style>\n",
    "\n",
    "<span class = \"css\"> [selenium 특정 버전 설치 or 업/다운그레이드 설치] </span><br>\n",
    "<span class = \"sub_txt\"> pip install selenium==3.141.0 </span><br>\n",
    "<span class = \"sub_txt\"> pip install --upgrade selenium==3.141.0 </span><br>"
   ]
  },
  {
   "cell_type": "markdown",
   "metadata": {},
   "source": [
    "<style>\n",
    "    .css{color:yellow; font-weight:bold; font-size:24px}\n",
    "    .sub_txt{color:black; font-weight:bold; font-size:18px}\n",
    "</style>\n",
    "<span class = \"css\"> [Ie WebDriver 버전별 다운]-셀레늄과 동일한 버전으로 다운(3.141.0)-x86 </span><br>\n",
    "<span class = \"sub_txt\"> http://selenium-release.storage.googleapis.com/index.html </span><br>\n",
    "<br>\n",
    "<span class = \"css\"> [selenium 공식홈] </span><br>\n",
    "<span class = \"sub_txt\"> https://www.selenium.dev/ko/documentation/getting_started/ </span><br>"
   ]
  }
 ],
 "metadata": {
  "kernelspec": {
   "display_name": "Python 3.8.10 64-bit",
   "language": "python",
   "name": "python3"
  },
  "language_info": {
   "codemirror_mode": {
    "name": "ipython",
    "version": 3
   },
   "file_extension": ".py",
   "mimetype": "text/x-python",
   "name": "python",
   "nbconvert_exporter": "python",
   "pygments_lexer": "ipython3",
   "version": "3.8.10"
  },
  "orig_nbformat": 4,
  "vscode": {
   "interpreter": {
    "hash": "e2782e0ab7cab974e8fb2dfc8cec048a29dc3b50e54743df0c4a34ac41b2be7e"
   }
  }
 },
 "nbformat": 4,
 "nbformat_minor": 2
}
