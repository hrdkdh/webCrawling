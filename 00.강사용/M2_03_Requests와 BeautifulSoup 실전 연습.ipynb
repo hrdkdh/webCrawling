{
 "cells": [
  {
   "cell_type": "markdown",
   "metadata": {},
   "source": [
    "### 실전 연습1\n",
    "##### 아래 링크로 접속해 금융관련 주요뉴스 5건의 제목을 뽑아 출력해 보세요.\n",
    "##### https://finance.naver.com/"
   ]
  },
  {
   "cell_type": "code",
   "execution_count": null,
   "metadata": {},
   "outputs": [],
   "source": [
    "import requests\n",
    "from bs4 import BeautifulSoup\n",
    "\n",
    "#아래에 코드 작성\n",
    "header = {\n",
    "    \"User-Agent\" : \"Mozilla/5.0 (Windows NT 10.0; Win64; x64) AppleWebKit/537.36 (KHTML, like Gecko) Chrome/90.0.4430.93 Safari/537.36\"\n",
    "}\n",
    "url = \"https://finance.naver.com/\"\n",
    "result = requests.get(url, headers = header, verify=False)\n",
    "html = result.text\n",
    "\n",
    "soup = BeautifulSoup(html, \"html.parser\")\n",
    "articles = soup.select(\".section_strategy li a\")\n",
    "for article in articles:\n",
    "    article_title = article.text.strip()\n",
    "    print(article_title)"
   ]
  },
  {
   "cell_type": "markdown",
   "metadata": {},
   "source": [
    "### 실전 연습2\n",
    "##### 아래 링크로 접속한 후 하단에 보이는 댓글 5개를 뽑아 화면에 출력해 보세요.\n",
    "##### https://movie.naver.com/movie/bi/mi/basic.nhn?code=187310"
   ]
  },
  {
   "cell_type": "code",
   "execution_count": null,
   "metadata": {},
   "outputs": [],
   "source": [
    "import requests\n",
    "from bs4 import BeautifulSoup\n",
    "\n",
    "#아래에 코드 작성\n",
    "header = {\n",
    "    \"User-Agent\" : \"Mozilla/5.0 (Windows NT 10.0; Win64; x64) AppleWebKit/537.36 (KHTML, like Gecko) Chrome/90.0.4430.93 Safari/537.36\"\n",
    "}\n",
    "url = \"https://movie.naver.com/movie/bi/mi/basic.nhn?code=187310\"\n",
    "result = requests.get(url, headers = header, verify=False)\n",
    "html = result.text\n",
    "\n",
    "soup = BeautifulSoup(html, \"html.parser\")\n",
    "replies = soup.select(\".score_reple\")\n",
    "for reply in replies:\n",
    "    re_title = reply.select(\"p\")[0].text.strip()\n",
    "    print(re_title)"
   ]
  }
 ],
 "metadata": {
  "interpreter": {
   "hash": "27d72380f3865b4c7008c9c7901bfeb11f576f51ea7eb885160f000a78c1db8d"
  },
  "kernelspec": {
   "display_name": "Python 3.7.9 64-bit",
   "language": "python",
   "name": "python3"
  },
  "language_info": {
   "codemirror_mode": {
    "name": "ipython",
    "version": 3
   },
   "file_extension": ".py",
   "mimetype": "text/x-python",
   "name": "python",
   "nbconvert_exporter": "python",
   "pygments_lexer": "ipython3",
   "version": "3.7.9"
  },
  "toc": {
   "base_numbering": 1,
   "nav_menu": {},
   "number_sections": true,
   "sideBar": true,
   "skip_h1_title": false,
   "title_cell": "Table of Contents",
   "title_sidebar": "Contents",
   "toc_cell": false,
   "toc_position": {},
   "toc_section_display": true,
   "toc_window_display": false
  }
 },
 "nbformat": 4,
 "nbformat_minor": 5
}
