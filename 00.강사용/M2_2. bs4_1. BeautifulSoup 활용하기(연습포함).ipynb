{
 "cells": [
  {
   "cell_type": "markdown",
   "metadata": {},
   "source": [
    " - 모듈 import 방법 및 기본 사용법"
   ]
  },
  {
   "cell_type": "code",
   "execution_count": null,
   "metadata": {},
   "outputs": [],
   "source": [
    "from bs4 import BeautifulSoup\n",
    "\n",
    "html_text = \"<ul><li>뉴스 </li><li>증권</li><li>사전</li></ul>\"\n",
    "soup = BeautifulSoup(html_text, \"html.parser\")\n",
    "list = soup.select(\"ul > li\")\n",
    "print(list)"
   ]
  },
  {
   "cell_type": "markdown",
   "metadata": {},
   "source": [
    " - soup 객체 생성"
   ]
  },
  {
   "cell_type": "code",
   "execution_count": null,
   "metadata": {},
   "outputs": [],
   "source": [
    "from bs4 import BeautifulSoup\n",
    "html_text = '''\n",
    "<ul> \n",
    "  <li>1교시</li>\n",
    "  <li>2교시</li>\n",
    "</ul>\n",
    "\n",
    "<ol> \n",
    "  <li>3교시</li>\n",
    "  <li>4교시</li>\n",
    "</ol>\n",
    "'''\n",
    "\n",
    "soup = BeautifulSoup(html_text, \"html.parser\")"
   ]
  },
  {
   "cell_type": "markdown",
   "metadata": {},
   "source": [
    "- select() 메소드"
   ]
  },
  {
   "cell_type": "code",
   "execution_count": null,
   "metadata": {},
   "outputs": [],
   "source": [
    "# 3교시, 4교시 선택하기\n",
    "li_list = soup.select(\"ol li\")"
   ]
  },
  {
   "cell_type": "markdown",
   "metadata": {},
   "source": [
    " - text 속성"
   ]
  },
  {
   "cell_type": "code",
   "execution_count": null,
   "metadata": {},
   "outputs": [],
   "source": [
    "# li_list에 저장된 요소들을 반복문으로 접근해 출력\n",
    "for element in li_list:\n",
    "    print(element)\n",
    "\n",
    "# li_list에 저장된 요소들에서 tag를 제거한 순수 텍스트로 출력\n",
    "for element in li_list:\n",
    "    print(element.text)"
   ]
  },
  {
   "cell_type": "markdown",
   "metadata": {},
   "source": [
    "### 연습1) BS로 데이터 선택하기"
   ]
  },
  {
   "cell_type": "markdown",
   "metadata": {},
   "source": [
    "- BeautifulSoup 모듈과 CSS Selector를 활용해 아래의 html 태그 데이터에서 '매출액/100/200'만 선택하여 출력해 봅시다."
   ]
  },
  {
   "cell_type": "code",
   "execution_count": null,
   "metadata": {},
   "outputs": [],
   "source": [
    "from bs4 import BeautifulSoup\n",
    "\n",
    "html_text = \"\"\"\n",
    "<table>\n",
    "    <thead>\n",
    "        <tr>\n",
    "            <th>재무정보</th>\n",
    "            <th>2018</th>\n",
    "            <th>2019</th>\n",
    "        </tr>\n",
    "    </thead>\n",
    "        <tbody>\n",
    "            <tr>\n",
    "                <td>매출액</td>\n",
    "                <td>100</td>\n",
    "                <td>200</td>\n",
    "            </tr>\n",
    "        </tbody>\n",
    "</table>\n",
    "\"\"\"\n",
    "\n",
    "soup = BeautifulSoup(html_text, \"html.parser\")\n",
    "titles = soup.select(\"tbody tr\")\n",
    "for title in titles:\n",
    "    print(title.text)"
   ]
  },
  {
   "cell_type": "markdown",
   "metadata": {},
   "source": [
    "### 연습2) BS로 데이터 선택하기"
   ]
  },
  {
   "cell_type": "markdown",
   "metadata": {},
   "source": [
    " - BeautifulSoup 모듈과 CSS Selector를 활용해 아래에서 '100'만 선택하여 출력해 봅시다.<br>\n",
    "   *힌트1 : nth-child() 사용 시 오류가 날 경우 nth-of-type()을 사용해 보세요!<br>\n",
    "   *힌트2 : soup.select() 메소드는 요소 하나만 선택하더라도 리스트 형태로 결과값을 리턴합니다."
   ]
  },
  {
   "cell_type": "code",
   "execution_count": null,
   "metadata": {},
   "outputs": [],
   "source": [
    "# nth-child() 사용\n",
    "data = soup.select(\"tbody tr td:nth-child(2)\")\n",
    "print(data[0].text)\n",
    "\n",
    "# soup.select 사용\n",
    "data = soup.select(\"tbody tr td\")\n",
    "print(data[1].text)"
   ]
  },
  {
   "cell_type": "markdown",
   "metadata": {},
   "source": [
    "### 연습3) BS로 데이터 선택하기"
   ]
  },
  {
   "cell_type": "markdown",
   "metadata": {},
   "source": [
    "- BeautifulSoup 모듈과 CSS Selector를 활용해 아래에서 '새우깡'만 선택하여 출력해 봅시다.<br>\n",
    "  *힌트 : soup.select() 메소드는 요소 하나만 선택하더라도 리스트 형태로 결과값을 리턴합니다."
   ]
  },
  {
   "cell_type": "code",
   "execution_count": null,
   "metadata": {},
   "outputs": [],
   "source": [
    "from bs4 import BeautifulSoup\n",
    "\n",
    "html_text = \"\"\"\n",
    "<div>\n",
    "        <div class=\"snack\">\n",
    "                <div id=\"first\">양파링</div>\n",
    "                <div id=\"second\">새우깡</div>\n",
    "        </div>\n",
    "        <div class=\"icecream\">\n",
    "                <div>빵빠레</div>\n",
    "                <div>죠스바</div>\n",
    "        </div>\n",
    "</div>\n",
    "\"\"\"\n",
    "\n",
    "soup = BeautifulSoup(html_text, \"html.parser\")\n",
    "data = soup.select(\"#second\")\n",
    "print(data)\n",
    "print(data[0].text)"
   ]
  },
  {
   "cell_type": "markdown",
   "metadata": {},
   "source": [
    "### 연습4) BS로 데이터 선택하기"
   ]
  },
  {
   "cell_type": "markdown",
   "metadata": {},
   "source": [
    "- BeautifulSoup 모듈과 CSS Selector를 활용해 아래에서 '죠스바'만 선택하여 출력해 봅시다.<br>\n",
    "  *힌트1 : nth-child() 사용 시 오류가 날 경우 nth-of-type()을 사용해 보세요!<br>\n",
    "  *힌트2 : soup.select() 메소드는 요소 하나만 선택하더라도 리스트 형태로 결과값을 리턴합니다."
   ]
  },
  {
   "cell_type": "code",
   "execution_count": null,
   "metadata": {},
   "outputs": [],
   "source": [
    "# nth-child() 사용\n",
    "data = soup.select(\"div.icecream div:nth-child(2)\")\n",
    "print(data[0].text)\n",
    "\n",
    "# soup.select 사용\n",
    "data = soup.select(\"div.icecream div\")\n",
    "print(data[1].text)"
   ]
  }
 ],
 "metadata": {
  "kernelspec": {
   "display_name": "Python 3.8.10 64-bit",
   "language": "python",
   "name": "python3"
  },
  "language_info": {
   "codemirror_mode": {
    "name": "ipython",
    "version": 3
   },
   "file_extension": ".py",
   "mimetype": "text/x-python",
   "name": "python",
   "nbconvert_exporter": "python",
   "pygments_lexer": "ipython3",
   "version": "3.8.10"
  },
  "orig_nbformat": 4,
  "vscode": {
   "interpreter": {
    "hash": "e2782e0ab7cab974e8fb2dfc8cec048a29dc3b50e54743df0c4a34ac41b2be7e"
   }
  }
 },
 "nbformat": 4,
 "nbformat_minor": 2
}
