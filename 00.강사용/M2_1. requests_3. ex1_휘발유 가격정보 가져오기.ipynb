{
 "cells": [
  {
   "cell_type": "markdown",
   "metadata": {},
   "source": [
    "### 실습 : 휘발유 가격정보 가져오기"
   ]
  },
  {
   "cell_type": "markdown",
   "metadata": {},
   "source": [
    "- 네이버 - 증권 - 하단의 유가 더보기 - 국내 휘발유 - 일별시세 - 페이지에서 새창"
   ]
  },
  {
   "cell_type": "markdown",
   "metadata": {},
   "source": [
    "#### 1페이지 분석"
   ]
  },
  {
   "cell_type": "code",
   "execution_count": null,
   "metadata": {},
   "outputs": [],
   "source": [
    "# 모듈 불러오기\n",
    "import requests\n",
    "from bs4 import BeautifulSoup\n",
    "import pandas as pd\n",
    "\n",
    "# SSL 경고창 없애기\n",
    "requests.packages.urllib3.disable_warnings(requests.packages.urllib3.exceptions.InsecureRequestWarning)\n",
    "\n",
    "\n",
    "# 네이버접속 - 증권 - 시장지표 - 휘발유 선택\n",
    "\n",
    "url = \"https://finance.naver.com/marketindex/oilDailyQuote.naver\"\n",
    "# h = {\"User-Agent\" : \"Mozilla/5.0 (Windows NT 10.0; Win64; x64) AppleWebKit/537.36 (KHTML, like Gecko) Chrome/100.0.4896.75 Safari/537.36\"}\n",
    "\n",
    "# 파라미터 구성하기\n",
    "p = {\n",
    "    \"marketindexCd\" : \"OIL_GSL\",\n",
    "    \"page\": 1\n",
    "    }\n",
    "\n",
    "# 정보가져오기\n",
    "res = requests.get(url, params=p, verify=False)\n",
    "\n",
    "\n",
    "# 파싱하기\n",
    "soup = BeautifulSoup(res.text, \"html.parser\")\n",
    "\n",
    "# 테이블 가져오기\n",
    "price = soup.select(\".tbl_exchange.today\")\n",
    "price\n",
    "\n",
    "# str으로 변환하기\n",
    "price = str(price)\n",
    "\n",
    "# df로 변환하기\n",
    "df = pd.read_html(price)\n",
    "df[0]"
   ]
  },
  {
   "cell_type": "markdown",
   "metadata": {},
   "source": [
    "#### for문 돌리기(20page)"
   ]
  },
  {
   "cell_type": "code",
   "execution_count": null,
   "metadata": {},
   "outputs": [],
   "source": [
    "# 모듈 불러오기\n",
    "import requests\n",
    "from bs4 import BeautifulSoup\n",
    "import pandas as pd\n",
    "\n",
    "# SSL 경고창 없애기\n",
    "requests.packages.urllib3.disable_warnings(requests.packages.urllib3.exceptions.InsecureRequestWarning)\n",
    "\n",
    "url = \"https://finance.naver.com/marketindex/oilDailyQuote.naver\"\n",
    "# h = {\"User-Agent\" : \"Mozilla/5.0 (Windows NT 10.0; Win64; x64) AppleWebKit/537.36 (KHTML, like Gecko) Chrome/100.0.4896.75 Safari/537.36\"}\n",
    "\n",
    "result = []\n",
    "for i in range(1, 20):\n",
    "    # 파라미터 구성하기\n",
    "    param = {\n",
    "        \"marketindexCd\" : \"OIL_GSL\",\n",
    "        \"page\": i\n",
    "        }\n",
    "\n",
    "    # 정보가져오기\n",
    "    res = requests.get(url, params=param, verify=False)\n",
    "\n",
    "    # 파싱하기\n",
    "    soup = BeautifulSoup(res.text, \"html.parser\")\n",
    "\n",
    "    # 테이블 가져오기\n",
    "    price = soup.select(\".tbl_exchange.today\")\n",
    "\n",
    "    # str으로 변환하기\n",
    "    price = str(price)\n",
    "\n",
    "    # df로 변환하기\n",
    "    df = pd.read_html(price)\n",
    "    result.append(df[0])\n",
    "\n",
    "# 리스트안의 데이터들을 같은 열로 합치기\n",
    "df_result = pd.concat(result, ignore_index=True)\n",
    "display(df_result)\n",
    "\n",
    "# 엑셀로 전환하기\n",
    "df_result.to_excel(\"./outputs/files/최근 {}일_휘발유가격.xlsx\".format(i*7), index=False)"
   ]
  }
 ],
 "metadata": {
  "interpreter": {
   "hash": "e2782e0ab7cab974e8fb2dfc8cec048a29dc3b50e54743df0c4a34ac41b2be7e"
  },
  "kernelspec": {
   "display_name": "Python 3.8.10 64-bit",
   "language": "python",
   "name": "python3"
  },
  "language_info": {
   "codemirror_mode": {
    "name": "ipython",
    "version": 3
   },
   "file_extension": ".py",
   "mimetype": "text/x-python",
   "name": "python",
   "nbconvert_exporter": "python",
   "pygments_lexer": "ipython3",
   "version": "3.8.10"
  },
  "orig_nbformat": 4
 },
 "nbformat": 4,
 "nbformat_minor": 2
}
