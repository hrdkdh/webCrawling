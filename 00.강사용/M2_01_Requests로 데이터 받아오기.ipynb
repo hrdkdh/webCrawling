{
 "cells": [
  {
   "cell_type": "markdown",
   "metadata": {},
   "source": [
    "### 연습1) Requests로 목표URL 접속하기\n",
    "\n",
    "requests 모듈을 사용하면 간단하게 웹에 접속하여 데이터를 받아올 수 있습니다.\n",
    "\n",
    "주피터 노트북에서 다음 코드를 작성하고 받아온 html 데이터를 화면에 출력해 봅시다."
   ]
  },
  {
   "cell_type": "code",
   "execution_count": null,
   "metadata": {},
   "outputs": [],
   "source": [
    "#아래에 코드작성\n",
    "\n",
    "#1. 모듈 임포트\n",
    "import requests\n",
    "\n",
    "#2. 데이터를 받아오고자 하는 목표url을 문자열로 입력한 후 url 변수명으로 저장\n",
    "url = \"https://www.naver.com\"\n",
    "\n",
    "#4. requests 모듈의 get() 메소드를 사용하여 접속을 시도하고, 그 결과(객체)를 res 변수에 저장\n",
    "res = requests.get(url, verify=False)\n",
    "\n",
    "#5. res.text 속성을 사용하여 받아온 html 데이터를 아웃풋 창에 print\n",
    "print(res.text)\n"
   ]
  },
  {
   "cell_type": "markdown",
   "metadata": {},
   "source": [
    "### 연습2) 네이버 카페 목록 가져오기\n",
    "\n",
    "browser_cookie3 모듈을 사용하면 로그인이 필요한 페이지도 손쉽게 접근이 가능합니다.\n",
    "\n",
    "주피터 노트북에서 다음 코드를 작성하고 내가 가입한 네이버 카페 리스트 목록을 화면에 출력해 봅시다."
   ]
  },
  {
   "cell_type": "code",
   "execution_count": null,
   "metadata": {},
   "outputs": [],
   "source": [
    "#1. 모듈 임포트\n",
    "import requests\n",
    "import browser_cookie3\n",
    "\n",
    "#2. 크롬 쿠키가 저장된 경로를 입력한 후 cookie_file_path 변수명으로 저장\n",
    "#   주의) 코드 실행 전 크롬 웹브라우저를 실행해 네이버 계정에 로그인을 먼저 해야 함\n",
    "#         쿠키경로는 윈도우 계정에 맞춰 변경해야 하며,\n",
    "#         파일 탐색기로 경로에 접근한 후 탐색기 주소창에 적힌 경로명을 복사/붙여넣기 하면 편리\n",
    "cookie_file_path=r\"C:\\Users\\poscouser\\AppData\\Local\\Google\\Chrome\\User Data\\Default\\Network\\Cookies\"\n",
    "\n",
    "#3. browser_cookie3 모듈을 이용해 .naver.com 도메인 이름으로 저장된 쿠키를 로드하여 my_cookie 변수에 저장\n",
    "my_cookie = browser_cookie3.chrome(cookie_file=cookie_file_path, domain_name=\".naver.com\")\n",
    "\n",
    "#4. 목표url을 크롬 개발자 도구를 이용해 파악하고, 이를 문자열로 입력한 후 url 변수명으로 저장\n",
    "url = \"https://apis.naver.com/cafe-home-web/cafe-home/v1/cafes/join\"\n",
    "\n",
    "#5. 가입한 네이버 카페 목록 로드 시 적용할 파라미터 값을 크롬 개발자 도구를 이용해 딕셔너리로 작성하고 param 변수에 저장\n",
    "param = {\n",
    "    \"page\": \"1\",\n",
    "    \"type\": \"join\",\n",
    "    \"perPage\": \"10\",\n",
    "    \"recentUpdates\": \"true\"\n",
    "}\n",
    "\n",
    "#6. requests 모듈의 get() 메소드를 사용하여 접속을 시도하고, 그 결과(객체)를 res 변수에 저장\n",
    "res = requests.get(url, cookies=my_cookie, params=param, verify=False)\n",
    "\n",
    "#7. res.json() 메소드를 사용하여 받아온 json 데이터를 파싱한 후 json_data 변수에 저장\n",
    "json_data = res.json()\n",
    "# print(json_data)\n",
    "\n",
    "#8. 위의 print()문을 통해 나온 아웃풋을 분석하여 카페 목록이 들어있는 데이터를 파악\n",
    "#   카페 목록이 들어있는 리스트 데이터에 접근한 후 루프(반목문)를 돌면서 카페명을 아웃풋 창에 출력\n",
    "for cafe in json_data[\"message\"][\"result\"][\"cafes\"]:\n",
    "    print(cafe[\"cafeName\"])"
   ]
  },
  {
   "cell_type": "markdown",
   "metadata": {},
   "source": [
    "### 연습3) User-Agent 정보 변경하기\n",
    "\n",
    "requests 모듈의 headers 파라미터를 사용하면 UA를 변경할 수 있습니다.\n",
    "\n",
    "주피터 노트북에서 다음 코드를 작성하고 html 데이터가 정상적으로 로드되는지 체크해 봅시다."
   ]
  },
  {
   "cell_type": "code",
   "execution_count": null,
   "metadata": {},
   "outputs": [],
   "source": [
    "#1. 모듈 임포트\n",
    "import requests\n",
    "\n",
    "#2. User-Agent Header 정보를 딕셔너리로 입력한 후 header 변수명으로 저장\n",
    "#   User-Agent는 타이핑하기 어려우므로 크롬 개발자 모드에 들어가 복사한 후 주피터 노트북에 붙여넣기 하세요!\n",
    "header = {\n",
    "    \"User-Agent\" : \"Mozilla/5.0 (Windows NT 10.0; Win64; x64) AppleWebKit/537.36 (KHTML, like Gecko) Chrome/90.0.4430.93 Safari/537.36\"\n",
    "}\n",
    "\n",
    "#3. 목표url을 문자열로 입력한 후 url 변수명으로 저장\n",
    "url = \"https://finance.naver.com/item/sise_day.nhn?code=005490\"\n",
    "\n",
    "#4. requests 모듈의 get() 메소드를 사용하여 접속을 시도하고, 그 결과(객체)를 res 변수에 저장\n",
    "res = requests.get(url, headers= header, verify=False)\n",
    "\n",
    "#5. res.text 속성을 사용하여 받아온 html 데이터를 아웃풋 창에 print\n",
    "print(res.text)"
   ]
  },
  {
   "cell_type": "markdown",
   "metadata": {},
   "source": [
    "### 연습4) Requests 모듈 실전연습\n",
    "\n",
    "invest.com에서 제공하는 철광석 거래가 데이터를 수집해 봅시다.\n",
    "\n",
    "크롬 개발자 도구를 사용하여 데이터가 담긴 URL을 정확히 확인한 후, requests 모듈을 이용해 데이터를 로드해 보세요.\n"
   ]
  },
  {
   "cell_type": "code",
   "execution_count": null,
   "metadata": {},
   "outputs": [],
   "source": [
    "#1. 모듈 임포트\n",
    "import requests\n",
    "import datetime\n",
    "\n",
    "#2. invest.com 철광석 원료가 페이지로 접속(https://kr.investing.com/commodities/iron-ore-62-cfr-futures)\n",
    "#   크롬 개발자 도구를 실행하여 목표URL 탐색\n",
    "#   크롬 개발자 도구를 네트워크탭, XHR 필터링으로 맞춰놓고 철광석 가격 그래프에 있는 '6달' 버튼을 클릭하면,\n",
    "#   그 순간 새로운 request가 발생하는 것을 알 수 있음 → 개발자 도구 우측의 preview를 통해 데이터를 확인하고,\n",
    "#   철광석 가격 데이터로 확인된다면 이를 목표URL로 설정하면 됨\n",
    "\n",
    "#3. 목표URL을 찾았다면 문자열로 입력한 후 url 변수명으로 저장\n",
    "#   GET방식으로 전달되는 URL 파라미터는 URL에 바로 입력해도 되고,\n",
    "#   별도의 딕셔너리 변수로 만들어 'params' 파라미터로 넘겨줘도 됨\n",
    "url = \"https://api.investing.com/api/financialdata/961729/historical/chart/?period=P6M&interval=P1D&pointscount=120\"\n",
    "\n",
    "#4. requests 모듈의 get() 메소드를 사용하여 접속을 시도하고, 그 결과(객체)를 res 변수에 저장\n",
    "res = requests.get(url, verify=False)\n",
    "\n",
    "#5. res.text 속성을 사용하여 받아온 데이터를 아웃풋 창에 print\n",
    "print(res.text)\n",
    "\n",
    "#6. res.text 데이터를 확인해보면 json으로 되어 있음을 알 수 있음.\n",
    "#   json 데이터를 res.json() 메소드를 이용해 파싱하고 json_data 변수에 저장\n",
    "json_data = res.json()\n",
    "\n",
    "#7. 반복문을 돌면서 데이터를 출력\n",
    "for data in json_data[\"data\"]:\n",
    "    #data[0] : 기준일자(타임스탬프)\n",
    "    #data[1] : 해당 일자의 철광석 가격\n",
    "    #datetime 모듈을 이용해 타임스탬프를 Y-M-D로 변환하여 출력\n",
    "    ymd = str(datetime.datetime.fromtimestamp(data[0]/1000))\n",
    "    print(\"일자 : {}, 가격 : {}\".format(ymd[0:10], data[1]))"
   ]
  }
 ],
 "metadata": {
  "interpreter": {
   "hash": "27d72380f3865b4c7008c9c7901bfeb11f576f51ea7eb885160f000a78c1db8d"
  },
  "kernelspec": {
   "display_name": "Python 3.7.9 64-bit",
   "language": "python",
   "name": "python3"
  },
  "language_info": {
   "codemirror_mode": {
    "name": "ipython",
    "version": 3
   },
   "file_extension": ".py",
   "mimetype": "text/x-python",
   "name": "python",
   "nbconvert_exporter": "python",
   "pygments_lexer": "ipython3",
   "version": "3.7.9"
  },
  "toc": {
   "base_numbering": 1,
   "nav_menu": {},
   "number_sections": true,
   "sideBar": true,
   "skip_h1_title": false,
   "title_cell": "Table of Contents",
   "title_sidebar": "Contents",
   "toc_cell": false,
   "toc_position": {},
   "toc_section_display": true,
   "toc_window_display": false
  }
 },
 "nbformat": 4,
 "nbformat_minor": 5
}
