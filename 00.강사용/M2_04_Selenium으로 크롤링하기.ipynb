{
 "cells": [
  {
   "cell_type": "markdown",
   "metadata": {},
   "source": [
    "### 연습1) Selenium으로 클릭하기\n",
    "##### 실제 네이버(https://www.naver.com) 웹 사이트에 접속하여, 메인에 있는 웹툰 버튼을 클릭해 웹툰 홈페이지로 이동하는 코드를 작성해 봅시다."
   ]
  },
  {
   "cell_type": "code",
   "execution_count": null,
   "metadata": {},
   "outputs": [],
   "source": [
    "from selenium import webdriver\n",
    "from selenium.webdriver.common.by import By\n",
    "\n",
    "#아래에 코드 작성\n",
    "driver = webdriver.Chrome(\"chromedriver\")\n",
    "driver.get(\"https://www.naver.com\")\n",
    "selector = \"#NM_FAVORITE > div.group_nav > ul.list_nav.NM_FAVORITE_LIST > li:nth-child(8) > a\"\n",
    "driver.find_element(By.CSS_SELECTOR, selector).click()"
   ]
  },
  {
   "cell_type": "markdown",
   "metadata": {},
   "source": [
    "### 연습2) Selenium으로 문자 입력하기\n",
    "##### 네이버 뉴스 페이지(https://news.naver.com)에 접속하여 검색어 입력창에 '포스코'를 입력하고, 검색 버튼을 클릭해 포스코 관련 뉴스를 출력하는 코드를 작성해 봅시다."
   ]
  },
  {
   "cell_type": "code",
   "execution_count": null,
   "metadata": {},
   "outputs": [],
   "source": [
    "from selenium import webdriver\n",
    "from selenium.webdriver.common.by import By\n",
    "\n",
    "#아래에 코드 작성\n",
    "driver = webdriver.Chrome(\"chromedriver\")\n",
    "driver.get(\"https://news.naver.com\")\n",
    "driver.find_element(By.CSS_SELECTOR, \"div.Ngnb_tool > a\").click()\n",
    "driver.find_element(By.CSS_SELECTOR, \"#u_hs > div > div > input\").send_keys(\"포스코\")\n",
    "driver.find_element(By.CSS_SELECTOR, \"button.u_hssbt.u_hssbt_ss._submit_btn\").click()"
   ]
  },
  {
   "cell_type": "markdown",
   "metadata": {},
   "source": [
    "### 실전 연습1\n",
    "##### Selenium 모듈을 이용해 교보문고 홈페이지로 접속한 다음, '철강' 키워드로 검색한 도서들의 제목을 출력해 보세요.\n",
    "##### 링크 : http://www.kyobobook.co.kr/"
   ]
  },
  {
   "cell_type": "code",
   "execution_count": null,
   "metadata": {},
   "outputs": [],
   "source": [
    "from selenium import webdriver\n",
    "from selenium.webdriver.common.by import By\n",
    "\n",
    "#아래에 코드 작성\n",
    "driver = webdriver.Chrome(\"chromedriver\")\n",
    "driver.get(\"https://www.kyobobook.co.kr/\")\n",
    "driver.find_element(By.CSS_SELECTOR, \"#searchKeyword\").send_keys(\"철강\")\n",
    "driver.find_element(By.CSS_SELECTOR, \".btn_search\").click()\n",
    "\n",
    "titles = driver.find_elements(By.CSS_SELECTOR, \".type_list .title\")\n",
    "    for title in titles:\n",
    "        print(title.text)"
   ]
  },
  {
   "cell_type": "code",
   "execution_count": null,
   "metadata": {},
   "outputs": [],
   "source": [
    "#반복문을 이용하면 더 많은 데이터 수집 가능\n",
    "import time\n",
    "for page_no in range(1, 11):\n",
    "    page = driver.find_element(By.CSS_SELECTOR, \"#paging > li:nth-child({}) > a\".format(page_no))\n",
    "    page.click()\n",
    "    time.sleep(2)\n",
    "    titles = driver.find_elements(By.CSS_SELECTOR, \".type_list .title\")\n",
    "    for title in titles:\n",
    "        print(title.text)"
   ]
  },
  {
   "cell_type": "markdown",
   "metadata": {},
   "source": [
    "### 실전 연습2\n",
    "##### Selenium 모듈을 이용해 네이버 '철강용어사전'으로 접속한 다음, 첫 화면에 나온 표제어들의 제목들을 출력해 보세요\n",
    "##### 링크 : https://terms.naver.com/list.naver?cid=67995&categoryId=67995"
   ]
  },
  {
   "cell_type": "code",
   "execution_count": null,
   "metadata": {},
   "outputs": [],
   "source": [
    "from selenium import webdriver\n",
    "from selenium.webdriver.common.by import By\n",
    "\n",
    "#아래에 코드 작성\n",
    "driver = webdriver.Chrome(\"chromedriver\")\n",
    "\n",
    "driver.get(\"https://terms.naver.com/list.naver?cid=67995&categoryId=67995\")\n",
    "titles = driver.find_elements(By.CSS_SELECTOR, \".content_list .title a:nth-child(1)\")\n",
    "\n",
    "for title in titles:\n",
    "    print(title.text)"
   ]
  },
  {
   "cell_type": "code",
   "execution_count": null,
   "metadata": {
    "scrolled": false
   },
   "outputs": [],
   "source": [
    "#반복문을 이용하면 더 많은 데이터 수집 가능\n",
    "for page_no in range(1, 20):\n",
    "    titles = driver.find_elements(By.CSS_SELECTOR, \".content_list .title a:nth-child(1)\")\n",
    "    for title in titles:\n",
    "        print(title.text)\n",
    "    now_page_no = driver.find_element(By.CSS_SELECTOR, \"#paginate > strong\").text.strip()\n",
    "    next_page_no = int(now_page_no) + 1\n",
    "    for page_link in driver.find_elements(By.CSS_SELECTOR, \"#paginate > a\"):\n",
    "        if page_link.text.strip() == str(next_page_no):\n",
    "            page_link.click()\n",
    "            break"
   ]
  }
 ],
 "metadata": {
  "kernelspec": {
   "display_name": "Python 3",
   "language": "python",
   "name": "python3"
  },
  "language_info": {
   "codemirror_mode": {
    "name": "ipython",
    "version": 3
   },
   "file_extension": ".py",
   "mimetype": "text/x-python",
   "name": "python",
   "nbconvert_exporter": "python",
   "pygments_lexer": "ipython3",
   "version": "3.6.5"
  }
 },
 "nbformat": 4,
 "nbformat_minor": 5
}
