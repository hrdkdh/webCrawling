{
 "cells": [
  {
   "cell_type": "markdown",
   "metadata": {},
   "source": [
    "### Selenium 실전 연습1"
   ]
  },
  {
   "cell_type": "markdown",
   "metadata": {},
   "source": [
    "Selenium 모듈을 이용해 교보문고 홈페이지로 접속한 다음, '철강' 키워드로 검색한 도서들의 제목을 출력해 보세요.<br>\n",
    "링크 : http://www.kyobobook.co.kr"
   ]
  },
  {
   "cell_type": "code",
   "execution_count": null,
   "metadata": {},
   "outputs": [],
   "source": [
    "from selenium import webdriver\n",
    "from selenium.webdriver.common.by import By\n",
    "import time\n",
    "\n",
    "#아래에 코드 작성\n",
    "driver = webdriver.Chrome(\"chromedriver\")\n",
    "driver.get(\"https://www.kyobobook.co.kr/\")\n",
    "driver.find_element(By.CSS_SELECTOR, \"#searchKeyword\").send_keys(\"철강\")\n",
    "time.sleep(2)\n",
    "driver.find_element(By.CSS_SELECTOR, \".btn_gnb_search\").click()\n",
    "time.sleep(2)\n",
    "\n",
    "titles = driver.find_elements(By.CSS_SELECTOR, \".auto_overflow_inner .prod_info > span:nth-child(2)\")\n",
    "for title in titles:\n",
    "    print(title.text)"
   ]
  },
  {
   "cell_type": "markdown",
   "metadata": {},
   "source": [
    "- 반복문을 이용한 더 많은 정보 수집"
   ]
  },
  {
   "cell_type": "code",
   "execution_count": null,
   "metadata": {},
   "outputs": [],
   "source": [
    "from selenium import webdriver\n",
    "from selenium.webdriver.common.by import By\n",
    "import time\n",
    "\n",
    "#아래에 코드 작성\n",
    "driver = webdriver.Chrome(\"chromedriver\")\n",
    "driver.get(\"https://www.kyobobook.co.kr/\")\n",
    "driver.find_element(By.CSS_SELECTOR, \"#searchKeyword\").send_keys(\"철강\")\n",
    "time.sleep(2)\n",
    "driver.find_element(By.CSS_SELECTOR, \".btn_gnb_search\").click()\n",
    "time.sleep(2)\n",
    "\n",
    "titles = driver.find_elements(By.CSS_SELECTOR, \".auto_overflow_inner .prod_info > span:nth-child(2)\")\n",
    "for title in titles:\n",
    "    print(title.text)\n",
    "\n",
    "#반복문을 이용하여 다른페이지 데이터 수집\n",
    "for i in range(10):    \n",
    "    page_sel = \"#pagi > button.btn_page.next\" # \"다음\"버튼\n",
    "    page = driver.find_element(By.CSS_SELECTOR, page_sel)\n",
    "    page.click()\n",
    "    time.sleep(2)\n",
    "    title_sel = \".auto_overflow_inner .prod_info > span:nth-child(2)\"\n",
    "    titles = driver.find_elements(By.CSS_SELECTOR, title_sel)\n",
    "    for title in titles:\n",
    "        print(title.text)\n",
    "    i += 1"
   ]
  },
  {
   "cell_type": "markdown",
   "metadata": {},
   "source": [
    "### Selenium 실전 연습2"
   ]
  },
  {
   "cell_type": "markdown",
   "metadata": {},
   "source": [
    "Selenium 모듈을 이용해 네이버 '철강용어사전'으로 접속한 다음, 첫 페이지에 나온 표제어들의 제목을 출력해 보세요.<br>\n",
    "링크 : https://terms.naver.com/list.naver?cid=67995&categoryId=67995"
   ]
  },
  {
   "cell_type": "code",
   "execution_count": null,
   "metadata": {},
   "outputs": [],
   "source": [
    "from selenium import webdriver\n",
    "from selenium.webdriver.common.by import By\n",
    "\n",
    "#아래에 코드 작성\n",
    "driver = webdriver.Chrome(\"chromedriver\")\n",
    "\n",
    "driver.get(\"https://terms.naver.com/list.naver?cid=67995&categoryId=67995\")\n",
    "titles = driver.find_elements(By.CSS_SELECTOR, \".content_list .title a:nth-child(1)\")\n",
    "\n",
    "for title in titles:\n",
    "    print(title.text)"
   ]
  },
  {
   "cell_type": "markdown",
   "metadata": {},
   "source": [
    "- 반복문을 이용한 더 많은 정보 수집"
   ]
  },
  {
   "cell_type": "code",
   "execution_count": null,
   "metadata": {},
   "outputs": [],
   "source": [
    "from selenium import webdriver\n",
    "from selenium.webdriver.common.by import By\n",
    "\n",
    "#아래에 코드 작성\n",
    "driver = webdriver.Chrome(\"chromedriver\")\n",
    "\n",
    "driver.get(\"https://terms.naver.com/list.naver?cid=67995&categoryId=67995\")\n",
    "titles = driver.find_elements(By.CSS_SELECTOR, \".content_list .title a:nth-child(1)\")\n",
    "\n",
    "for title in titles:\n",
    "    print(title.text)\n",
    "\n",
    "for i in range(2, 8):\n",
    "    i += 1\n",
    "    page_sel = \"#paginate > a:nth-child({})\".format(i)\n",
    "    page = driver.find_element(By.CSS_SELECTOR, page_sel)\n",
    "    page.click()\n",
    "    time.sleep(2)\n",
    "\n",
    "    title_sel = \".title a:nth-child(1)\"\n",
    "    titles = driver.find_elements(By.CSS_SELECTOR, title_sel)\n",
    "    for title in titles[1:]:\n",
    "        print(title.text)\n",
    "\n",
    "for j in range(4):\n",
    "    page_sel = \"#paginate > a:nth-child(8)\"\n",
    "    page = driver.find_element(By.CSS_SELECTOR, page_sel)\n",
    "    page.click()\n",
    "    time.sleep(2)\n",
    "\n",
    "    title_sel = \".title a:nth-child(1)\"\n",
    "    titles = driver.find_elements(By.CSS_SELECTOR, title_sel)\n",
    "    for title in titles[1:]:\n",
    "        print(title.text)\n",
    "    j += 1"
   ]
  }
 ],
 "metadata": {
  "kernelspec": {
   "display_name": "Python 3.8.10 64-bit",
   "language": "python",
   "name": "python3"
  },
  "language_info": {
   "codemirror_mode": {
    "name": "ipython",
    "version": 3
   },
   "file_extension": ".py",
   "mimetype": "text/x-python",
   "name": "python",
   "nbconvert_exporter": "python",
   "pygments_lexer": "ipython3",
   "version": "3.8.10"
  },
  "orig_nbformat": 4,
  "vscode": {
   "interpreter": {
    "hash": "e2782e0ab7cab974e8fb2dfc8cec048a29dc3b50e54743df0c4a34ac41b2be7e"
   }
  }
 },
 "nbformat": 4,
 "nbformat_minor": 2
}
