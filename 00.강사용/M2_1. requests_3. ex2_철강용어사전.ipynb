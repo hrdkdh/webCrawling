{
 "cells": [
  {
   "cell_type": "markdown",
   "metadata": {},
   "source": [
    "### 실습. 실전 웹크롤링"
   ]
  },
  {
   "cell_type": "markdown",
   "metadata": {},
   "source": [
    " - requests 모듈을 이용해 네이버 철강용어사전 접속하기\n",
    " - 표제어들의 제목 및 의미 출력하기\n",
    " - 링크 : https://terms.naver.com/list.naver?cid=67995&categoryId=67995"
   ]
  },
  {
   "cell_type": "markdown",
   "metadata": {},
   "source": [
    "#### 철강용어사전 1page 단어 타이틀 정보 가져오기"
   ]
  },
  {
   "cell_type": "code",
   "execution_count": null,
   "metadata": {},
   "outputs": [],
   "source": [
    "import requests\n",
    "from bs4 import BeautifulSoup\n",
    "\n",
    "url = \"https://terms.naver.com/list.naver?cid=67995&categoryId=67995&page=1\"\n",
    "\n",
    "# url경고창 없애기\n",
    "requests.packages.urllib3.disable_warnings(requests.packages.urllib3.exceptions.InsecureRequestWarning)\n",
    "\n",
    "# 철강용어사전 사이트 접속하기\n",
    "res = requests.get(url, verify=False)\n",
    "\n",
    "# 파싱하기\n",
    "soup = BeautifulSoup(res.text, \"html.parser\")\n",
    "\n",
    "# 단어 정보 찾기\n",
    "words = soup.select(\"strong.title > a:nth-child(1)\")\n",
    "\n",
    "# 메인 타이틀 제목 삭제하기\n",
    "words = words[1:]\n",
    "\n",
    "for word in words:\n",
    "    print(word.text)"
   ]
  },
  {
   "cell_type": "markdown",
   "metadata": {},
   "source": [
    "### 철강용어사전 1page~10page 단어 타이틀 정보 가져오기"
   ]
  },
  {
   "cell_type": "code",
   "execution_count": null,
   "metadata": {},
   "outputs": [],
   "source": [
    "import requests\n",
    "from bs4 import BeautifulSoup\n",
    "import pandas as pd\n",
    "import urllib\n",
    "\n",
    "# SSL 경고창 없애기\n",
    "requests.packages.urllib3.disable_warnings(requests.packages.urllib3.exceptions.InsecureRequestWarning)\n",
    "\n",
    "results = []\n",
    "for i in range(1, 11):\n",
    "    print(\"{}페이지 크롤링 중입니다....\".format(i), end='\\r')\n",
    "    url = \"https://terms.naver.com/list.naver?cid=67995&categoryId=67995&page=\"+str(i)\n",
    "    \n",
    "    # 철강용어사전 사이트 접속하기\n",
    "    res = requests.get(url, verify=False)\n",
    "\n",
    "    # 파싱하기\n",
    "    soup = BeautifulSoup(res.text, \"html.parser\")\n",
    "    words = soup.select(\"strong.title > a:nth-child(1)\")[1:]\n",
    "\n",
    "    for word in words:\n",
    "        print(word.text)\n"
   ]
  }
 ],
 "metadata": {
  "interpreter": {
   "hash": "e2782e0ab7cab974e8fb2dfc8cec048a29dc3b50e54743df0c4a34ac41b2be7e"
  },
  "kernelspec": {
   "display_name": "Python 3.8.10 64-bit",
   "language": "python",
   "name": "python3"
  },
  "language_info": {
   "codemirror_mode": {
    "name": "ipython",
    "version": 3
   },
   "file_extension": ".py",
   "mimetype": "text/x-python",
   "name": "python",
   "nbconvert_exporter": "python",
   "pygments_lexer": "ipython3",
   "version": "3.8.10"
  },
  "orig_nbformat": 4
 },
 "nbformat": 4,
 "nbformat_minor": 2
}
