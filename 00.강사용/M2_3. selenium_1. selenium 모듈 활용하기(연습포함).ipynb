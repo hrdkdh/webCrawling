{
 "cells": [
  {
   "cell_type": "markdown",
   "metadata": {},
   "source": [
    "#### selenium webdriver 설치 및 셋팅"
   ]
  },
  {
   "cell_type": "code",
   "execution_count": null,
   "metadata": {},
   "outputs": [],
   "source": [
    "# selenium 모듈의 웹드라이버 로드\n",
    "from selenium import webdriver\n",
    "from selenium.webdriver.common.by import By # CSS Selector 사용을 위해 로드 필요\n",
    "\n",
    "# 웹드라이버 객체 생성\n",
    "driver = webdriver.Chrome(\"chromedriver\")\n",
    "\n",
    "# 웹드라이버로 크롬 브라우저 실행&네이버 접속\n",
    "driver.get(\"https://www.naver.com\")"
   ]
  },
  {
   "cell_type": "markdown",
   "metadata": {},
   "source": [
    " - find_element() 메소드"
   ]
  },
  {
   "cell_type": "code",
   "execution_count": null,
   "metadata": {},
   "outputs": [],
   "source": [
    "# selenium 모듈의 웹드라이버 로드\n",
    "from selenium import webdriver\n",
    "from selenium.webdriver.common.by import By #CSS Selector 사용을 위해 로드 필요\n",
    "\n",
    "# 웹드라이버 객체 생성\n",
    "driver = webdriver.Chrome(\"chromedriver\") #웹드라이버 객체생성\n",
    "\n",
    "# 웹드라이버로 크롬 브라우저 실행&네이버 접속\n",
    "driver.get(\"https://www.naver.com\")\n",
    "\n",
    "# 네이버 사전 아이콘 선택\n",
    "sel = \"#NM_FAVORITE > div.group_nav > ul.list_nav.NM_FAVORITE_LIST > li\"\n",
    "btn = driver.find_element(By.CSS_SELECTOR, sel) #CSS 셀렉터가 가리키는 곳으로 이동\n",
    "print(btn)"
   ]
  },
  {
   "cell_type": "markdown",
   "metadata": {},
   "source": [
    " - find_elements() 메소드"
   ]
  },
  {
   "cell_type": "code",
   "execution_count": null,
   "metadata": {},
   "outputs": [],
   "source": [
    "# selenium 모듈의 웹드라이버 로드\n",
    "from selenium import webdriver\n",
    "from selenium.webdriver.common.by import By #CSS Selector 사용을 위해 로드 필요\n",
    "\n",
    "# 웹드라이버 객체 생성\n",
    "driver = webdriver.Chrome(\"chromedriver\") #웹드라이버 객체생성\n",
    "\n",
    "# 웹드라이버로 크롬 브라우저 실행&네이버 접속\n",
    "driver.get(\"https://www.naver.com\")\n",
    "\n",
    "# 네이버 사전 아이콘 선택\n",
    "sel = \"#NM_FAVORITE > div.group_nav > ul.list_nav.NM_FAVORITE_LIST > li\"\n",
    "btns = driver.find_elements(By.CSS_SELECTOR, sel) #CSS 셀렉터가 가리키는 곳으로 이동\n",
    "print(btns)"
   ]
  },
  {
   "cell_type": "markdown",
   "metadata": {},
   "source": [
    " - text속성"
   ]
  },
  {
   "cell_type": "code",
   "execution_count": null,
   "metadata": {},
   "outputs": [],
   "source": [
    "# selenium 모듈의 웹드라이버 로드\n",
    "from selenium import webdriver\n",
    "from selenium.webdriver.common.by import By #CSS Selector 사용을 위해 로드 필요\n",
    "\n",
    "# 웹드라이버 객체 생성\n",
    "driver = webdriver.Chrome(\"chromedriver\") #웹드라이버 객체생성\n",
    "\n",
    "# 웹드라이버로 크롬 브라우저 실행&네이버 접속\n",
    "driver.get(\"https://www.naver.com\")\n",
    "\n",
    "# 네이버 사전 아이콘 선택\n",
    "sel = \"#NM_FAVORITE > div.group_nav > ul.list_nav.NM_FAVORITE_LIST > li\"\n",
    "btns = driver.find_elements(By.CSS_SELECTOR, sel) #CSS 셀렉터가 가리키는 곳으로 이동\n",
    "\n",
    "for button in btns:\n",
    "    print(button.text)"
   ]
  },
  {
   "cell_type": "markdown",
   "metadata": {},
   "source": [
    "- click() 메소드"
   ]
  },
  {
   "cell_type": "code",
   "execution_count": null,
   "metadata": {},
   "outputs": [],
   "source": [
    "# selenium 모듈의 웹드라이버 로드\n",
    "from selenium import webdriver\n",
    "from selenium.webdriver.common.by import By #CSS Selector 사용을 위해 로드 필요\n",
    "\n",
    "# 웹드라이버 객체 생성\n",
    "driver = webdriver.Chrome(\"chromedriver\") #웹드라이버 객체생성\n",
    "\n",
    "# 웹드라이버로 크롬 브라우저 실행&네이버 접속\n",
    "driver.get(\"https://www.naver.com\")\n",
    "\n",
    "# 네이버 사전 아이콘 클릭하기\n",
    "sel = \"#NM_FAVORITE > div.group_nav > ul.list_nav.NM_FAVORITE_LIST > li:nth-child(1) > a\"\n",
    "dic_btn = driver.find_element(By.CSS_SELECTOR, sel) # CSS 셀렉터가 가리키는 곳으로 이동\n",
    "dic_btn.click() # 이동한 곳에서 클릭 → 클릭한 링크로 페이지가 연결됨"
   ]
  },
  {
   "cell_type": "markdown",
   "metadata": {},
   "source": [
    "### 연습1) Selenium으로 클릭하기"
   ]
  },
  {
   "cell_type": "markdown",
   "metadata": {},
   "source": [
    "실제 네이버(https://www.naver.com) 웹 사이트에 접속하여,<br>\n",
    "메인에 있는 웹툰 버튼을 클릭해 웹툰 홈페이지로 이동하는 코드를 작성해 봅시다."
   ]
  },
  {
   "cell_type": "code",
   "execution_count": null,
   "metadata": {},
   "outputs": [],
   "source": [
    "# 모듈 불러오기\n",
    "from selenium import webdriver\n",
    "from selenium.webdriver.common.by import By\n",
    "\n",
    "# 웹드라이버 객체 생성\n",
    "driver = webdriver.Chrome(\"chromedriver\")\n",
    "\n",
    "# 웹드라이버로 네이버 접속\n",
    "url = \"https://www.naver.com\"\n",
    "driver.get(url)\n",
    "\n",
    "# 웹툰 아이콘 CSS selector 복사하기\n",
    "sel = \"#NM_FAVORITE > div.group_nav > ul.list_nav.NM_FAVORITE_LIST > li:nth-child(8) > a\"\n",
    "\n",
    "web_btn = driver.find_element(By.CSS_SELECTOR, sel)\n",
    "web_btn.click()"
   ]
  },
  {
   "cell_type": "markdown",
   "metadata": {},
   "source": [
    "- send_keys() 메소드"
   ]
  },
  {
   "cell_type": "code",
   "execution_count": null,
   "metadata": {},
   "outputs": [],
   "source": [
    "# selenium 모듈의 웹드라이버 로드\n",
    "from selenium import webdriver\n",
    "from selenium.webdriver.common.by import By\n",
    "\n",
    "# 웹드라이버 객체 생성\n",
    "driver = webdriver.Chrome(\"chromedriver\")\n",
    "\n",
    "# 웹드라이버로 네이버 접속\n",
    "driver.get(\"https://www.naver.com\")\n",
    "\n",
    "# 윈도우창 최대화\n",
    "driver.maximize_window()\n",
    "\n",
    "# 검색창 CSS selector 복사하기\n",
    "input_tag = driver.find_element(By.CSS_SELECTOR, \"#query\") # 입력창으로 이동\n",
    "\n",
    "# 입력창에 검색어 입력하기\n",
    "input_tag.send_keys(\"방탄소년단\") \n",
    "\n",
    "# 검색버튼(돋보기) 클릭하기\n",
    "driver.find_element(By.CSS_SELECTOR, \"#search_btn\").click()"
   ]
  },
  {
   "cell_type": "markdown",
   "metadata": {},
   "source": [
    "### 연습2) Selenium으로 문자 입력하기"
   ]
  },
  {
   "cell_type": "markdown",
   "metadata": {},
   "source": [
    "네이버 뉴스 페이지(https://news.naver.com)에 접속하여 검색어 입력창에 '포스코'를 입력하고,<br>\n",
    "색 버튼을 클릭해 포스코 관련 뉴스를 출력하는 코드를 작성해 봅시다."
   ]
  },
  {
   "cell_type": "code",
   "execution_count": null,
   "metadata": {},
   "outputs": [],
   "source": [
    "# selenium 모듈의 웹드라이버 로드\n",
    "from selenium import webdriver\n",
    "from selenium.webdriver.common.by import By\n",
    "\n",
    "# 웹드라이버 객체 생성\n",
    "driver = webdriver.Chrome(\"chromedriver\")\n",
    "\n",
    "# 웹드라이버로 크롬 브라우저 실행&네이버 접속\n",
    "driver.get(\"https://news.naver.com\")\n",
    "\n",
    "driver.find_element(By.CSS_SELECTOR, \"body > section > header > div.Ngnb > div > div > div.Ngnb_right > div.Ngnb_tool > a\").click()\n",
    "driver.find_element(By.CSS_SELECTOR, \"#u_hs > div > div > input\").send_keys(\"포스코\")\n",
    "driver.find_element(By.CSS_SELECTOR, \"#u_hs > div > div > button.u_hssbt.u_hssbt_ss._submit_btn\").click()"
   ]
  },
  {
   "cell_type": "markdown",
   "metadata": {},
   "source": [
    "- implicitly_wait() 메소드 "
   ]
  },
  {
   "cell_type": "code",
   "execution_count": null,
   "metadata": {},
   "outputs": [],
   "source": [
    "from selenium import webdriver\n",
    "from selenium.webdriver.common.by import By\n",
    "\n",
    "#아래에 코드 작성\n",
    "driver = webdriver.Chrome(\"chromedriver\")\n",
    "driver.get(\"http://swp.posco.net\")\n",
    "\n",
    "driver.implicitly_wait(10)\n",
    "\n",
    "#EP 로그인 버튼 클릭\n",
    "driver.find_element(By.CSS_SELECTOR, \"#loginsubmit\").click()\n",
    "\n",
    "# 경고창(확인창)으로 포커스를 전환한 후, \"확인\" 클릭\n",
    "driver.switch_to.alert.accept()"
   ]
  },
  {
   "cell_type": "markdown",
   "metadata": {},
   "source": [
    "- window_handles 속성"
   ]
  },
  {
   "cell_type": "code",
   "execution_count": null,
   "metadata": {},
   "outputs": [],
   "source": [
    "from selenium import webdriver\n",
    "from selenium.webdriver.common.by import By\n",
    "\n",
    "driver = webdriver.Chrome(\"다운받은 웹드라이버 폴더 경로/chromedriver\")\n",
    "driver.get(\"https://news.naver.com\")\n",
    "\n",
    "driver.find_element(By.CSS_SELECTOR, \"div.Ngnb_tool > a\").click()\n",
    "driver.find_element(By.CSS_SELECTOR, \"#u_hs > div > div > input\").send_keys(\"포스코\")\n",
    "driver.find_element(By.CSS_SELECTOR, \"button.u_hssbt.u_hssbt_ss._submit_btn\").click()\n",
    "\n",
    "print(driver.window_handles)"
   ]
  },
  {
   "cell_type": "markdown",
   "metadata": {},
   "source": [
    "- switch_to.window() 메소드"
   ]
  },
  {
   "cell_type": "code",
   "execution_count": null,
   "metadata": {},
   "outputs": [],
   "source": [
    "from selenium import webdriver\n",
    "from selenium.webdriver.common.by import By\n",
    "\n",
    "driver = webdriver.Chrome(\"다운받은 웹드라이버 폴더 경로/chromedriver\")\n",
    "driver.get(\"https://news.naver.com\")\n",
    "\n",
    "driver.find_element(By.CSS_SELECTOR, \"div.Ngnb_tool > a\").click()\n",
    "driver.find_element(By.CSS_SELECTOR, \"#u_hs > div > div > input\").send_keys(\"포스코\")\n",
    "driver.find_element(By.CSS_SELECTOR, \"button.u_hssbt.u_hssbt_ss._submit_btn\").click()\n",
    "\n",
    "driver.switch_to.window(driver.window_handles[0])"
   ]
  },
  {
   "cell_type": "markdown",
   "metadata": {},
   "source": [
    "- switch_to.frame() 메소드"
   ]
  },
  {
   "cell_type": "code",
   "execution_count": null,
   "metadata": {},
   "outputs": [],
   "source": [
    "from selenium import webdriver\n",
    "from selenium.webdriver.common.by import By\n",
    "\n",
    "driver = webdriver.Chrome(\"chromedriver\")\n",
    "driver.get(\"https://www.kosa.or.kr/\")\n",
    "driver.maximize_window() #창크기 최대화\n",
    "\n",
    "# 정보센터 클릭\n",
    "driver.find_element(By.CSS_SELECTOR, \"#menu_1 > a\").click() # 요소탐색 실패로 에러발생\n",
    "\n",
    "frame = driver.find_element(By.NAME, \"mainFrame\") #클릭하고자 하는 요소가 속한 프레임 선택\n",
    "driver.switch_to.frame(frame) #선택한 프레임으로 driver 객체의 focus를 전환\n",
    "driver.find_element(By.CSS_SELECTOR, \"#menu_1 > a\").click() # 정상적으로 요소 선택, 클릭 성공"
   ]
  },
  {
   "cell_type": "markdown",
   "metadata": {},
   "source": [
    "- switch_to.alert.accept 속성"
   ]
  },
  {
   "cell_type": "code",
   "execution_count": null,
   "metadata": {},
   "outputs": [],
   "source": [
    "from selenium import webdriver\n",
    "from selenium.webdriver.common.by import By\n",
    "\n",
    "# 아래에 코드 작성\n",
    "driver = webdriver.Chrome(\"chromedriver\")\n",
    "driver.get(\"https://www.posco.co.kr/homepage/docs/kor6/jsp/member/s91h1000010w.jsp\")\n",
    "\n",
    "# 로그인버튼 CSS selector \n",
    "# selector = \"contens > div > div > div.form > div > input[type=button]:nth-child(5)\"\n",
    "\n",
    "#로그인 버튼 클릭, .login-form 대신에 login-wrap도 가능\n",
    "driver.find_element(By.CSS_SELECTOR, \".login-form input:nth-child(5)\").click()\n",
    "driver.switch_to.alert.accept()  #아이디 미입력에 따른 경고창 출력 → 경고창 '확인' 버튼 자동으로 클릭"
   ]
  },
  {
   "cell_type": "markdown",
   "metadata": {},
   "source": [
    "- execute_script() 메소드"
   ]
  },
  {
   "cell_type": "code",
   "execution_count": null,
   "metadata": {},
   "outputs": [],
   "source": [
    "from selenium import webdriver\n",
    "from selenium.webdriver.common.by import By\n",
    "\n",
    "#아래에 코드 작성\n",
    "driver = webdriver.Chrome(\"chromedriver\")\n",
    "driver.get(\"https://www.naver.com\")\n",
    "\n",
    "driver.find_element(By.CSS_SELECTOR, \"#query\").send_keys(\"포스코\")\n",
    "driver.find_element(By.CSS_SELECTOR, \"#search_btn\").click()\n",
    "\n",
    "driver.execute_script(\"window.scrollTo(0, 2200);\") #페이지의 스크롤을 2200만큼 아래로 이동"
   ]
  },
  {
   "cell_type": "markdown",
   "metadata": {},
   "source": [
    "- page_source 속성"
   ]
  },
  {
   "cell_type": "code",
   "execution_count": null,
   "metadata": {},
   "outputs": [],
   "source": [
    "from selenium import webdriver\n",
    "from selenium.webdriver.common.by import By\n",
    "\n",
    "driver = webdriver.Chrome(\"다운받은 웹드라이버 폴더 경로/chromedriver\")\n",
    "driver.get(\"https://www.naver.com\")\n",
    "\n",
    "driver.find_element(By.CSS_SELECTOR, \"#query\") .send_keys(\"포스코\")\n",
    "driver.find_element(By.CSS_SELECTOR, \"#search_btn\").click()\n",
    "\n",
    "html_src = driver.page_source  #메소드가 아닌 속성(멤버변수)이므로 괄호 없이 써야함\n",
    "print(html)"
   ]
  }
 ],
 "metadata": {
  "kernelspec": {
   "display_name": "Python 3.8.10 64-bit",
   "language": "python",
   "name": "python3"
  },
  "language_info": {
   "codemirror_mode": {
    "name": "ipython",
    "version": 3
   },
   "file_extension": ".py",
   "mimetype": "text/x-python",
   "name": "python",
   "nbconvert_exporter": "python",
   "pygments_lexer": "ipython3",
   "version": "3.8.10"
  },
  "orig_nbformat": 4,
  "vscode": {
   "interpreter": {
    "hash": "e2782e0ab7cab974e8fb2dfc8cec048a29dc3b50e54743df0c4a34ac41b2be7e"
   }
  }
 },
 "nbformat": 4,
 "nbformat_minor": 2
}
