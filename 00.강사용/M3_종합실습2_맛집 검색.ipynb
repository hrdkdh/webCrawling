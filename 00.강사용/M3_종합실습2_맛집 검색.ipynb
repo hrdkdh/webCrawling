{
 "cells": [
  {
   "cell_type": "markdown",
   "metadata": {},
   "source": [
    "### 종합실습2"
   ]
  },
  {
   "cell_type": "markdown",
   "metadata": {},
   "source": [
    "Requests 혹은 Selenium 모듈을 이용해 다이닝코드 페이지로 접속한 다음,<br>\n",
    "원하는 지역의 맛집100건을 검색하여 주피터 노트북 화면에 출력하거나 엑셀로 저장해 보세요.<br>\n",
    "*검색어 예시 : '포항'\u000b(링크 : https://www.diningcode.com/)"
   ]
  },
  {
   "cell_type": "markdown",
   "metadata": {},
   "source": [
    "#### requests모듈"
   ]
  },
  {
   "cell_type": "code",
   "execution_count": null,
   "metadata": {},
   "outputs": [],
   "source": [
    "# 모듈 불러오기\n",
    "import requests\n",
    "from bs4 import BeautifulSoup\n",
    "import pandas as pd\n",
    "\n",
    "search_key = \"포항\"\n",
    "\n",
    "# url 주소는 \"더보기\" 클릭 후, Fetch/XHR에서 list.php로 나타나는 url로 설정할 것\n",
    "url = \"https://im.diningcode.com/API/isearch/\"\n",
    "h= {\"User-Agent\":\"Mozilla/5.0 (Windows NT 10.0; Win64; x64) AppleWebKit/537.36 (KHTML, like Gecko) Chrome/102.0.0.0 Safari/537.36\"}\n",
    "\n",
    "results = []\n",
    "for i in range(1,11):\n",
    "    print(\"{}페이지 크롤링 중...\".format(i))\n",
    "    form_data = {\n",
    "        \"dc_flag\": \"1\",\n",
    "        \"lat\": \"36.0175999\",\n",
    "        \"lng\": \"129.3292453\",\n",
    "        \"mode\": \"poi\",\n",
    "        \"page\": str(i),\n",
    "        \"query\": search_key,\n",
    "        \"rn_search_flag\": \"on\",\n",
    "        \"search_type\": \"poi_search\",\n",
    "        \"size\": \"20\"\n",
    "        }\n",
    "\n",
    "    # header정보 없으면 데이터 못 읽어옴\n",
    "    res = requests.post(url, data=form_data, headers=h, verify=False)\n",
    "\n",
    "    # json형태로 변환하기\n",
    "    json_data = res.json()\n",
    "\n",
    "    # 필요 데이터 찾기\n",
    "    rests = json_data[\"result_data\"][\"poi_section\"][\"list\"]\n",
    "\n",
    "    for rest in rests:\n",
    "        name = rest[\"nm\"]\n",
    "        addr = rest[\"addr\"]\n",
    "        phone = rest[\"phone\"]\n",
    "        menu = rest[\"category\"]\n",
    "        info = {\n",
    "            \"식당이름\" : name,\n",
    "            \"식당주소\" : addr,\n",
    "            \"식당연락처\" : phone,\n",
    "            \"메뉴\" : menu,\n",
    "            }\n",
    "        results.append(info)\n",
    "\n",
    "# df로 전환하기\n",
    "df = pd.DataFrame(results)\n",
    "\n",
    "# 엑셀 파일로 저장하기\n",
    "df.to_excel(\"./outputs/{}맛집정보.xlsx\".format(search_key), index=True)"
   ]
  },
  {
   "cell_type": "markdown",
   "metadata": {},
   "source": [
    "#### selenium모듈"
   ]
  },
  {
   "cell_type": "code",
   "execution_count": null,
   "metadata": {},
   "outputs": [],
   "source": [
    "import time\n",
    "from selenium import webdriver\n",
    "from bs4 import BeautifulSoup\n",
    "import pandas as pd\n",
    "from selenium.webdriver.common.by import By\n",
    "from selenium.webdriver.common.keys import Keys\n",
    "\n",
    "driver = webdriver.Chrome(\"chromedriver\")\n",
    "\n",
    "# 다이닝코드 사이트 접속\n",
    "driver.get(\"https://www.diningcode.com/\")\n",
    "driver.implicitly_wait(3)\n",
    "\n",
    "# 검색어 입력\n",
    "driver.find_element(By.CSS_SELECTOR, \"#txt_keyword\").send_keys(\"포항\")\n",
    "driver.implicitly_wait(3)\n",
    "\n",
    "# Enter 키 Press\n",
    "driver.find_element(By.CSS_SELECTOR, \"#txt_keyword\").send_keys(Keys.ENTER)\n",
    "driver.implicitly_wait(3)\n",
    "\n",
    "# 더보기 클릭\n",
    "driver.find_element(By.CSS_SELECTOR, \"#btn_normal_list > a\").click()\n",
    "driver.implicitly_wait(3)\n",
    "# driver.execute_script(\"location.href='/list.php?query={}';\".format(search_key)\n",
    "\n",
    "# 더보기 클릭\n",
    "for i in range(1,11):\n",
    "    more_btn = driver.find_element(By.CSS_SELECTOR, \"#div_list_more\")\n",
    "    try:\n",
    "        print(\"{}페이지 로드중입니다.\".format(i))\n",
    "        more_btn.click()\n",
    "        # driver.execute_script(\"getMoreList();\")\n",
    "        time.sleep(3)\n",
    "    except:\n",
    "        print(\"모든 데이터를 로드하였습니다.\")\n",
    "\n",
    "# 로드된 페이지 beautifulsoup\n",
    "html = driver.page_source\n",
    "soup = BeautifulSoup(html, \"html.parser\")\n",
    "datas = soup.select(\"#div_list > li > a.blink\")\n",
    "\n",
    "# 정보 정리해서 리스트형태로 저장\n",
    "results = []\n",
    "for data in datas:\n",
    "    result_dict = {\n",
    "        \"식당이름\" : data.select(\".btxt\")[0].text.split(\". \")[1],\n",
    "        \"메뉴\" : data.select(\".stxt\")[0].text,\n",
    "        \"특징\" : data.select(\".ctxt\")[0].text\n",
    "    }\n",
    "    results.append(result_dict)\n",
    "    add = data.select(\"span:nth-child(5)\")[0].text\n",
    "    if \"경상북도\" in add or \"경북\" in add:\n",
    "        add2 = add.replace(\"경북\", \"경상북도\")\n",
    "        idx = add.find(\"경상북도\")\n",
    "        result_dict[\"주소\"] = add[idx:]\n",
    "    else:\n",
    "        result_dict[\"주소\"] = add\n",
    "\n",
    "df = pd.DataFrame(results)\n",
    "df_ex = df.to_excel(\"./outputs/포항 맛집 100건 검색_selenium.xlsx\", index=True)\n",
    "display(df)"
   ]
  }
 ],
 "metadata": {
  "kernelspec": {
   "display_name": "Python 3.8.10 64-bit",
   "language": "python",
   "name": "python3"
  },
  "language_info": {
   "codemirror_mode": {
    "name": "ipython",
    "version": 3
   },
   "file_extension": ".py",
   "mimetype": "text/x-python",
   "name": "python",
   "nbconvert_exporter": "python",
   "pygments_lexer": "ipython3",
   "version": "3.8.10"
  },
  "orig_nbformat": 4,
  "vscode": {
   "interpreter": {
    "hash": "e2782e0ab7cab974e8fb2dfc8cec048a29dc3b50e54743df0c4a34ac41b2be7e"
   }
  }
 },
 "nbformat": 4,
 "nbformat_minor": 2
}
