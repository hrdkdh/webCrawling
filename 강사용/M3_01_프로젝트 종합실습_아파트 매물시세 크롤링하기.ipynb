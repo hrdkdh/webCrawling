{
 "cells": [
  {
   "cell_type": "markdown",
   "metadata": {},
   "source": [
    "### 프로젝트 종합실습\n",
    "##### Requests 혹은 Selenium 모듈을 이용해 부동산114 홈페이지로 접속한 다음, 원하는 지역의 아파트 매물 시세 100건을 검색하여 주피터 노트북 화면에 출력하거나 엑셀로 저장해 보세요.\n",
    "##### 링크 : https://www.r114.com/"
   ]
  },
  {
   "cell_type": "markdown",
   "metadata": {},
   "source": [
    "### 1. Requests로 크롤링하기"
   ]
  },
  {
   "cell_type": "code",
   "execution_count": null,
   "metadata": {
    "scrolled": false
   },
   "outputs": [],
   "source": [
    "import requests\n",
    "import pandas as pd\n",
    "from bs4 import BeautifulSoup\n",
    "\n",
    "#아래에 코드 작성\n",
    "results = []\n",
    "url = \"https://www.r114.com/search/detailSearch.asp\"\n",
    "for page_no in range(1, 20):\n",
    "    form_data = {\n",
    "        \"dqSearchTerm\": \"포항\",\n",
    "        \"dqSearchTermOld\": \"포항\",\n",
    "        \"dqSearchType\": \"memul\",\n",
    "        \"dqOption\": \"apt\",\n",
    "        \"dqTotalCnt\": \"\",\n",
    "        \"dqSearchSubType\": \"매매\",\n",
    "        \"dqPage\": page_no\n",
    "    }\n",
    "    res = requests.post(url, data=form_data, verify = False)\n",
    "    #response 헤더의 Content-Type에 charset 정보가 없음. 이로 인해 response된 데이터가 ISO-8859-1으로\n",
    "    #인코딩된 것으로 requests 모듈이 자동판단, res.text 값을 ISO-8859-1로 디코딩해버림\n",
    "    #하지만 실제로는 UTF-8로 인코딩되어 있으므로 UTF-8로 디코딩해야 한글이 정상 출력됨\n",
    "    #print(res.encoding) # -> 'ISO-8859-1' 출력됨\n",
    "    html_text = res.content.decode(\"UTF-8\")\n",
    "    soup = BeautifulSoup(html_text, \"html.parser\")\n",
    "    items = soup.select(\".list_article > li\")\n",
    "    for item in items:\n",
    "        size_list = item.select(\".txt\")[0].text.split(\" | \")\n",
    "        size = [x for x in size_list if \"㎡\" in x][0]\n",
    "        this_result_dict = {\n",
    "            \"아파트명\" : item.select(\".tit_a > span\")[0].text,\n",
    "            \"지역\" : item.select(\".txt > strong\")[0].text,\n",
    "            \"크기\" : size,\n",
    "            \"매매가\" : item.select(\".tit_a > em\")[0].text.replace(\"매매\", \"\")\n",
    "        }\n",
    "        results.append(this_result_dict)\n",
    "\n",
    "df = pd.DataFrame(results)\n",
    "df.to_excel(\"../outputs/포항시 아파트 매매가 동향.xlsx\", index = False)\n",
    "display(df)"
   ]
  },
  {
   "cell_type": "markdown",
   "metadata": {},
   "source": [
    "### 2. Selenium으로 크롤링하기"
   ]
  },
  {
   "cell_type": "code",
   "execution_count": null,
   "metadata": {
    "scrolled": false
   },
   "outputs": [],
   "source": [
    "import time\n",
    "import pandas as pd\n",
    "from bs4 import BeautifulSoup\n",
    "from selenium import webdriver\n",
    "from selenium.webdriver.common.by import By\n",
    "\n",
    "#아래에 코드 작성\n",
    "driver = webdriver.Chrome(\"chromedriver.exe\")\n",
    "driver.get(\"https://www.r114.com/\")\n",
    "driver.find_element(By.CSS_SELECTOR, \"#dqSearchTerm\").send_keys(\"포항\")\n",
    "driver.find_element(By.CSS_SELECTOR, \"#cmdSearchHome\").click()\n",
    "driver.find_element(By.CSS_SELECTOR, \".list_tab_sale > .apt > a\").click()\n",
    "time.sleep(5)\n",
    "results = []\n",
    "for i in range(1, 11):\n",
    "    html_text = driver.page_source\n",
    "    soup = BeautifulSoup(html_text, \"html.parser\")\n",
    "    items = soup.select(\".list_article > li\")\n",
    "    for item in items:\n",
    "        size_list = item.select(\".txt\")[0].text.split(\" | \")\n",
    "        size = [x for x in size_list if \"㎡\" in x][0]\n",
    "        this_result_dict = {\n",
    "            \"아파트명\" : item.select(\".tit_a > span\")[0].text,\n",
    "            \"지역\" : item.select(\".txt > strong\")[0].text,\n",
    "            \"크기\" : size,\n",
    "            \"매매가\" : item.select(\".tit_a > em\")[0].text.replace(\"매매\", \"\")\n",
    "        }\n",
    "        results.append(this_result_dict)\n",
    "    if i < 10:\n",
    "        for page_no in driver.find_elements(By.CSS_SELECTOR, \".paging > a\"):\n",
    "            if page_no.text.strip() == str(i+1):\n",
    "                page_no.click()\n",
    "                break\n",
    "    \n",
    "df = pd.DataFrame(results)\n",
    "df.to_excel(\"../outputs/포항시 아파트 매매가 동향.xlsx\", index = False)\n",
    "display(df)"
   ]
  }
 ],
 "metadata": {
  "kernelspec": {
   "display_name": "Python 3",
   "language": "python",
   "name": "python3"
  },
  "language_info": {
   "codemirror_mode": {
    "name": "ipython",
    "version": 3
   },
   "file_extension": ".py",
   "mimetype": "text/x-python",
   "name": "python",
   "nbconvert_exporter": "python",
   "pygments_lexer": "ipython3",
   "version": "3.6.5"
  },
  "toc": {
   "base_numbering": 1,
   "nav_menu": {},
   "number_sections": true,
   "sideBar": true,
   "skip_h1_title": false,
   "title_cell": "Table of Contents",
   "title_sidebar": "Contents",
   "toc_cell": false,
   "toc_position": {},
   "toc_section_display": true,
   "toc_window_display": false
  }
 },
 "nbformat": 4,
 "nbformat_minor": 5
}
