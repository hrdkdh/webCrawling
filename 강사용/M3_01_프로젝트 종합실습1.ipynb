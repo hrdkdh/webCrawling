{
 "cells": [
  {
   "attachments": {},
   "cell_type": "markdown",
   "id": "6cc3a116",
   "metadata": {},
   "source": [
    "### 종합실습1\n",
    "##### Requests 혹은 Selenium 모듈을 이용해 부동산114 모바일 페이지로 접속한 다음, 포항 지역의 아파트 매물 시세 200건을 검색하여 엑셀로 저장해 보세요.\n",
    "##### 링크 : https://m.r114.com/"
   ]
  },
  {
   "cell_type": "markdown",
   "id": "af994a78",
   "metadata": {},
   "source": [
    "### 1. Requests로 크롤링하기"
   ]
  },
  {
   "cell_type": "code",
   "execution_count": null,
   "id": "c09eaab4",
   "metadata": {
    "scrolled": true
   },
   "outputs": [],
   "source": [
    "import requests\n",
    "import pandas as pd\n",
    "from bs4 import BeautifulSoup\n",
    "\n",
    "#아래에 코드 작성\n",
    "html = \"\"\n",
    "for page_no in range(1, 3):\n",
    "    url = \"https://m.r114.com/Search/m5/search/searchDetailCmd.asp?dqAppendHtml=Y&dqPage=\"+str(page_no)+\"&dqSearchTerm=포항&dqOption=apt&dqSearchType=memul&dqSearchSubType=매매&dqContentSize=100&ranSearchVal=undefined&dqSKString=\"\n",
    "    response = requests.get(url, verify = False)\n",
    "    response.encoding = \"UTF-8\" #ISO-8859-1으로 인코딩되어 response됨. 이 경우 한글이 깨지므로 UTF-8로 인코딩 변환\n",
    "    html += response.text\n",
    "\n",
    "soup = BeautifulSoup(html, \"html.parser\")\n",
    "items = soup.select(\"li\")\n",
    "results = []\n",
    "for item in items:\n",
    "    this_result_dict = {\n",
    "        \"아파트명\" : item.select(\".tit\")[0].text,\n",
    "        \"지역\" : item.select(\".info_wrap\")[0].select(\"span\")[0].text,\n",
    "        \"크기\" : item.select(\".info_wrap\")[0].select(\"span\")[1].text,\n",
    "        \"매매가\" : item.select(\".price\")[0].text.replace(\"매매\", \"\")\n",
    "    }\n",
    "    results.append(this_result_dict)\n",
    "\n",
    "df = pd.DataFrame(results)\n",
    "df.to_excel(\"../outputs/포항시 아파트 매매가 동향.xlsx\", index = False)\n",
    "display(df)"
   ]
  },
  {
   "cell_type": "markdown",
   "id": "652b3596",
   "metadata": {},
   "source": [
    "### 2. Selenium으로 크롤링하기"
   ]
  },
  {
   "cell_type": "code",
   "execution_count": null,
   "id": "a27c192c",
   "metadata": {},
   "outputs": [],
   "source": [
    "import time\n",
    "import pandas as pd\n",
    "from selenium import webdriver\n",
    "from bs4 import BeautifulSoup\n",
    "\n",
    "#아래에 코드 작성\n",
    "driver = webdriver.Chrome(\"chromedriver.exe\")\n",
    "driver.get(\"https://m.r114.com/\")\n",
    "driver.find_element_by_css_selector(\".search > a\").click()\n",
    "driver.find_element_by_css_selector(\"#dqSearchTerm\").send_keys(\"포항\")\n",
    "driver.find_element_by_css_selector(\".inp_wrap > .btn_search\").click()\n",
    "driver.find_element_by_css_selector(\"#body_layout > div:nth-child(2) > div > ul > li.n1 > a\").click()\n",
    "\n",
    "for i in range(0, 20): #스크롤바가 최하단으로가면 추가로 데이터를 로드함. 20번 반복하여 총 200개의 데이터 로드\n",
    "    driver.execute_script(\"window.scrollTo(0, document.body.scrollHeight);\")\n",
    "    time.sleep(1)\n",
    "    \n",
    "html = driver.page_source\n",
    "\n",
    "soup = BeautifulSoup(html, \"html.parser\")\n",
    "items = soup.select(\"#resultUI > li\")\n",
    "results = []\n",
    "for item in items:\n",
    "    this_result_dict = {\n",
    "        \"아파트명\" : item.select(\".tit\")[0].text,\n",
    "        \"지역\" : item.select(\".info_wrap\")[0].select(\"span\")[0].text,\n",
    "        \"크기\" : item.select(\".info_wrap\")[0].select(\"span\")[1].text,\n",
    "        \"매매가\" : item.select(\".price\")[0].text.replace(\"매매\", \"\")\n",
    "    }\n",
    "    results.append(this_result_dict)\n",
    "\n",
    "df = pd.DataFrame(results)\n",
    "df.to_excel(\"../outputs/포항시 아파트 매매가 동향.xlsx\", index = False)\n",
    "display(df)"
   ]
  }
 ],
 "metadata": {
  "kernelspec": {
   "display_name": "Python 3",
   "language": "python",
   "name": "python3"
  },
  "language_info": {
   "codemirror_mode": {
    "name": "ipython",
    "version": 3
   },
   "file_extension": ".py",
   "mimetype": "text/x-python",
   "name": "python",
   "nbconvert_exporter": "python",
   "pygments_lexer": "ipython3",
   "version": "3.7.9"
  },
  "toc": {
   "base_numbering": 1,
   "nav_menu": {},
   "number_sections": true,
   "sideBar": true,
   "skip_h1_title": false,
   "title_cell": "Table of Contents",
   "title_sidebar": "Contents",
   "toc_cell": false,
   "toc_position": {},
   "toc_section_display": true,
   "toc_window_display": false
  }
 },
 "nbformat": 4,
 "nbformat_minor": 5
}
