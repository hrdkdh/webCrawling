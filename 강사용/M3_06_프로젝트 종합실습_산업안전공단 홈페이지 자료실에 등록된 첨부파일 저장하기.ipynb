{
 "cells": [
  {
   "cell_type": "markdown",
   "metadata": {},
   "source": [
    "### 프로젝트 종합실습\n",
    "##### 산업안전공단 홈페이지에 접속한 다음, ‘자료마당 > 통합자료실 > 재해사례 > 국내  재해사례 > 제조업’ 페이지로 들어가 각 게시글에 첨부된 파일을 100건 이상 다운로드해 보세요.\n",
    "##### 링크 : https://www.kosha.or.kr/kosha/data/machine.do?articleLimit=100"
   ]
  },
  {
   "cell_type": "markdown",
   "metadata": {},
   "source": [
    "  - 힌트1 : requests객체.content 멤버변수를 이용해 바이트 데이터로 이미지를 로드하세요.\n",
    "  - 힌트2 : 로드한 바이트 데이터를 파일로 저장하기 위해서는 파이썬 내장함수인 open() 함수를 사용하면 됩니다. 예) open(저장할 파일명, \"wb\").write(바이트 데이터)\n",
    "  - 힌트3 : 파일을 저장할 때 파일의 확장자를 정확히 찾아서 넣어주어야 합니다."
   ]
  },
  {
   "cell_type": "code",
   "execution_count": null,
   "metadata": {
    "scrolled": true
   },
   "outputs": [],
   "source": [
    "import requests\n",
    "from bs4 import BeautifulSoup\n",
    "\n",
    "#아래에 코드 작성\n",
    "url = \"https://www.kosha.or.kr/kosha/data/machine.do?mode=list&articleLimit=100\"\n",
    "res = requests.get(url)\n",
    "soup = BeautifulSoup(res.text, \"html.parser\")\n",
    "i = 0\n",
    "for a in soup.select(\".board-list-title > div > a\"):\n",
    "    i += 1\n",
    "    print(\"{}번째 파일 다운로드중...\".format(i), end=\"\\r\")\n",
    "    url_article = \"https://www.kosha.or.kr/kosha/data/machine.do\" + a.attrs[\"href\"]\n",
    "    res_article = requests.get(url_article)\n",
    "    \n",
    "    soup_article = BeautifulSoup(res_article.text, \"html.parser\")\n",
    "    subject_element = soup_article.select(\".Board-view .view-header > th\")[0]\n",
    "    ymd_element = soup_article.select(\".Board-view .view-header > td\")[0]\n",
    "    download_element = soup_article.select(\"#view-downbox > ul > li > a\")[0]\n",
    "    \n",
    "    subject = subject_element.text.strip()\n",
    "    ymd = ymd_element.text.replace(\".\", \"\").strip()\n",
    "    file_ext = download_element.text.split(\".\")[-1].strip()\n",
    "    \n",
    "    url_download = \"https://www.kosha.or.kr/kosha/data/machine.do\" + download_element.attrs[\"href\"]\n",
    "    res_article = requests.get(url_download)\n",
    "    \n",
    "    open(\"../outputs/files/{}_{}.{}\".format(ymd, subject, file_ext), \"wb\").write(res_article.content)\n",
    "\n",
    "print(\"다운로드가 완료되었습니다(총 {}건)\".format(i))"
   ]
  }
 ],
 "metadata": {
  "kernelspec": {
   "display_name": "Python 3",
   "language": "python",
   "name": "python3"
  },
  "language_info": {
   "codemirror_mode": {
    "name": "ipython",
    "version": 3
   },
   "file_extension": ".py",
   "mimetype": "text/x-python",
   "name": "python",
   "nbconvert_exporter": "python",
   "pygments_lexer": "ipython3",
   "version": "3.6.5"
  },
  "toc": {
   "base_numbering": 1,
   "nav_menu": {},
   "number_sections": true,
   "sideBar": true,
   "skip_h1_title": false,
   "title_cell": "Table of Contents",
   "title_sidebar": "Contents",
   "toc_cell": false,
   "toc_position": {},
   "toc_section_display": true,
   "toc_window_display": false
  }
 },
 "nbformat": 4,
 "nbformat_minor": 5
}
