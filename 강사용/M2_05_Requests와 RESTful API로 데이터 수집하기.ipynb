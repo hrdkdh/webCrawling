{
 "cells": [
  {
   "cell_type": "code",
   "execution_count": null,
   "metadata": {
    "scrolled": true
   },
   "outputs": [],
   "source": [
    "import requests\n",
    "\n",
    "#아래에 코드 작성\n",
    "service_key = \"AiMHAf+JJUylxroBA5LeiG/kXWULTMXWujS9xTtiD0TO23mWyND4uvsmnWlTJEZcr/Wq5q6qzQBi0Ps2KrlD/g==\" #decoding key로 입력\n",
    "url = \"http://apis.data.go.kr/1741000/DisasterMsg3/getDisasterMsg1List\"\n",
    "params = { #URL에 붙을 파라미터를 딕셔너리로 저장한 후 get메소드의 params 파라미터의 값으로 입력\n",
    "    \"ServiceKey\" : service_key,\n",
    "    \"pageNo\" : \"1\",\n",
    "    \"numOfRows\" : \"100\",\n",
    "    \"type\" : \"json\"\n",
    "}\n",
    "res = requests.get(url, params=params)\n",
    "try: #try, except 문으로 json 파싱 에러에 대비\n",
    "    json_parsed = res.json()\n",
    "except:\n",
    "    print(\"json parsing에 실패하였습니다. 다음 res.text 메시지를 확인해 보세요.\\n\", res.text)\n",
    "else:\n",
    "    for msg in json_parsed[\"DisasterMsg\"][1][\"row\"]:\n",
    "        print(msg[\"msg\"])"
   ]
  },
  {
   "cell_type": "code",
   "execution_count": null,
   "metadata": {},
   "outputs": [],
   "source": [
    "import pandas as pd\n",
    "\n",
    "#판다스를 이용하면 df로도 즉시 변환 가능하며, 엑셀로도 저장 가능\n",
    "df = pd.DataFrame(json_parsed[\"DisasterMsg\"][1][\"row\"])\n",
    "df"
   ]
  }
 ],
 "metadata": {
  "interpreter": {
   "hash": "27d72380f3865b4c7008c9c7901bfeb11f576f51ea7eb885160f000a78c1db8d"
  },
  "kernelspec": {
   "display_name": "Python 3.7.9 64-bit",
   "language": "python",
   "name": "python3"
  },
  "language_info": {
   "codemirror_mode": {
    "name": "ipython",
    "version": 3
   },
   "file_extension": ".py",
   "mimetype": "text/x-python",
   "name": "python",
   "nbconvert_exporter": "python",
   "pygments_lexer": "ipython3",
   "version": "3.7.9"
  },
  "toc": {
   "base_numbering": 1,
   "nav_menu": {},
   "number_sections": true,
   "sideBar": true,
   "skip_h1_title": false,
   "title_cell": "Table of Contents",
   "title_sidebar": "Contents",
   "toc_cell": false,
   "toc_position": {},
   "toc_section_display": true,
   "toc_window_display": false
  }
 },
 "nbformat": 4,
 "nbformat_minor": 5
}
