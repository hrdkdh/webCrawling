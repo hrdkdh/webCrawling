{
 "cells": [
  {
   "cell_type": "markdown",
   "metadata": {},
   "source": [
    "### 프로젝트 종합실습\n",
    "##### Requests 혹은 Selenium 모듈을 이용해 다이닝코드 페이지로 접속한 다음, 원하는 지역의 맛집 100건을 검색하여 주피터 노트북 화면에 출력하거나 엑셀로 저장해 보세요.  *검색어 예시 : '포항'\n",
    "##### 링크 : https://www.diningcode.com/"
   ]
  },
  {
   "cell_type": "markdown",
   "metadata": {},
   "source": [
    "### 1. Requests로 크롤링하기"
   ]
  },
  {
   "cell_type": "code",
   "execution_count": 2,
   "metadata": {
    "scrolled": false
   },
   "outputs": [
    {
     "name": "stdout",
     "output_type": "stream",
     "text": [
      "1페이지 크롤링 중...\r"
     ]
    },
    {
     "name": "stderr",
     "output_type": "stream",
     "text": [
      "c:\\Users\\poscouser\\AppData\\Local\\Programs\\Python\\Python37\\lib\\site-packages\\urllib3\\connectionpool.py:1020: InsecureRequestWarning: Unverified HTTPS request is being made to host 'www.diningcode.com'. Adding certificate verification is strongly advised. See: https://urllib3.readthedocs.io/en/latest/advanced-usage.html#ssl-warnings\n",
      "  InsecureRequestWarning,\n"
     ]
    },
    {
     "name": "stdout",
     "output_type": "stream",
     "text": [
      "2페이지 크롤링 중...\r"
     ]
    },
    {
     "name": "stderr",
     "output_type": "stream",
     "text": [
      "c:\\Users\\poscouser\\AppData\\Local\\Programs\\Python\\Python37\\lib\\site-packages\\urllib3\\connectionpool.py:1020: InsecureRequestWarning: Unverified HTTPS request is being made to host 'www.diningcode.com'. Adding certificate verification is strongly advised. See: https://urllib3.readthedocs.io/en/latest/advanced-usage.html#ssl-warnings\n",
      "  InsecureRequestWarning,\n"
     ]
    },
    {
     "name": "stdout",
     "output_type": "stream",
     "text": [
      "3페이지 크롤링 중...\r"
     ]
    },
    {
     "name": "stderr",
     "output_type": "stream",
     "text": [
      "c:\\Users\\poscouser\\AppData\\Local\\Programs\\Python\\Python37\\lib\\site-packages\\urllib3\\connectionpool.py:1020: InsecureRequestWarning: Unverified HTTPS request is being made to host 'www.diningcode.com'. Adding certificate verification is strongly advised. See: https://urllib3.readthedocs.io/en/latest/advanced-usage.html#ssl-warnings\n",
      "  InsecureRequestWarning,\n"
     ]
    },
    {
     "name": "stdout",
     "output_type": "stream",
     "text": [
      "4페이지 크롤링 중...\r"
     ]
    },
    {
     "name": "stderr",
     "output_type": "stream",
     "text": [
      "c:\\Users\\poscouser\\AppData\\Local\\Programs\\Python\\Python37\\lib\\site-packages\\urllib3\\connectionpool.py:1020: InsecureRequestWarning: Unverified HTTPS request is being made to host 'www.diningcode.com'. Adding certificate verification is strongly advised. See: https://urllib3.readthedocs.io/en/latest/advanced-usage.html#ssl-warnings\n",
      "  InsecureRequestWarning,\n"
     ]
    },
    {
     "name": "stdout",
     "output_type": "stream",
     "text": [
      "5페이지 크롤링 중...\r"
     ]
    },
    {
     "name": "stderr",
     "output_type": "stream",
     "text": [
      "c:\\Users\\poscouser\\AppData\\Local\\Programs\\Python\\Python37\\lib\\site-packages\\urllib3\\connectionpool.py:1020: InsecureRequestWarning: Unverified HTTPS request is being made to host 'www.diningcode.com'. Adding certificate verification is strongly advised. See: https://urllib3.readthedocs.io/en/latest/advanced-usage.html#ssl-warnings\n",
      "  InsecureRequestWarning,\n"
     ]
    },
    {
     "name": "stdout",
     "output_type": "stream",
     "text": [
      "6페이지 크롤링 중...\r"
     ]
    },
    {
     "name": "stderr",
     "output_type": "stream",
     "text": [
      "c:\\Users\\poscouser\\AppData\\Local\\Programs\\Python\\Python37\\lib\\site-packages\\urllib3\\connectionpool.py:1020: InsecureRequestWarning: Unverified HTTPS request is being made to host 'www.diningcode.com'. Adding certificate verification is strongly advised. See: https://urllib3.readthedocs.io/en/latest/advanced-usage.html#ssl-warnings\n",
      "  InsecureRequestWarning,\n"
     ]
    },
    {
     "name": "stdout",
     "output_type": "stream",
     "text": [
      "7페이지 크롤링 중...\r"
     ]
    },
    {
     "name": "stderr",
     "output_type": "stream",
     "text": [
      "c:\\Users\\poscouser\\AppData\\Local\\Programs\\Python\\Python37\\lib\\site-packages\\urllib3\\connectionpool.py:1020: InsecureRequestWarning: Unverified HTTPS request is being made to host 'www.diningcode.com'. Adding certificate verification is strongly advised. See: https://urllib3.readthedocs.io/en/latest/advanced-usage.html#ssl-warnings\n",
      "  InsecureRequestWarning,\n"
     ]
    },
    {
     "name": "stdout",
     "output_type": "stream",
     "text": [
      "8페이지 크롤링 중...\r"
     ]
    },
    {
     "name": "stderr",
     "output_type": "stream",
     "text": [
      "c:\\Users\\poscouser\\AppData\\Local\\Programs\\Python\\Python37\\lib\\site-packages\\urllib3\\connectionpool.py:1020: InsecureRequestWarning: Unverified HTTPS request is being made to host 'www.diningcode.com'. Adding certificate verification is strongly advised. See: https://urllib3.readthedocs.io/en/latest/advanced-usage.html#ssl-warnings\n",
      "  InsecureRequestWarning,\n"
     ]
    },
    {
     "name": "stdout",
     "output_type": "stream",
     "text": [
      "9페이지 크롤링 중...\r"
     ]
    },
    {
     "name": "stderr",
     "output_type": "stream",
     "text": [
      "c:\\Users\\poscouser\\AppData\\Local\\Programs\\Python\\Python37\\lib\\site-packages\\urllib3\\connectionpool.py:1020: InsecureRequestWarning: Unverified HTTPS request is being made to host 'www.diningcode.com'. Adding certificate verification is strongly advised. See: https://urllib3.readthedocs.io/en/latest/advanced-usage.html#ssl-warnings\n",
      "  InsecureRequestWarning,\n"
     ]
    },
    {
     "name": "stdout",
     "output_type": "stream",
     "text": [
      "10페이지 크롤링 중...\r"
     ]
    },
    {
     "name": "stderr",
     "output_type": "stream",
     "text": [
      "c:\\Users\\poscouser\\AppData\\Local\\Programs\\Python\\Python37\\lib\\site-packages\\urllib3\\connectionpool.py:1020: InsecureRequestWarning: Unverified HTTPS request is being made to host 'www.diningcode.com'. Adding certificate verification is strongly advised. See: https://urllib3.readthedocs.io/en/latest/advanced-usage.html#ssl-warnings\n",
      "  InsecureRequestWarning,\n"
     ]
    },
    {
     "data": {
      "text/html": [
       "<div>\n",
       "<style scoped>\n",
       "    .dataframe tbody tr th:only-of-type {\n",
       "        vertical-align: middle;\n",
       "    }\n",
       "\n",
       "    .dataframe tbody tr th {\n",
       "        vertical-align: top;\n",
       "    }\n",
       "\n",
       "    .dataframe thead th {\n",
       "        text-align: right;\n",
       "    }\n",
       "</style>\n",
       "<table border=\"1\" class=\"dataframe\">\n",
       "  <thead>\n",
       "    <tr style=\"text-align: right;\">\n",
       "      <th></th>\n",
       "      <th>이름</th>\n",
       "      <th>종류</th>\n",
       "      <th>특징</th>\n",
       "      <th>위치</th>\n",
       "      <th>주소</th>\n",
       "    </tr>\n",
       "  </thead>\n",
       "  <tbody>\n",
       "    <tr>\n",
       "      <th>0</th>\n",
       "      <td>오레노라멘</td>\n",
       "      <td>시오라멘, 쇼유라멘</td>\n",
       "      <td>다코숨은맛집, 혼밥, 노키즈존</td>\n",
       "      <td>합정</td>\n",
       "      <td>서울특별시 마포구 합정동 361-1</td>\n",
       "    </tr>\n",
       "    <tr>\n",
       "      <th>1</th>\n",
       "      <td>또보겠지떡볶이집 붕붕허니비점</td>\n",
       "      <td>떡볶이, 버터갈릭감자튀김</td>\n",
       "      <td>데이트, 테이크아웃, 서민적인</td>\n",
       "      <td>동교동</td>\n",
       "      <td>서울특별시 마포구 동교동 153-3</td>\n",
       "    </tr>\n",
       "    <tr>\n",
       "      <th>2</th>\n",
       "      <td>맛이차이나</td>\n",
       "      <td>짜장면, 탕수육</td>\n",
       "      <td>수요미식회, 식사모임, 발렛파킹</td>\n",
       "      <td>상수</td>\n",
       "      <td>서울특별시 마포구 상수동 321-1 2층</td>\n",
       "    </tr>\n",
       "    <tr>\n",
       "      <th>3</th>\n",
       "      <td>옥동식</td>\n",
       "      <td>돼지국밥, 돼지곰탕</td>\n",
       "      <td>2019숨은맛집, 혼밥, 바테이블</td>\n",
       "      <td>합정</td>\n",
       "      <td>서울특별시 마포구 서교동 385-6</td>\n",
       "    </tr>\n",
       "    <tr>\n",
       "      <th>4</th>\n",
       "      <td>잇텐고</td>\n",
       "      <td>라멘, 바질라멘</td>\n",
       "      <td>2020숨은맛집, 데이트, 칸막이</td>\n",
       "      <td>합정</td>\n",
       "      <td>서울특별시 마포구 합정동 396-14</td>\n",
       "    </tr>\n",
       "    <tr>\n",
       "      <th>...</th>\n",
       "      <td>...</td>\n",
       "      <td>...</td>\n",
       "      <td>...</td>\n",
       "      <td>...</td>\n",
       "      <td>...</td>\n",
       "    </tr>\n",
       "    <tr>\n",
       "      <th>95</th>\n",
       "      <td>아이노테이블</td>\n",
       "      <td>순두부찌개, 쌈밥</td>\n",
       "      <td>식사모임, 반려동물동반, 깔끔한</td>\n",
       "      <td>합정</td>\n",
       "      <td>서울특별시 마포구 합정동 364-38</td>\n",
       "    </tr>\n",
       "    <tr>\n",
       "      <th>96</th>\n",
       "      <td>너랑나랑호프</td>\n",
       "      <td>떡볶이, 육전</td>\n",
       "      <td>식객허영만의백반기행, 술모임, 주차</td>\n",
       "      <td>망원동</td>\n",
       "      <td>서울특별시 마포구 망원동 386-3</td>\n",
       "    </tr>\n",
       "    <tr>\n",
       "      <th>97</th>\n",
       "      <td>조폭떡볶이</td>\n",
       "      <td>떡볶이, 순대</td>\n",
       "      <td>런닝맨맛집, 간식, 배달</td>\n",
       "      <td>서울홍대</td>\n",
       "      <td>서울특별시 마포구 서교동 407-21</td>\n",
       "    </tr>\n",
       "    <tr>\n",
       "      <th>98</th>\n",
       "      <td>앤트러사이트 서교점</td>\n",
       "      <td>카페, 드립커피</td>\n",
       "      <td>차모임, 정원, 조용한</td>\n",
       "      <td>망원동</td>\n",
       "      <td>서울특별시 마포구 서교동 475-22</td>\n",
       "    </tr>\n",
       "    <tr>\n",
       "      <th>99</th>\n",
       "      <td>마시타야</td>\n",
       "      <td>라멘, 소유라멘</td>\n",
       "      <td>혼밥, 바테이블, 서민적인</td>\n",
       "      <td>홍대</td>\n",
       "      <td>서울특별시 마포구 서교동 333-16</td>\n",
       "    </tr>\n",
       "  </tbody>\n",
       "</table>\n",
       "<p>100 rows × 5 columns</p>\n",
       "</div>"
      ],
      "text/plain": [
       "                 이름             종류                   특징    위치  \\\n",
       "0             오레노라멘     시오라멘, 쇼유라멘     다코숨은맛집, 혼밥, 노키즈존    합정   \n",
       "1   또보겠지떡볶이집 붕붕허니비점  떡볶이, 버터갈릭감자튀김     데이트, 테이크아웃, 서민적인   동교동   \n",
       "2             맛이차이나       짜장면, 탕수육    수요미식회, 식사모임, 발렛파킹    상수   \n",
       "3               옥동식     돼지국밥, 돼지곰탕   2019숨은맛집, 혼밥, 바테이블    합정   \n",
       "4               잇텐고       라멘, 바질라멘   2020숨은맛집, 데이트, 칸막이    합정   \n",
       "..              ...            ...                  ...   ...   \n",
       "95           아이노테이블      순두부찌개, 쌈밥    식사모임, 반려동물동반, 깔끔한    합정   \n",
       "96           너랑나랑호프        떡볶이, 육전  식객허영만의백반기행, 술모임, 주차   망원동   \n",
       "97            조폭떡볶이        떡볶이, 순대        런닝맨맛집, 간식, 배달  서울홍대   \n",
       "98       앤트러사이트 서교점       카페, 드립커피         차모임, 정원, 조용한   망원동   \n",
       "99             마시타야       라멘, 소유라멘       혼밥, 바테이블, 서민적인    홍대   \n",
       "\n",
       "                        주소  \n",
       "0      서울특별시 마포구 합정동 361-1  \n",
       "1      서울특별시 마포구 동교동 153-3  \n",
       "2   서울특별시 마포구 상수동 321-1 2층  \n",
       "3      서울특별시 마포구 서교동 385-6  \n",
       "4     서울특별시 마포구 합정동 396-14  \n",
       "..                     ...  \n",
       "95    서울특별시 마포구 합정동 364-38  \n",
       "96     서울특별시 마포구 망원동 386-3  \n",
       "97    서울특별시 마포구 서교동 407-21  \n",
       "98    서울특별시 마포구 서교동 475-22  \n",
       "99    서울특별시 마포구 서교동 333-16  \n",
       "\n",
       "[100 rows x 5 columns]"
      ]
     },
     "execution_count": 2,
     "metadata": {},
     "output_type": "execute_result"
    }
   ],
   "source": [
    "import requests\n",
    "import pandas as pd\n",
    "from bs4 import BeautifulSoup\n",
    "\n",
    "#아래에 코드 작성\n",
    "results = []\n",
    "search_keyword = \"홍대\"\n",
    "for page_no in range(1, 11):\n",
    "    print(\"{}페이지 크롤링 중...\".format(page_no), end=\"\\r\")\n",
    "    header = {\n",
    "        \"user-agent\": \"Mozilla/5.0 (Windows NT 10.0; Win64; x64) AppleWebKit/537.36 (KHTML, like Gecko) Chrome/98.0.4758.82 Safari/537.36\"\n",
    "    }\n",
    "    form_data = {\n",
    "        \"query\" : search_keyword,\n",
    "        \"page\" : str(page_no),\n",
    "        \"chunk\" : \"10\"\n",
    "    }\n",
    "    url = \"https://www.diningcode.com/2018/ajax/list.php\"\n",
    "    res = requests.post(url, data=form_data, headers=header, verify=False)\n",
    "    html_text = res.text\n",
    "    soup = BeautifulSoup(html_text, \"html.parser\")\n",
    "    items = soup.select(\".blink\")\n",
    "    for item in items:\n",
    "        this_result_dict = {\n",
    "            \"이름\" : item.select(\".btxt\")[0].text.split(\". \")[1],\n",
    "            \"종류\" : item.select(\".stxt\")[0].text,\n",
    "            \"특징\" : item.select(\".ctxt\")[0].text\n",
    "        }\n",
    "        if len(item.select(\".ctxt\")[1].select(\"i\"))>0:\n",
    "            this_result_dict[\"위치\"] = item.select(\".ctxt\")[1].select(\"i\")[0].text\n",
    "            item.select(\".ctxt\")[1].select(\"i\")[0].decompose()\n",
    "        this_result_dict[\"주소\"] = item.select(\".ctxt\")[1].text\n",
    "        results.append(this_result_dict)\n",
    "\n",
    "df = pd.DataFrame(results)\n",
    "df.to_excel(\"../outputs/{} 맛집 리스트.xlsx\".format(search_keyword), index = False)\n",
    "df"
   ]
  },
  {
   "cell_type": "markdown",
   "metadata": {},
   "source": [
    "### 2. Selenium으로 크롤링하기"
   ]
  },
  {
   "cell_type": "code",
   "execution_count": null,
   "metadata": {},
   "outputs": [],
   "source": [
    "import time\n",
    "import pandas as pd\n",
    "from bs4 import BeautifulSoup\n",
    "from selenium import webdriver\n",
    "from selenium.webdriver.common.by import By\n",
    "\n",
    "#아래에 코드 작성\n",
    "search_keyword = \"홍대\"\n",
    "driver = webdriver.Chrome(\"chromedriver.exe\")\n",
    "driver.get(\"https://www.diningcode.com/\")\n",
    "driver.find_element_by_css_selector(\"#txt_keyword\").send_keys(search_keyword)\n",
    "driver.find_element_by_css_selector(\"#txt_keyword\").submit()\n",
    "driver.find_element_by_css_selector(\"#btn_normal_list\").click()\n",
    "\n",
    "for i in range(0, 10): #더보기 버튼을 눌러 추가로 데이터를 로드함. 10번 반복하여 총 100개의 데이터 로드\n",
    "    more_btn = driver.find_element_by_css_selector(\"#div_list_more > .more-btn\")\n",
    "    try:\n",
    "        more_btn.click()\n",
    "    except:\n",
    "        print(\"모든 데이터를 로드하였습니다.\")\n",
    "    time.sleep(2) #데이터 로드시간 편차가 있어 2초 정도 쉬어 줌\n",
    "\n",
    "html = driver.page_source\n",
    "soup = BeautifulSoup(html, \"html.parser\")\n",
    "items = soup.select(\".blink\")\n",
    "results = []\n",
    "for item in items:\n",
    "    this_result_dict = {\n",
    "        \"이름\" : item.select(\".btxt\")[0].text.split(\". \")[1],\n",
    "        \"종류\" : item.select(\".stxt\")[0].text,\n",
    "        \"특징\" : item.select(\".ctxt\")[0].text\n",
    "    }\n",
    "    if len(item.select(\".ctxt\")[1].select(\"i\"))>0:\n",
    "        this_result_dict[\"위치\"] = item.select(\".ctxt\")[1].select(\"i\")[0].text\n",
    "        item.select(\".ctxt\")[1].select(\"i\")[0].decompose()\n",
    "    this_result_dict[\"주소\"] = item.select(\".ctxt\")[1].text\n",
    "    results.append(this_result_dict)\n",
    "\n",
    "df = pd.DataFrame(results)\n",
    "# df.to_excel(\"../outputs/포항 맛집 리스트.xlsx\", index = False)\n",
    "display(df)"
   ]
  }
 ],
 "metadata": {
  "interpreter": {
   "hash": "27d72380f3865b4c7008c9c7901bfeb11f576f51ea7eb885160f000a78c1db8d"
  },
  "kernelspec": {
   "display_name": "Python 3.7.9 64-bit",
   "language": "python",
   "name": "python3"
  },
  "language_info": {
   "codemirror_mode": {
    "name": "ipython",
    "version": 3
   },
   "file_extension": ".py",
   "mimetype": "text/x-python",
   "name": "python",
   "nbconvert_exporter": "python",
   "pygments_lexer": "ipython3",
   "version": "3.7.9"
  },
  "toc": {
   "base_numbering": 1,
   "nav_menu": {},
   "number_sections": true,
   "sideBar": true,
   "skip_h1_title": false,
   "title_cell": "Table of Contents",
   "title_sidebar": "Contents",
   "toc_cell": false,
   "toc_position": {},
   "toc_section_display": true,
   "toc_window_display": false
  }
 },
 "nbformat": 4,
 "nbformat_minor": 5
}
