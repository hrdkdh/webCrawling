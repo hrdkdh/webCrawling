{
 "cells": [
  {
   "cell_type": "markdown",
   "id": "6cc3a116",
   "metadata": {},
   "source": [
    "### 연습1\n",
    "##### BeautifulSoup 모듈을 활용해 아래의 html 태그 데이터에서 '매출액/100/200'만 선택하여 출력해 봅시다."
   ]
  },
  {
   "cell_type": "code",
   "execution_count": null,
   "id": "c09eaab4",
   "metadata": {},
   "outputs": [],
   "source": [
    "from bs4 import BeautifulSoup\n",
    "\n",
    "text = \"\"\"\n",
    "<table>\n",
    "    <thead>\n",
    "        <tr>\n",
    "            <th>재무정보</th>\n",
    "            <th>2018</th>\n",
    "            <th>2019</th>\n",
    "        </tr>\n",
    "    </head>\n",
    "    <tbody>\n",
    "        <tr>\n",
    "            <td>매출액</td>\n",
    "            <td>100</td>\n",
    "            <td>200</td>\n",
    "        </tr>\n",
    "    </tbody>\n",
    "</table>\n",
    "\"\"\"\n",
    "\n",
    "#아래에 코드 작성\n",
    "soup = BeautifulSoup(text, \"html.parser\")\n",
    "tds = soup.select(\"tbody > tr > td\")\n",
    "for td in tds:\n",
    "    print(td.text)"
   ]
  },
  {
   "cell_type": "markdown",
   "id": "a43437fe",
   "metadata": {},
   "source": [
    "### 연습2\n",
    "##### BeautifulSoup 모듈을 활용해 아래의 html 태그 데이터에서 '100'만 선택하여 출력해 봅시다.\n",
    "*힌트1 : nth-child() 사용 시 오류가 날 경우 nth-of-type()을 사용해 보세요!\n",
    "\n",
    "*힌트2 : soup.select() 메서드는 요소 하나만 선택하더라도 리스트 형태로 결과값을 리턴합니다."
   ]
  },
  {
   "cell_type": "code",
   "execution_count": null,
   "id": "3e450469",
   "metadata": {},
   "outputs": [],
   "source": [
    "from bs4 import BeautifulSoup\n",
    "\n",
    "text = \"\"\"\n",
    "<table>\n",
    "    <thead>\n",
    "        <tr>\n",
    "            <th>재무정보</th>\n",
    "            <th>2018</th>\n",
    "            <th>2019</th>\n",
    "        </tr>\n",
    "    </head>\n",
    "    <tbody>\n",
    "        <tr>\n",
    "            <td>매출액</td>\n",
    "            <td>100</td>\n",
    "            <td>200</td>\n",
    "        </tr>\n",
    "    </tbody>\n",
    "</table>\n",
    "\"\"\"\n",
    "\n",
    "#아래에 코드 작성\n",
    "soup = BeautifulSoup(text, \"html.parser\")\n",
    "td_100 = soup.select(\"tbody > tr > td:nth-of-type(2)\")\n",
    "print(td_100[0].text)"
   ]
  },
  {
   "cell_type": "markdown",
   "id": "5b2fb554",
   "metadata": {},
   "source": [
    "### 연습3\n",
    "##### BeautifulSoup 모듈을 활용해 아래의 html 태그 데이터에서 '새우깡'만 선택하여 출력해 봅시다.\n",
    "*힌트 : soup.select() 메서드는 요소 하나만 선택하더라도 리스트 형태로 결과값을 리턴합니다."
   ]
  },
  {
   "cell_type": "code",
   "execution_count": null,
   "id": "2b2eb138",
   "metadata": {},
   "outputs": [],
   "source": [
    "from bs4 import BeautifulSoup\n",
    "\n",
    "text = \"\"\"\n",
    "<div>\n",
    "    <div class=\"snack\">\n",
    "        <div id=\"first\"> 양파링 </div>\n",
    "        <div id=\"second\"> 새우깡 </div>\n",
    "    </div>\n",
    "    <div class=\"icecream\">\n",
    "        <div> 빵빠레 </div>\n",
    "        <div> 죠스바 </div>\n",
    "    </div>\n",
    "</div>\n",
    "\"\"\"\n",
    "\n",
    "#아래에 코드 작성\n",
    "soup = BeautifulSoup(text, \"html.parser\")\n",
    "snack_second = soup.select(\"#second\")\n",
    "print(snack_second[0].text)"
   ]
  },
  {
   "cell_type": "markdown",
   "id": "ce0ce22b",
   "metadata": {},
   "source": [
    "### 연습4\n",
    "##### BeautifulSoup 모듈을 활용해 아래의 html 태그 데이터에서 '죠스바'만 선택하여 출력해 봅시다.\n",
    "*힌트1 : nth-child() 사용 시 오류가 날 경우 nth-of-type()을 사용해 보세요!\n",
    "\n",
    "*힌트2 : soup.select() 메서드는 요소 하나만 선택하더라도 리스트 형태로 결과값을 리턴합니다."
   ]
  },
  {
   "cell_type": "code",
   "execution_count": null,
   "id": "56980949",
   "metadata": {},
   "outputs": [],
   "source": [
    "from bs4 import BeautifulSoup\n",
    "s\n",
    "text = \"\"\"\n",
    "<div>\n",
    "    <div class=\"snack\">\n",
    "        <div id=\"first\"> 양파링 </div>\n",
    "        <div id=\"second\"> 새우깡 </div>\n",
    "    </div>\n",
    "    <div class=\"icecream\">\n",
    "        <div> 빵빠레 </div>\n",
    "        <div> 죠스바 </div>\n",
    "    </div>\n",
    "</div>\n",
    "\"\"\"\n",
    "\n",
    "#아래에 코드 작성\n",
    "soup = BeautifulSoup(text, \"html.parser\")\n",
    "jaws = soup.select(\".icecream > div:nth-of-type(2)\")\n",
    "print(jaws[0].text)"
   ]
  }
 ],
 "metadata": {
  "kernelspec": {
   "display_name": "Python 3",
   "language": "python",
   "name": "python3"
  },
  "language_info": {
   "codemirror_mode": {
    "name": "ipython",
    "version": 3
   },
   "file_extension": ".py",
   "mimetype": "text/x-python",
   "name": "python",
   "nbconvert_exporter": "python",
   "pygments_lexer": "ipython3",
   "version": "3.7.9"
  },
  "toc": {
   "base_numbering": 1,
   "nav_menu": {},
   "number_sections": true,
   "sideBar": true,
   "skip_h1_title": false,
   "title_cell": "Table of Contents",
   "title_sidebar": "Contents",
   "toc_cell": false,
   "toc_position": {},
   "toc_section_display": true,
   "toc_window_display": false
  }
 },
 "nbformat": 4,
 "nbformat_minor": 5
}
