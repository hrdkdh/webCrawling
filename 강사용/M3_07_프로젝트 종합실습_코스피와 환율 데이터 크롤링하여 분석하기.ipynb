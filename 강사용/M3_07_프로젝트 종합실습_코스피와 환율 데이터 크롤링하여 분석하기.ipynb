{
 "cells": [
  {
   "cell_type": "markdown",
   "metadata": {},
   "source": [
    "### 프로젝트 종합실습\n",
    "##### daum.net 금융 페이지에 접속하여 지난 10년 간의 코스피/환율 데이터를 대량으로 수집하고, 이를 바탕으로 간단한 시각화를 해 보세요. 코스피와 환율 데이터를 선그래프로 표현하여 서로 어떤 상관관계를 보이는지 추세를 보여주면 됩니다.\n",
    "##### 코스피 데이터 수집 링크 : https://finance.daum.net/api/market_index/days\n",
    "##### 환율 데이터 수집 링크 : https://finance.daum.net/api/exchanges/FRX.KRWUSD/days"
   ]
  },
  {
   "cell_type": "markdown",
   "metadata": {},
   "source": [
    "1. 코스피 데이터 수집"
   ]
  },
  {
   "cell_type": "code",
   "execution_count": null,
   "metadata": {},
   "outputs": [],
   "source": [
    "import requests\n",
    "import pandas as pd\n",
    "\n",
    "header = {\n",
    "    \"referer\": \"https://finance.daum.net/domestic/kospi\",\n",
    "    \"user-agent\": \"Mozilla/5.0 (Windows NT 10.0; Win64; x64) AppleWebKit/537.36 (KHTML, like Gecko) Chrome/98.0.4758.82 Safari/537.36\"\n",
    "}\n",
    "\n",
    "result_kospi = []\n",
    "url_kospi = \"https://finance.daum.net/api/market_index/days\"\n",
    "i = 0\n",
    "for page_no in range(1, 51):\n",
    "    i += 1\n",
    "    print(\"코스피 {}번째 페이지를 크롤링중입니다...\".format(i), end=\"\\r\")\n",
    "    param_kospi = {\n",
    "        \"page\": page_no,\n",
    "        \"perPage\": \"100\",\n",
    "        \"market\": \"KOSPI\",\n",
    "        \"pagination\": \"true\"\n",
    "    }\n",
    "    res_kospi = requests.get(url_kospi, headers=header, params=param_kospi, verify=False)\n",
    "    res_kospi_parsed = res_kospi.json()\n",
    "    for item in res_kospi_parsed[\"data\"]:\n",
    "        this_dic = {\n",
    "            \"date\" : item[\"date\"][:10],\n",
    "            \"kospi\" : item[\"tradePrice\"]\n",
    "        }\n",
    "        result_kospi.append(this_dic)\n",
    "df_kospi = pd.DataFrame(result_kospi)\n",
    "df_kospi.sort_values(by=\"date\", inplace=True)\n",
    "df_kospi.reset_index(inplace=True, drop=True)\n",
    "df_kospi.plot()\n",
    "df_kospi"
   ]
  },
  {
   "cell_type": "markdown",
   "metadata": {},
   "source": [
    "2. 환율 데이터 수집"
   ]
  },
  {
   "cell_type": "code",
   "execution_count": null,
   "metadata": {},
   "outputs": [],
   "source": [
    "result_cr = []\n",
    "url_cr = \"https://finance.daum.net/api/exchanges/FRX.KRWUSD/days\"\n",
    "i = 0\n",
    "for page_no in range(1, 51):\n",
    "    i += 1\n",
    "    print(\"환율 {}번째 페이지를 크롤링중입니다...\".format(i), end=\"\\r\")\n",
    "    param_cr = {\n",
    "        \"symbolCode\": \"FRX.KRWUSD\",\n",
    "        \"terms\": \"days\",\n",
    "        \"page\": page_no,\n",
    "        \"perPage\": \"100\"\n",
    "    }\n",
    "    res_cr = requests.get(url_cr, headers=header, params=param_cr, verify=False)\n",
    "    res_cr_parsed = res_cr.json()\n",
    "    for item in res_cr_parsed[\"data\"]:\n",
    "        this_dic = {\n",
    "            \"date\" : item[\"date\"][:10],\n",
    "            \"cr\" : item[\"basePrice\"]\n",
    "        }\n",
    "        result_cr.append(this_dic)\n",
    "df_cr = pd.DataFrame(result_cr)\n",
    "df_cr.sort_values(by=\"date\", inplace=True)\n",
    "df_cr.reset_index(inplace=True, drop=True)\n",
    "df_cr.plot()\n",
    "df_cr"
   ]
  },
  {
   "cell_type": "markdown",
   "metadata": {},
   "source": [
    "3. 수집한 코스피/환율 데이터를 하나의 df로 병합(merging)"
   ]
  },
  {
   "cell_type": "code",
   "execution_count": null,
   "metadata": {},
   "outputs": [],
   "source": [
    "df_merged = df_kospi.merge(df_cr, on=\"date\")\n",
    "df_merged.plot()\n",
    "df_merged"
   ]
  },
  {
   "cell_type": "markdown",
   "metadata": {},
   "source": [
    "4. 코스피/환율 컬럼을 표준화하여 그래프로 표현"
   ]
  },
  {
   "cell_type": "code",
   "execution_count": null,
   "metadata": {},
   "outputs": [],
   "source": [
    "import numpy as np\n",
    "from sklearn.preprocessing import MinMaxScaler\n",
    "\n",
    "scaler = MinMaxScaler()\n",
    "np_data = np.array(df_merged.loc[:, [\"kospi\", \"cr\"]])\n",
    "scaled = scaler.fit(np_data).transform(np_data)\n",
    "\n",
    "df_merged[\"kospi_scaled\"] = scaled[:, 0]\n",
    "df_merged[\"cr_scaled\"] = scaled[:, 1]\n",
    "\n",
    "df_merged.loc[:, [\"kospi_scaled\", \"cr_scaled\"]].plot()\n",
    "df_merged"
   ]
  }
 ],
 "metadata": {
  "interpreter": {
   "hash": "27d72380f3865b4c7008c9c7901bfeb11f576f51ea7eb885160f000a78c1db8d"
  },
  "kernelspec": {
   "display_name": "Python 3.7.9 64-bit",
   "language": "python",
   "name": "python3"
  },
  "language_info": {
   "codemirror_mode": {
    "name": "ipython",
    "version": 3
   },
   "file_extension": ".py",
   "mimetype": "text/x-python",
   "name": "python",
   "nbconvert_exporter": "python",
   "pygments_lexer": "ipython3",
   "version": "3.7.9"
  }
 },
 "nbformat": 4,
 "nbformat_minor": 4
}
