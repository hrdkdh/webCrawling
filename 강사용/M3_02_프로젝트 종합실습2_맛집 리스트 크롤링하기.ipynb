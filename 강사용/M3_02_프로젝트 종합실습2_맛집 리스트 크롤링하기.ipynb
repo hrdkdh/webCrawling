{
 "cells": [
  {
   "cell_type": "markdown",
   "metadata": {},
   "source": [
    "### 종합실습2\n",
    "##### Requests 혹은 Selenium 모듈을 이용해 다이닝코드 페이지로 접속한 다음, 원하는 지역의 맛집 100건을 검색하여 주피터 노트북 화면에 출력하거나 엑셀로 저장해 보세요.  *검색어 예시 : '포항 맛집'\n",
    "##### 링크 : https://www.diningcode.com/"
   ]
  },
  {
   "cell_type": "markdown",
   "metadata": {},
   "source": [
    "### 1. Requests로 크롤링하기"
   ]
  },
  {
   "cell_type": "code",
   "execution_count": null,
   "metadata": {
    "scrolled": false
   },
   "outputs": [],
   "source": [
    "import requests\n",
    "import pandas as pd\n",
    "from bs4 import BeautifulSoup\n",
    "\n",
    "#아래에 코드 작성\n",
    "results = []\n",
    "search_keyword = \"홍대\"\n",
    "for page_no in range(1, 11):\n",
    "    print(\"{}페이지 크롤링 중...\".format(page_no), end=\"\\r\")\n",
    "    header = {\n",
    "        \"user-agent\": \"Mozilla/5.0 (Windows NT 10.0; Win64; x64) AppleWebKit/537.36 (KHTML, like Gecko) Chrome/98.0.4758.82 Safari/537.36\"\n",
    "    }\n",
    "    form_data = {\n",
    "        \"query\" : search_keyword,\n",
    "        \"page\" : str(page_no),\n",
    "        \"chunk\" : \"10\"\n",
    "    }\n",
    "    url = \"https://www.diningcode.com/2018/ajax/list.php\"\n",
    "    res = requests.post(url, data=form_data, headers=header)\n",
    "    html_text = res.text\n",
    "    soup = BeautifulSoup(html_text, \"html.parser\")\n",
    "    items = soup.select(\".blink\")\n",
    "    for item in items:\n",
    "        this_result_dict = {\n",
    "            \"이름\" : item.select(\".btxt\")[0].text.split(\". \")[1],\n",
    "            \"종류\" : item.select(\".stxt\")[0].text,\n",
    "            \"특징\" : item.select(\".ctxt\")[0].text\n",
    "        }\n",
    "        if len(item.select(\".ctxt\")[1].select(\"i\"))>0:\n",
    "            this_result_dict[\"위치\"] = item.select(\".ctxt\")[1].select(\"i\")[0].text\n",
    "            item.select(\".ctxt\")[1].select(\"i\")[0].decompose()\n",
    "        this_result_dict[\"주소\"] = item.select(\".ctxt\")[1].text\n",
    "        results.append(this_result_dict)\n",
    "\n",
    "df = pd.DataFrame(results)\n",
    "# df.to_excel(\"../outputs/포항 맛집 리스트.xlsx\", index = False)\n",
    "display(df)"
   ]
  },
  {
   "cell_type": "markdown",
   "metadata": {},
   "source": [
    "### 2. Selenium으로 크롤링하기"
   ]
  },
  {
   "cell_type": "code",
   "execution_count": null,
   "metadata": {},
   "outputs": [],
   "source": [
    "import time\n",
    "import pandas as pd\n",
    "from bs4 import BeautifulSoup\n",
    "from selenium import webdriver\n",
    "from selenium.webdriver.common.by import By\n",
    "\n",
    "#아래에 코드 작성\n",
    "search_keyword = \"홍대\"\n",
    "driver = webdriver.Chrome(\"chromedriver.exe\")\n",
    "driver.get(\"https://www.diningcode.com/\")\n",
    "driver.find_element_by_css_selector(\"#txt_keyword\").send_keys(search_keyword)\n",
    "driver.find_element_by_css_selector(\"#txt_keyword\").submit()\n",
    "driver.find_element_by_css_selector(\"#btn_normal_list\").click()\n",
    "\n",
    "for i in range(0, 10): #더보기 버튼을 눌러 추가로 데이터를 로드함. 10번 반복하여 총 100개의 데이터 로드\n",
    "    more_btn = driver.find_element_by_css_selector(\"#div_list_more > .more-btn\")\n",
    "    try:\n",
    "        more_btn.click()\n",
    "    except:\n",
    "        print(\"모든 데이터를 로드하였습니다.\")\n",
    "    time.sleep(2) #데이터 로드시간 편차가 있어 2초 정도 쉬어 줌\n",
    "\n",
    "html = driver.page_source\n",
    "soup = BeautifulSoup(html, \"html.parser\")\n",
    "items = soup.select(\".blink\")\n",
    "results = []\n",
    "for item in items:\n",
    "    this_result_dict = {\n",
    "        \"이름\" : item.select(\".btxt\")[0].text.split(\". \")[1],\n",
    "        \"종류\" : item.select(\".stxt\")[0].text,\n",
    "        \"특징\" : item.select(\".ctxt\")[0].text\n",
    "    }\n",
    "    if len(item.select(\".ctxt\")[1].select(\"i\"))>0:\n",
    "        this_result_dict[\"위치\"] = item.select(\".ctxt\")[1].select(\"i\")[0].text\n",
    "        item.select(\".ctxt\")[1].select(\"i\")[0].decompose()\n",
    "    this_result_dict[\"주소\"] = item.select(\".ctxt\")[1].text\n",
    "    results.append(this_result_dict)\n",
    "\n",
    "df = pd.DataFrame(results)\n",
    "# df.to_excel(\"../outputs/포항 맛집 리스트.xlsx\", index = False)\n",
    "display(df)"
   ]
  }
 ],
 "metadata": {
  "kernelspec": {
   "display_name": "Python 3",
   "language": "python",
   "name": "python3"
  },
  "language_info": {
   "codemirror_mode": {
    "name": "ipython",
    "version": 3
   },
   "file_extension": ".py",
   "mimetype": "text/x-python",
   "name": "python",
   "nbconvert_exporter": "python",
   "pygments_lexer": "ipython3",
   "version": "3.6.5"
  },
  "toc": {
   "base_numbering": 1,
   "nav_menu": {},
   "number_sections": true,
   "sideBar": true,
   "skip_h1_title": false,
   "title_cell": "Table of Contents",
   "title_sidebar": "Contents",
   "toc_cell": false,
   "toc_position": {},
   "toc_section_display": true,
   "toc_window_display": false
  }
 },
 "nbformat": 4,
 "nbformat_minor": 5
}
