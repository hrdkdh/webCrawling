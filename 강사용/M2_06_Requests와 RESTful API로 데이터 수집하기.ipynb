{
 "cells": [
  {
   "cell_type": "code",
   "execution_count": null,
   "id": "c09eaab4",
   "metadata": {
    "scrolled": true
   },
   "outputs": [],
   "source": [
    "import json\n",
    "import requests\n",
    "from bs4 import BeautifulSoup\n",
    "\n",
    "#아래에 코드 작성\n",
    "service_key = \"AiMHAf%2BJJUylxroBA5LeiG%2FkXWULTMXWujS9xTtiD0TO23mWyND4uvsmnWlTJEZcr%2FWq5q6qzQBi0Ps2KrlD%2Fg%3D%3D\"\n",
    "url = \"http://apis.data.go.kr/1741000/DisasterMsg3/getDisasterMsg1List\"\n",
    "params = { #URL에 붙을 파라미터를 딕셔너리로 저장한 후 get메소드의 params 파라미터의 값으로 입력\n",
    "    \"ServiceKey\" : service_key,\n",
    "    \"pageNo\" : \"1\",\n",
    "    \"numOfRows\" : \"100\",\n",
    "    \"type\" : \"json\"\n",
    "}\n",
    "response = requests.get(url, params=params)\n",
    "json_str = response.text\n",
    "json_parsed = json.loads(json_str)\n",
    "for msg in json_parsed[\"DisasterMsg\"][1][\"row\"]:\n",
    "    print(msg[\"msg\"])"
   ]
  },
  {
   "cell_type": "code",
   "execution_count": null,
   "id": "instrumental-trigger",
   "metadata": {},
   "outputs": [],
   "source": [
    "import pandas as pd\n",
    "\n",
    "#판다스를 이용하면 df로도 즉시 변환 가능하며, 엑셀로도 저장 가능\n",
    "df = pd.DataFrame(json_parsed[\"DisasterMsg\"][1][\"row\"])\n",
    "df"
   ]
  }
 ],
 "metadata": {
  "kernelspec": {
   "display_name": "Python 3",
   "language": "python",
   "name": "python3"
  },
  "language_info": {
   "codemirror_mode": {
    "name": "ipython",
    "version": 3
   },
   "file_extension": ".py",
   "mimetype": "text/x-python",
   "name": "python",
   "nbconvert_exporter": "python",
   "pygments_lexer": "ipython3",
   "version": "3.7.9"
  },
  "toc": {
   "base_numbering": 1,
   "nav_menu": {},
   "number_sections": true,
   "sideBar": true,
   "skip_h1_title": false,
   "title_cell": "Table of Contents",
   "title_sidebar": "Contents",
   "toc_cell": false,
   "toc_position": {},
   "toc_section_display": true,
   "toc_window_display": false
  }
 },
 "nbformat": 4,
 "nbformat_minor": 5
}
