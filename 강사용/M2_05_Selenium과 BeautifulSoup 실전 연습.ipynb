{
 "cells": [
  {
   "cell_type": "markdown",
   "id": "6cc3a116",
   "metadata": {},
   "source": [
    "### 실전 연습1\n",
    "##### Selenium 모듈을 이용해 교보문고 베스트셀러 페이지로 접속한 다음, 월간 > 소설 항목으로 접속하여 베스트셀러의 제목들을 출력해 보세요.\n",
    "##### 링크 : https://www.kyobobook.co.kr/bestSellerNew/bestseller.laf"
   ]
  },
  {
   "cell_type": "code",
   "execution_count": null,
   "id": "c09eaab4",
   "metadata": {
    "scrolled": false
   },
   "outputs": [],
   "source": [
    "from selenium import webdriver\n",
    "from selenium.webdriver.common.by import By\n",
    "from bs4 import BeautifulSoup\n",
    "\n",
    "#아래에 코드 작성\n",
    "driver = webdriver.Chrome(\"chromedriver\")\n",
    "driver.get(\"https://www.kyobobook.co.kr/bestSellerNew/bestseller.laf\")\n",
    "driver.find_element(By.CSS_SELECTOR, \"#main_snb > div.nav_category > ul > li:nth-child(1) > ul > li.on > a\").click()\n",
    "driver.find_element(By.CSS_SELECTOR, \"#main_contents > div.box_sub_category.fixed_sub_category > ul > li:nth-child(2) > a\").click()\n",
    "\n",
    "html_src = driver.page_source\n",
    "soup = BeautifulSoup(html_src, \"html.parser\")\n",
    "\n",
    "book_titles = soup.select(\".list_type01 .title a strong\")\n",
    "for book_title in book_titles:\n",
    "    print(book_title.text)"
   ]
  },
  {
   "cell_type": "markdown",
   "id": "a43437fe",
   "metadata": {},
   "source": [
    "### 실전 연습2\n",
    "##### Selenium 모듈을 이용해 네이버 '철강용어사전'으로 접속한 다음, 첫 화면에 나온 표제어들의 제목들을 출력해 보세요\n",
    "##### 링크 : https://terms.naver.com/list.naver?cid=67995&categoryId=67995"
   ]
  },
  {
   "cell_type": "code",
   "execution_count": null,
   "id": "3e450469",
   "metadata": {},
   "outputs": [],
   "source": [
    "from selenium import webdriver\n",
    "from selenium.webdriver.common.by import By\n",
    "from bs4 import BeautifulSoup\n",
    "\n",
    "#아래에 코드 작성\n",
    "driver = webdriver.Chrome(\"chromedriver\")\n",
    "\n",
    "driver.get(\"https://terms.naver.com/list.naver?cid=67995&categoryId=67995\")\n",
    "html_src = driver.page_source\n",
    "\n",
    "soup = BeautifulSoup(html_src, \"html.parser\")\n",
    "titles = soup.select(\".content_list .title\")\n",
    "\n",
    "for title in titles:\n",
    "    print(title.select(\"a\")[0].text)"
   ]
  }
 ],
 "metadata": {
  "kernelspec": {
   "display_name": "Python 3",
   "language": "python",
   "name": "python3"
  },
  "language_info": {
   "codemirror_mode": {
    "name": "ipython",
    "version": 3
   },
   "file_extension": ".py",
   "mimetype": "text/x-python",
   "name": "python",
   "nbconvert_exporter": "python",
   "pygments_lexer": "ipython3",
   "version": "3.7.9"
  },
  "toc": {
   "base_numbering": 1,
   "nav_menu": {},
   "number_sections": true,
   "sideBar": true,
   "skip_h1_title": false,
   "title_cell": "Table of Contents",
   "title_sidebar": "Contents",
   "toc_cell": false,
   "toc_position": {},
   "toc_section_display": true,
   "toc_window_display": false
  }
 },
 "nbformat": 4,
 "nbformat_minor": 5
}
