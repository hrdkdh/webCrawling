{
 "cells": [
  {
   "cell_type": "markdown",
   "id": "6cc3a116",
   "metadata": {},
   "source": [
    "### 실전 연습1\n",
    "##### 아래 링크로 접속해 ~~~~\n",
    "##### 링크~~~"
   ]
  },
  {
   "cell_type": "code",
   "execution_count": 9,
   "id": "c09eaab4",
   "metadata": {},
   "outputs": [
    {
     "ename": "SyntaxError",
     "evalue": "invalid syntax (<ipython-input-9-62306a29abba>, line 11)",
     "output_type": "error",
     "traceback": [
      "\u001b[0;36m  File \u001b[0;32m\"<ipython-input-9-62306a29abba>\"\u001b[0;36m, line \u001b[0;32m11\u001b[0m\n\u001b[0;31m    html = driver.page_source\u001b[0m\n\u001b[0m    ^\u001b[0m\n\u001b[0;31mSyntaxError\u001b[0m\u001b[0;31m:\u001b[0m invalid syntax\n"
     ]
    }
   ],
   "source": [
    "from selenium import webdriver\n",
    "from bs4 import BeautifulSoup\n",
    "\n",
    "#아래에 코드 작성\n",
    "driver = webdriver.Chrome(\"/Users/hrdkdh/Documents/GitHub/webCrawling/chromedriver\")\n",
    "driver.get(\"https://m.r114.com/\")\n",
    "driver.find_element_by_css_selector(\".search > a\").click()\n",
    "driver.find_element_by_css_selector(\"#dqSearchTerm\").send_keys(\"포항\")\n",
    "driver.find_element_by_css_selector(\".inp_wrap > .btn_search\").click()\n",
    "driver.find_element_by_css_selector(\"#body_layout > div:nth-child(2) > div > ul > li.n1 > a\").click()\n",
    "\n",
    "html = driver.page_source\n",
    "soup = BeautifulSoup(html, \"html.parser\")\n",
    "soup"
   ]
  },
  {
   "cell_type": "markdown",
   "id": "a43437fe",
   "metadata": {},
   "source": [
    "### 실전 연습2\n",
    "##### 아래 링크로 접속해 ~~~~\n",
    "##### 링크~~~"
   ]
  },
  {
   "cell_type": "code",
   "execution_count": null,
   "id": "3e450469",
   "metadata": {},
   "outputs": [],
   "source": []
  }
 ],
 "metadata": {
  "kernelspec": {
   "display_name": "Python 3",
   "language": "python",
   "name": "python3"
  },
  "language_info": {
   "codemirror_mode": {
    "name": "ipython",
    "version": 3
   },
   "file_extension": ".py",
   "mimetype": "text/x-python",
   "name": "python",
   "nbconvert_exporter": "python",
   "pygments_lexer": "ipython3",
   "version": "3.8.2"
  },
  "toc": {
   "base_numbering": 1,
   "nav_menu": {},
   "number_sections": true,
   "sideBar": true,
   "skip_h1_title": false,
   "title_cell": "Table of Contents",
   "title_sidebar": "Contents",
   "toc_cell": false,
   "toc_position": {},
   "toc_section_display": true,
   "toc_window_display": false
  }
 },
 "nbformat": 4,
 "nbformat_minor": 5
}
