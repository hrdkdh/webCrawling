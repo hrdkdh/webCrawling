{
 "cells": [
  {
   "cell_type": "markdown",
   "id": "6cc3a116",
   "metadata": {},
   "source": [
    "### 종합실습3\n",
    "##### Requests 혹은 Selenium 모듈을 이용해 네이버 이미지 검색에서 아이유를 검색하고, 검색결과 이미지들을 PC에 저장해 보세요."
   ]
  },
  {
   "cell_type": "markdown",
   "id": "af994a78",
   "metadata": {},
   "source": [
    "### 1. Requests로 크롤링하기"
   ]
  },
  {
   "cell_type": "code",
   "execution_count": null,
   "id": "c09eaab4",
   "metadata": {
    "scrolled": true
   },
   "outputs": [],
   "source": [
    "import json\n",
    "import requests\n",
    "import urllib.parse\n",
    "\n",
    "#SSL Verify 경고 끄기\n",
    "requests.packages.urllib3.disable_warnings(requests.packages.urllib3.exceptions.InsecureRequestWarning)\n",
    "\n",
    "#아래에 코드 작성\n",
    "search_query = \"아이유\"\n",
    "src = requests.get(\"https://search.naver.com/search.naver?where=image&sm=tab_jum&query=\"+search_query, verify = False)\n",
    "json_start_str = \"controller.start(\"\n",
    "json_end_str = \"); keep\"\n",
    "json_start_no = src.text.find(json_start_str) + len(json_start_str)\n",
    "json_str = src.text[json_start_no:]\n",
    "json_end_no = json_str.find(json_end_str)\n",
    "json_str = src.text[json_start_no:json_start_no + json_end_no]\n",
    "\n",
    "img_list = json.loads(json_str)\n",
    "\n",
    "i = 0\n",
    "for img in img_list:\n",
    "    print(\"{}번째 이미지 다운로드 중\".format(i), end=\"\\r\")\n",
    "    if img[\"type\"] == \"image\":\n",
    "        i += 1\n",
    "        this_img_url = urllib.parse.unquote(img[\"originalUrl\"])\n",
    "        this_image = requests.get(this_img_url, verify=False)\n",
    "        try:\n",
    "            this_ext = this_image.headers[\"Content-Disposition\"].split(\".\")[-1]\n",
    "        except:\n",
    "            this_ext = \"jpg\"\n",
    "        open(\"../outputs/images/naver/\"+search_query+\"_img\"+str(i)+\".\"+this_ext, \"wb\").write(this_image.content)\n",
    "print(\"{} 이미지 다운로드 완료\".format(search_query), end=\"\\r\")"
   ]
  },
  {
   "cell_type": "markdown",
   "id": "652b3596",
   "metadata": {},
   "source": [
    "### 2. Selenium으로 크롤링하기"
   ]
  },
  {
   "cell_type": "code",
   "execution_count": null,
   "id": "a27c192c",
   "metadata": {},
   "outputs": [],
   "source": [
    "import requests\n",
    "import urllib.parse\n",
    "from selenium import webdriver\n",
    "from bs4 import BeautifulSoup\n",
    "\n",
    "#SSL Verify 경고 끄기\n",
    "requests.packages.urllib3.disable_warnings(requests.packages.urllib3.exceptions.InsecureRequestWarning)\n",
    "\n",
    "#아래에 코드 작성\n",
    "search_query = \"아이유\"\n",
    "url = \"https://search.naver.com/search.naver?where=image&sm=tab_jum&query=\"+search_query\n",
    "                   \n",
    "driver = webdriver.Chrome(\"chromedriver.exe\")\n",
    "driver.get(url)\n",
    "\n",
    "html = driver.page_source\n",
    "soup = BeautifulSoup(html, \"html.parser\")\n",
    "images = soup.select(\"._listImage\")\n",
    "for i, img in enumerate(images):\n",
    "    this_img_url_list = img.get(\"src\").split(\"src=\")\n",
    "    if len(this_img_url_list) > 1:\n",
    "        this_img_url = urllib.parse.unquote(this_img_url_list[1])\n",
    "    else:\n",
    "        this_img_url = urllib.parse.unquote(img.get(\"data-lazy-src\"))\n",
    "    #이미지 콘텐츠 다운로드는 requests 모듈을 써야 함\n",
    "    this_image = requests.get(this_img_url, verify=False)\n",
    "    try:\n",
    "        this_ext = this_image.headers[\"Content-Disposition\"].split(\".\")[-1]\n",
    "    except:\n",
    "        this_ext = \"jpg\"\n",
    "    open(\"../outputs/images/naver/\"+search_query+\"_img\"+str(i)+\".\"+this_ext, \"wb\").write(this_image.content)\n",
    "print(\"{} 이미지 다운로드 완료\".format(search_query))"
   ]
  }
 ],
 "metadata": {
  "kernelspec": {
   "display_name": "Python 3",
   "language": "python",
   "name": "python3"
  },
  "language_info": {
   "codemirror_mode": {
    "name": "ipython",
    "version": 3
   },
   "file_extension": ".py",
   "mimetype": "text/x-python",
   "name": "python",
   "nbconvert_exporter": "python",
   "pygments_lexer": "ipython3",
   "version": "3.7.9"
  },
  "toc": {
   "base_numbering": 1,
   "nav_menu": {},
   "number_sections": true,
   "sideBar": true,
   "skip_h1_title": false,
   "title_cell": "Table of Contents",
   "title_sidebar": "Contents",
   "toc_cell": false,
   "toc_position": {},
   "toc_section_display": true,
   "toc_window_display": false
  }
 },
 "nbformat": 4,
 "nbformat_minor": 5
}
