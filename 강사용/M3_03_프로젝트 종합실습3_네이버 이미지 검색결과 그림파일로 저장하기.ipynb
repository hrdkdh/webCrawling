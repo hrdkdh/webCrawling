{
 "cells": [
  {
   "cell_type": "markdown",
   "metadata": {},
   "source": [
    "### 종합실습3\n",
    "##### Requests 혹은 Selenium 모듈을 이용해 네이버 이미지 검색에서 아이유를 검색하고, 검색결과 이미지들을 PC에 저장해 보세요."
   ]
  },
  {
   "cell_type": "markdown",
   "metadata": {},
   "source": [
    "### 1. Requests로 크롤링하기"
   ]
  },
  {
   "cell_type": "code",
   "execution_count": null,
   "metadata": {
    "scrolled": true
   },
   "outputs": [],
   "source": [
    "import json\n",
    "import urllib\n",
    "import requests\n",
    "\n",
    "#아래에 코드 작성\n",
    "search_query = \"아이유\"\n",
    "url = \"https://s.search.naver.com/p/c/image/search.naver\"\n",
    "param = {\n",
    "    \"where\": 'image',\n",
    "    \"rev\": '44',\n",
    "    \"section\": 'image',\n",
    "    \"query\": search_query,\n",
    "    \"ac\": '0',\n",
    "    \"aq\": '0',\n",
    "    \"spq\": '1',\n",
    "    \"nx_search_query\": search_query,\n",
    "    \"res_fr\": '0',\n",
    "    \"res_to\": '0',\n",
    "    \"datetype\": '0',\n",
    "    \"startdate\": '0',\n",
    "    \"enddate\": '0',\n",
    "    \"nso\": 'so:r,a:all,p:all',\n",
    "    \"json_type\": '6',\n",
    "    \"nlu_query\": '{\"r_category\":\"12 11\"}',\n",
    "    \"nqx_theme\": '{\"theme\":{\"main\":{\"name\":\"people_star\",\"os\":\"159229\",\"pkid\":\"1\"}}}',\n",
    "    \"gif\": '0',\n",
    "    \"optStr\":' ',\n",
    "    \"ccl\": '0',\n",
    "    \"x_image\":' ',\n",
    "    \"display\": '100',\n",
    "    \"start\": '1'\n",
    "}\n",
    "res = requests.get(url, params=param)\n",
    "json_str = res.text[3:-4]\n",
    "json_data = json.loads(json_str)\n",
    "\n",
    "i = 0\n",
    "for img in json_data[\"items\"]:\n",
    "    this_img_url = urllib.parse.unquote(img[\"originalUrl\"]) #url encode 된 것을 decode\n",
    "    this_image = requests.get(this_img_url, verify=False)\n",
    "    this_image_type = this_image.headers[\"Content-Type\"]\n",
    "    if \"jpeg\" in this_image_type or \"jpg\" in this_image_type or \"png\" in this_image_type:\n",
    "        this_ext = this_image_type.split(\"/\")[1]\n",
    "        i += 1\n",
    "        print(\"{}번째 이미지 다운로드 중\".format(i), end=\"\\r\")\n",
    "    open(\"../outputs/images/naver/\"+search_query+\"_img\"+str(i)+\".\"+this_ext, \"wb\").write(this_image.content)\n",
    "print(\"{} 이미지 다운로드 완료\".format(search_query), end=\"\\r\")"
   ]
  },
  {
   "cell_type": "markdown",
   "metadata": {},
   "source": [
    "### 2. Selenium으로 크롤링하기"
   ]
  },
  {
   "cell_type": "code",
   "execution_count": null,
   "metadata": {},
   "outputs": [],
   "source": [
    "import time\n",
    "import urllib\n",
    "import requests\n",
    "from bs4 import BeautifulSoup\n",
    "from selenium import webdriver\n",
    "\n",
    "#아래에 코드 작성\n",
    "search_query = \"아이유\"\n",
    "url = \"https://search.naver.com/search.naver?where=image&sm=tab_jum&query=\"+search_query\n",
    "                   \n",
    "driver = webdriver.Chrome(\"chromedriver.exe\")\n",
    "driver.get(url)\n",
    "\n",
    "for i in range(1, 6):\n",
    "    unit = 1000\n",
    "    driver.execute_script(\"window.scrollTo(0, {})\".format(i*unit))\n",
    "    time.sleep(3)\n",
    "\n",
    "html_text = driver.page_source\n",
    "soup = BeautifulSoup(html_text, \"html.parser\")\n",
    "images = soup.select(\".thumb > a > img\")\n",
    "i = 0\n",
    "for img in images:\n",
    "    this_img_url = img.attrs[\"src\"]\n",
    "    #이미지 콘텐츠 다운로드는 requests 모듈을 써야 함\n",
    "    if this_img_url[:4] == \"http\":\n",
    "        this_image = requests.get(this_img_url)\n",
    "        this_image_type = this_image.headers[\"Content-Type\"]\n",
    "        if \"jpeg\" in this_image_type or \"jpg\" in this_image_type or \"png\" in this_image_type:\n",
    "            this_ext = this_image_type.split(\"/\")[1]\n",
    "            i += 1\n",
    "            print(\"{}번째 이미지 다운로드 중\".format(i), end=\"\\r\")\n",
    "            open(\"../outputs/images/naver/\"+search_query+\"_img\"+str(i)+\".\"+this_ext, \"wb\").write(this_image.content)\n",
    "print(\"{} 이미지 다운로드 완료\".format(search_query))"
   ]
  }
 ],
 "metadata": {
  "kernelspec": {
   "display_name": "Python 3",
   "language": "python",
   "name": "python3"
  },
  "language_info": {
   "codemirror_mode": {
    "name": "ipython",
    "version": 3
   },
   "file_extension": ".py",
   "mimetype": "text/x-python",
   "name": "python",
   "nbconvert_exporter": "python",
   "pygments_lexer": "ipython3",
   "version": "3.6.5"
  },
  "toc": {
   "base_numbering": 1,
   "nav_menu": {},
   "number_sections": true,
   "sideBar": true,
   "skip_h1_title": false,
   "title_cell": "Table of Contents",
   "title_sidebar": "Contents",
   "toc_cell": false,
   "toc_position": {},
   "toc_section_display": true,
   "toc_window_display": false
  }
 },
 "nbformat": 4,
 "nbformat_minor": 5
}
