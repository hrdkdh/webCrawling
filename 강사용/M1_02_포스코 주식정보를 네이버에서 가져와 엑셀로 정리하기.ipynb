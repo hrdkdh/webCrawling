{
 "cells": [
  {
   "cell_type": "code",
   "execution_count": null,
   "id": "d0083b5a",
   "metadata": {},
   "outputs": [],
   "source": [
    "import datetime\n",
    "import requests\n",
    "import pandas as pd\n",
    "from bs4 import BeautifulSoup\n",
    "\n",
    "stock_code = \"005490\"\n",
    "start_ymd = 20210701\n",
    "end_ymd = 20210706\n",
    "df = pd.DataFrame(columns=[\"ymd\", \"time\", \"price\"])\n",
    "\n",
    "host = \"https://finance.naver.com\"\n",
    "header = {\n",
    "    \"User-Agent\": \"Mozilla/5.0 (Windows NT 10.0; Win64; x64) AppleWebKit/537.36 (KHTML, like Gecko) Chrome/91.0.4472.77 Safari/537.36\"\n",
    "}\n",
    "requests.packages.urllib3.disable_warnings(requests.packages.urllib3.exceptions.InsecureRequestWarning)\n",
    "\n",
    "if str(start_ymd)[4:6] != str(end_ymd)[4:6]:\n",
    "    print(\"시작일과 종료일의 달(month)은 같아야 합니다.\")\n",
    "else:\n",
    "    for ymd in range(start_ymd, end_ymd+1):\n",
    "        print(str(ymd) + \" : 수집중...\")\n",
    "        url = host+\"/item/sise_time.nhn?code=\"+stock_code+\"&thistime=\"+str(ymd)+\"161036&page=1\"\n",
    "        request_results = requests.get(url, headers=header, verify=False)\n",
    "        soup = BeautifulSoup(request_results.text, \"html.parser\")\n",
    "\n",
    "        page_url = host+\"/item/sise_time.nhn?code=005490&thistime=\"+str(ymd)+\"161036&page=\"\n",
    "        last_page_no = int(soup.findAll(\"a\")[-1].attrs[\"href\"].split(\"=\")[-1])\n",
    "\n",
    "        for page_no in range(1, last_page_no):\n",
    "            this_request_results = requests.get(page_url+str(page_no), headers=header, verify=False)\n",
    "            this_soup = BeautifulSoup(this_request_results.text, \"html.parser\")\n",
    "            this_tr = this_soup.findAll(\"table\")[-2].findAll(\"tr\")\n",
    "            for i, tr in enumerate(this_tr):\n",
    "                if i>1 and len(tr.findAll(\"td\"))>2 and tr.findAll(\"td\")[0] is not None:\n",
    "                    df = df.append({\"ymd\" : ymd, \"time\" : tr.findAll(\"td\")[0].findAll(\"span\")[0].text.replace(\":\", \"\"), \"price\" : tr.findAll(\"td\")[1].findAll(\"span\")[0].text.replace(\",\",\"\")}, ignore_index=True)\n",
    "\n",
    "    now_date = datetime.datetime.now().strftime(\"%Y-%m-%d\")\n",
    "    save_file_name = \"../outputs/{}_포스코 주식정보 수집 결과({} ~ {}).xlsx\".format(now_date, start_ymd, end_ymd)\n",
    "    df.to_excel(save_file_name, index=False)\n",
    "    print(\"주식정보 수집을 완료하였습니다. 저장된 파일명 [{}]\".format(save_file_name))\n",
    "    display(df)"
   ]
  }
 ],
 "metadata": {
  "kernelspec": {
   "display_name": "Python 3",
   "language": "python",
   "name": "python3"
  },
  "language_info": {
   "codemirror_mode": {
    "name": "ipython",
    "version": 3
   },
   "file_extension": ".py",
   "mimetype": "text/x-python",
   "name": "python",
   "nbconvert_exporter": "python",
   "pygments_lexer": "ipython3",
   "version": "3.7.9"
  },
  "toc": {
   "base_numbering": 1,
   "nav_menu": {},
   "number_sections": true,
   "sideBar": true,
   "skip_h1_title": false,
   "title_cell": "Table of Contents",
   "title_sidebar": "Contents",
   "toc_cell": false,
   "toc_position": {},
   "toc_section_display": true,
   "toc_window_display": false
  }
 },
 "nbformat": 4,
 "nbformat_minor": 5
}
