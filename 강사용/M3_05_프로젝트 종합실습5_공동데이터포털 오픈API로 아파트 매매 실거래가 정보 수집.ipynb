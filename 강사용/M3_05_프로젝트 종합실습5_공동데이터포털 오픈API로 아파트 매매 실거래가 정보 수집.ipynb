{
 "cells": [
  {
   "attachments": {},
   "cell_type": "markdown",
   "id": "6cc3a116",
   "metadata": {},
   "source": [
    "### 종합실습5\n",
    "##### '공동데이터포털'에서 제공하는 '국토교통부_아파트매매 실거래자료' 오픈API를 신청하고, Requests 모듈을 이용해 원하는 지역의 지난달 아파트 매매 실거래가 정보를 수집한 후 화면에 출력하거나 엑셀 파일로 저장해 보세요.\n",
    "##### 링크 : https://www.data.go.kr/   검색어는 '국토교통부_아파트매매 실거래자료'"
   ]
  },
  {
   "cell_type": "code",
   "execution_count": null,
   "id": "c09eaab4",
   "metadata": {
    "scrolled": true
   },
   "outputs": [],
   "source": [
    "import requests\n",
    "import xmltodict\n",
    "import pandas as pd\n",
    "\n",
    "url = \"http://openapi.molit.go.kr:8081/OpenAPI_ToolInstallPackage/service/rest/RTMSOBJSvc/getRTMSDataSvcAptTrade\"\n",
    "ymd = \"202112\"\n",
    "dong_code = \"47111\" #포항 남구 법정동 코드 중 앞 5자리\n",
    "# dong_code = \"11680\" #강남구 법정동 코드 중 앞 5자리\n",
    "params ={\n",
    "    \"serviceKey\" : \"AiMHAf+JJUylxroBA5LeiG/kXWULTMXWujS9xTtiD0TO23mWyND4uvsmnWlTJEZcr/Wq5q6qzQBi0Ps2KrlD/g==\",\n",
    "    \"LAWD_CD\" : dong_code,\n",
    "    \"DEAL_YMD\" : ymd\n",
    "}        \n",
    "\n",
    "res = requests.get(url, params=params)\n",
    "result = xmltodict.parse(res.text)\n",
    "df = pd.DataFrame(result[\"response\"][\"body\"][\"items\"][\"item\"])\n",
    "\n",
    "df.to_excel(\"../outputs/부동산 실거래가 리스트.xlsx\", index = False)\n",
    "display(df)"
   ]
  }
 ],
 "metadata": {
  "kernelspec": {
   "display_name": "Python 3",
   "language": "python",
   "name": "python3"
  },
  "language_info": {
   "codemirror_mode": {
    "name": "ipython",
    "version": 3
   },
   "file_extension": ".py",
   "mimetype": "text/x-python",
   "name": "python",
   "nbconvert_exporter": "python",
   "pygments_lexer": "ipython3",
   "version": "3.7.9"
  },
  "toc": {
   "base_numbering": 1,
   "nav_menu": {},
   "number_sections": true,
   "sideBar": true,
   "skip_h1_title": false,
   "title_cell": "Table of Contents",
   "title_sidebar": "Contents",
   "toc_cell": false,
   "toc_position": {},
   "toc_section_display": true,
   "toc_window_display": false
  }
 },
 "nbformat": 4,
 "nbformat_minor": 5
}
