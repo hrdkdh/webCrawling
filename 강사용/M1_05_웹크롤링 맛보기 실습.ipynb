{
 "cells": [
  {
   "cell_type": "code",
   "execution_count": null,
   "metadata": {},
   "outputs": [],
   "source": [
    "import requests\n",
    "import pandas as pd\n",
    "from bs4 import BeautifulSoup\n",
    "\n",
    "res = requests.get(\"https://comic.naver.com/webtoon/weekdayList?week=thu\", verify=False)\n",
    "soup = BeautifulSoup(res.text, \"html.parser\")\n",
    "items = soup.select(\".img_list > li\")\n",
    "result = []\n",
    "for item in items:\n",
    "    result.append({\n",
    "        \"제목\" : item.select(\"a\")[1].attrs[\"title\"],\n",
    "        \"작가\" : item.select(\"a\")[2].text\n",
    "    })\n",
    "df = pd.DataFrame(result)\n",
    "df.to_excel(\"output.xlsx\")"
   ]
  }
 ],
 "metadata": {
  "interpreter": {
   "hash": "d447444c680d0b0e1ba8931861b53025f9718c6eda3acbe1380705bb90d56b3a"
  },
  "kernelspec": {
   "display_name": "Python 3.7.9 64-bit",
   "language": "python",
   "name": "python3"
  },
  "language_info": {
   "codemirror_mode": {
    "name": "ipython",
    "version": 3
   },
   "file_extension": ".py",
   "mimetype": "text/x-python",
   "name": "python",
   "nbconvert_exporter": "python",
   "pygments_lexer": "ipython3",
   "version": "3.7.9"
  },
  "orig_nbformat": 4
 },
 "nbformat": 4,
 "nbformat_minor": 2
}
