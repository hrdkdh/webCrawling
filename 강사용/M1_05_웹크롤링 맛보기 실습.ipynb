{
 "cells": [
  {
   "cell_type": "code",
   "execution_count": null,
   "metadata": {},
   "outputs": [],
   "source": [
    "import requests\n",
    "import pandas as pd\n",
    "from bs4 import BeautifulSoup\n",
    "\n",
    "res = requests.get(\"https://comic.naver.com/webtoon/weekdayList?week=thu\", verify=False)\n",
    "soup = BeautifulSoup(res.text, \"html.parser\")\n",
    "items = soup.select(\".img_list > li\")\n",
    "result = []\n",
    "for item in items:\n",
    "    result.append({\n",
    "        \"제목\" : item.select(\"a\")[1].attrs[\"title\"],\n",
    "        \"작가\" : item.select(\"a\")[2].text\n",
    "    })\n",
    "df = pd.DataFrame(result)\n",
    "df.to_excel(\"../output/output.xlsx\")"
   ]
  }
 ],
 "metadata": {
  "interpreter": {
   "hash": "27d72380f3865b4c7008c9c7901bfeb11f576f51ea7eb885160f000a78c1db8d"
  },
  "kernelspec": {
   "display_name": "Python 3.7.9 64-bit",
   "language": "python",
   "name": "python3"
  },
  "language_info": {
   "codemirror_mode": {
    "name": "ipython",
    "version": 3
   },
   "file_extension": ".py",
   "mimetype": "text/x-python",
   "name": "python",
   "nbconvert_exporter": "python",
   "pygments_lexer": "ipython3",
   "version": "3.7.9"
  },
  "orig_nbformat": 4
 },
 "nbformat": 4,
 "nbformat_minor": 2
}
