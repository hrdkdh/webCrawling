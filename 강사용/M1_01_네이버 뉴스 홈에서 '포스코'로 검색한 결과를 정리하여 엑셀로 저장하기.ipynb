{
 "cells": [
  {
   "cell_type": "code",
   "execution_count": null,
   "id": "2d1f5854",
   "metadata": {},
   "outputs": [],
   "source": [
    "!pip install --trusted-host pypi.org --trusted-host files.pythonhosted.org pandas\n",
    "!pip install --trusted-host pypi.org --trusted-host files.pythonhosted.org openpyxl\n",
    "\n",
    "import datetime\n",
    "import requests\n",
    "import pandas as pd\n",
    "from bs4 import BeautifulSoup as bs\n",
    "\n",
    "search_str = \"포스코\"\n",
    "result = []\n",
    "start_no = -9\n",
    "base_url = \"https://search.naver.com/search.naver?where=news&query=\"+search_str+\"&sm=tab_opt&sort=0&photo=0&field=0&reporter_article=&pd=4&ds=&de=&docid=&nso=so%3Ar%2Cp%3A1d%2Ca%3Aall&mynews=0&refresh_start=0&related=0&start=\"\n",
    "now_date = datetime.datetime.now().strftime(\"%Y-%m-%d\")\n",
    "ssl_verify = False\n",
    "if ssl_verify == False:\n",
    "    requests.packages.urllib3.disable_warnings(requests.packages.urllib3.exceptions.InsecureRequestWarning)\n",
    "for i in range(1, 11):\n",
    "    print(\"네이버 뉴스 {}번째 페이지 크롤링중... (검색어 : {})\".format(i, search_str), end=\"\\r\")\n",
    "    start_no = start_no + 10\n",
    "    url = base_url + str(i)\n",
    "    html = requests.get(url, verify = ssl_verify)\n",
    "    soup = bs(html.text, \"html.parser\")\n",
    "    news_arr = soup.select(\".news_tit\")\n",
    "    for news_title in news_arr:\n",
    "        this_result = {\n",
    "            \"크롤링 날짜\" : now_date,\n",
    "            \"제목\" : news_title.text,\n",
    "            \"링크\" : news_title.get(\"href\")\n",
    "        }\n",
    "        result.append(this_result)\n",
    "df = pd.DataFrame(result)\n",
    "df.drop_duplicates(\"제목\", inplace=True)\n",
    "df.reset_index(inplace=True)\n",
    "df.drop([\"index\"], axis=1, inplace=True)\n",
    "file_name = \"../outputs/\"+str(now_date)+\"_네이버 뉴스 크롤링 결과_검색어 \"+search_str+\".xlsx\"\n",
    "df.to_excel(\n",
    "    file_name,\n",
    "    header = True,\n",
    "    index = False,\n",
    "    startrow = 0, \n",
    "    startcol = 0\n",
    ")\n",
    "display(df)\n",
    "print(\"네이버 뉴스 크롤링 및 저장 완료\")\n",
    "print(\"저장된 파일명 : \"+file_name)"
   ]
  }
 ],
 "metadata": {
  "kernelspec": {
   "display_name": "Python 3",
   "language": "python",
   "name": "python3"
  },
  "language_info": {
   "codemirror_mode": {
    "name": "ipython",
    "version": 3
   },
   "file_extension": ".py",
   "mimetype": "text/x-python",
   "name": "python",
   "nbconvert_exporter": "python",
   "pygments_lexer": "ipython3",
   "version": "3.7.9"
  },
  "toc": {
   "base_numbering": 1,
   "nav_menu": {},
   "number_sections": true,
   "sideBar": true,
   "skip_h1_title": false,
   "title_cell": "Table of Contents",
   "title_sidebar": "Contents",
   "toc_cell": false,
   "toc_position": {},
   "toc_section_display": true,
   "toc_window_display": false
  }
 },
 "nbformat": 4,
 "nbformat_minor": 5
}
