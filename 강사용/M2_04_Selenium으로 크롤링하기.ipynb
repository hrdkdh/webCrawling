{
 "cells": [
  {
   "cell_type": "markdown",
   "metadata": {},
   "source": [
    "### 연습1) Selenium으로 클릭하기\n",
    "##### 실제 네이버(https://www.naver.com) 웹 사이트에 접속하여, 메인에 있는 웹툰 버튼을 클릭해 웹툰 홈페이지로 이동하는 코드를 작성해 봅시다."
   ]
  },
  {
   "cell_type": "code",
   "execution_count": null,
   "metadata": {},
   "outputs": [],
   "source": [
    "from selenium import webdriver\n",
    "from selenium.webdriver.common.by import By\n",
    "\n",
    "#아래에 코드 작성\n",
    "driver = webdriver.Chrome(\"chromedriver\")\n",
    "driver.get(\"https://www.naver.com\")\n",
    "selector = \"#NM_FAVORITE > div.group_nav > ul.list_nav.NM_FAVORITE_LIST > li:nth-child(8) > a\"\n",
    "driver.find_element(By.CSS_SELECTOR, selector).click()"
   ]
  },
  {
   "cell_type": "markdown",
   "metadata": {},
   "source": [
    "### 연습2) Selenium으로 문자 입력하기\n",
    "##### 네이버 뉴스 페이지(https://news.naver.com)에 접속하여 검색어 입력창에 '포스코'를 입력하고, 검색 버튼을 클릭해 포스코 관련 뉴스를 출력하는 코드를 작성해 봅시다."
   ]
  },
  {
   "cell_type": "code",
   "execution_count": null,
   "metadata": {},
   "outputs": [],
   "source": [
    "from selenium import webdriver\n",
    "from selenium.webdriver.common.by import By\n",
    "\n",
    "#아래에 코드 작성\n",
    "driver = webdriver.Chrome(\"chromedriver\")\n",
    "driver.get(\"https://news.naver.com\")\n",
    "driver.find_element(By.CSS_SELECTOR, \"div.Ngnb_tool > a\").click()\n",
    "driver.find_element(By.CSS_SELECTOR, \"#u_hs > div > div > input\").send_keys(\"포스코\")\n",
    "driver.find_element(By.CSS_SELECTOR, \"button.u_hssbt.u_hssbt_ss._submit_btn\").click()"
   ]
  },
  {
   "cell_type": "markdown",
   "metadata": {},
   "source": [
    "### 실전 연습1\n",
    "##### Selenium 모듈을 이용해 교보문고 베스트셀러 페이지로 접속한 다음, 월간 > 소설 항목으로 접속하여 베스트셀러의 제목들을 출력해 보세요.\n",
    "##### 링크 : https://www.kyobobook.co.kr/bestSellerNew/bestseller.laf"
   ]
  },
  {
   "cell_type": "code",
   "execution_count": null,
   "metadata": {},
   "outputs": [],
   "source": [
    "from selenium import webdriver\n",
    "from selenium.webdriver.common.by import By\n",
    "\n",
    "#아래에 코드 작성\n",
    "driver = webdriver.Chrome(\"chromedriver\")\n",
    "driver.get(\"https://www.kyobobook.co.kr/bestSellerNew/bestseller.laf\")\n",
    "driver.find_element(By.CSS_SELECTOR, \"#main_snb > div.nav_category > ul > li:nth-child(1) > ul > li.on > a\").click()\n",
    "driver.find_element(By.CSS_SELECTOR, \"#main_contents > div.box_sub_category.fixed_sub_category > ul > li:nth-child(2) > a\").click()\n",
    "\n",
    "book_titles = driver.find_elements(By.CSS_SELECTOR, \".list_type01 .title a strong\")\n",
    "for book_title in book_titles:\n",
    "    print(book_title.text)"
   ]
  },
  {
   "cell_type": "markdown",
   "metadata": {},
   "source": [
    "### 실전 연습2\n",
    "##### Selenium 모듈을 이용해 네이버 '철강용어사전'으로 접속한 다음, 첫 화면에 나온 표제어들의 제목들을 출력해 보세요\n",
    "##### 링크 : https://terms.naver.com/list.naver?cid=67995&categoryId=67995"
   ]
  },
  {
   "cell_type": "code",
   "execution_count": null,
   "metadata": {},
   "outputs": [],
   "source": [
    "from selenium import webdriver\n",
    "from selenium.webdriver.common.by import By\n",
    "\n",
    "#아래에 코드 작성\n",
    "driver = webdriver.Chrome(\"chromedriver\")\n",
    "\n",
    "driver.get(\"https://terms.naver.com/list.naver?cid=67995&categoryId=67995\")\n",
    "titles = driver.find_elements(By.CSS_SELECTOR, \".content_list .title a:nth-child(1)\")\n",
    "\n",
    "for title in titles:\n",
    "    print(title.text)"
   ]
  }
 ],
 "metadata": {
  "kernelspec": {
   "display_name": "Python 3",
   "language": "python",
   "name": "python3"
  },
  "language_info": {
   "codemirror_mode": {
    "name": "ipython",
    "version": 3
   },
   "file_extension": ".py",
   "mimetype": "text/x-python",
   "name": "python",
   "nbconvert_exporter": "python",
   "pygments_lexer": "ipython3",
   "version": "3.6.5"
  }
 },
 "nbformat": 4,
 "nbformat_minor": 5
}
