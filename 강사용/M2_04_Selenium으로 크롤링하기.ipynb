{
 "cells": [
  {
   "attachments": {},
   "cell_type": "markdown",
   "id": "ab36eee1",
   "metadata": {},
   "source": [
    "### 연습1\n",
    "##### 실제 네이버(https://www.naver.com) 웹 사이트에 접속하여, 메인에 있는 웹툰 버튼을 클릭해 웹툰 홈페이지로 이동하는 코드를 작성해 봅시다."
   ]
  },
  {
   "cell_type": "code",
   "execution_count": null,
   "id": "c8dc92b0",
   "metadata": {},
   "outputs": [],
   "source": [
    "from selenium import webdriver\n",
    "\n",
    "#아래에 코드 작성\n",
    "driver = webdriver.Chrome(\"chromedriver.exe\")\n",
    "driver.get(\"https://www.naver.com\")\n",
    "driver.find_element_by_css_selector(\"#NM_FAVORITE > div.group_nav > ul.list_nav.NM_FAVORITE_LIST > li:nth-child(8) > a\").click()"
   ]
  },
  {
   "cell_type": "markdown",
   "id": "cf2d09b4",
   "metadata": {},
   "source": [
    "### 연습2\n",
    "##### 네이버 뉴스 페이지(https://news.naver.com)에 접속하여 검색어 입력창에 '포스코'를 입력하고, 검색 버튼을 클릭해 포스코 관련 뉴스를 출력하는 코드를 작성해 봅시다."
   ]
  },
  {
   "cell_type": "code",
   "execution_count": null,
   "id": "7d7d9057",
   "metadata": {},
   "outputs": [],
   "source": [
    "from selenium import webdriver\n",
    "\n",
    "#아래에 코드 작성\n",
    "driver = webdriver.Chrome(\"chromedriver.exe\")\n",
    "driver.get(\"https://news.naver.com\")\n",
    "driver.find_element_by_css_selector(\"#lnb\\.searchForm > fieldset > input.text_index\").send_keys(\"포스코\")\n",
    "driver.find_element_by_css_selector(\"#lnb\\.searchForm > fieldset > button\").click()"
   ]
  }
 ],
 "metadata": {
  "kernelspec": {
   "display_name": "Python 3",
   "language": "python",
   "name": "python3"
  },
  "language_info": {
   "codemirror_mode": {
    "name": "ipython",
    "version": 3
   },
   "file_extension": ".py",
   "mimetype": "text/x-python",
   "name": "python",
   "nbconvert_exporter": "python",
   "pygments_lexer": "ipython3",
   "version": "3.7.9"
  }
 },
 "nbformat": 4,
 "nbformat_minor": 5
}
